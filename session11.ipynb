{
 "cells": [
  {
   "cell_type": "code",
   "execution_count": 1,
   "id": "eb4eca8c",
   "metadata": {},
   "outputs": [
    {
     "name": "stdout",
     "output_type": "stream",
     "text": [
      "3\n"
     ]
    }
   ],
   "source": [
    "import mymath\n",
    "print(mymath.add(1,2))"
   ]
  },
  {
   "cell_type": "code",
   "execution_count": 1,
   "id": "b923b181",
   "metadata": {},
   "outputs": [
    {
     "name": "stdout",
     "output_type": "stream",
     "text": [
      "[0, 1, 1, 2, 3]\n"
     ]
    }
   ],
   "source": [
    "import numbersmodule\n",
    "n = int(input(\"Enter the number: \"))\n",
    "print(numbersmodule.fib_series(n))"
   ]
  },
  {
   "cell_type": "code",
   "execution_count": 12,
   "id": "1c141cd7",
   "metadata": {},
   "outputs": [
    {
     "name": "stdout",
     "output_type": "stream",
     "text": [
      "Employee Details are here:  1 priyanka 12000000 mumbai\n",
      "Employee Details are here:  2 sada 1000000 pune\n",
      "Incremented Salary is:  1050000.0\n",
      "Employee Details are here:  2 sada 1050000.0 pune\n"
     ]
    }
   ],
   "source": [
    "class Employee:\n",
    "    \n",
    "    def __init__(self,id,name,salary,city):\n",
    "        self.id=id\n",
    "        self.name=name\n",
    "        self.salary=salary\n",
    "        self.city=city\n",
    "    def print_details(self):\n",
    "        print(\"Employee Details are here: \",self.id,self.name,self.salary,self.city)\n",
    "\n",
    "    def performance_increment(self,rating):\n",
    "        if rating <5:\n",
    "            self.salary = self.salary +((self.salary*2)/100)\n",
    "        elif rating>=6 and rating<=8:\n",
    "            self.salary = self.salary +((self.salary*5)/100)\n",
    "        elif rating>=9 and rating<=10:\n",
    "            self.salary = self.salary +((self.salary*10)/100)\n",
    "        print(\"Incremented Salary is: \",self.salary)\n",
    "\n",
    "\n",
    "        \n",
    "employee = Employee(1,\"priyanka\",12000000,\"mumbai\")\n",
    "employee.print_details()\n",
    "employee2 = Employee(2,\"sada\",1000000,\"pune\")\n",
    "employee2.print_details()\n",
    "employee2.performance_increment(8)\n",
    "employee2.print_details()"
   ]
  },
  {
   "cell_type": "code",
   "execution_count": null,
   "id": "599ee265",
   "metadata": {},
   "outputs": [],
   "source": [
    "# 💳 Program 1: BankAccount Class\n",
    "# Objective: Create a class BankAccount to represent a simple bank account.\n",
    "# The class should allow:\n",
    "\n",
    "# Depositing money\n",
    "# Withdrawing money\n",
    "# Checking balance\n",
    "# 🧱 Class Design:\n",
    "# Attributes: account_ID, balance\n",
    "# Methods:\n",
    "# deposit(amount)\n",
    "# withdraw(amount)\n",
    "# print_details(): print account ID and current balance"
   ]
  },
  {
   "cell_type": "code",
   "execution_count": null,
   "id": "b159f6e6",
   "metadata": {},
   "outputs": [],
   "source": [
    "# 📚 Program 2: Book Class (Library Management)\n",
    "# Objective: Create a class Book to track library books.\n",
    "\n",
    "# 🧱 Class Design:\n",
    "# Attributes: title, author, available\n",
    "# Methods:\n",
    "# borrow_book(): Yes, available, you can borrow"
   ]
  },
  {
   "cell_type": "code",
   "execution_count": null,
   "id": "c9855fa1",
   "metadata": {},
   "outputs": [],
   "source": [
    "# 🛍️ Program 3: Product Class for a Shopping Cart System (Advanced Version)\n",
    "# Objective:\n",
    "# Simulate a real-world shopping cart using classes.\n",
    "# We'll create a Product class that can:\n",
    "# Track name, price, quantity, category, and discount\n",
    "# Print a detailed product summary\n",
    "# Compute total price with or without discount\n",
    "# Allow updating price, quantity, or applying discount\n",
    "# 🔧 Class Design:\n",
    "# Attributes:\n",
    "# name: str\n",
    "# price: float\n",
    "# quantity: int\n",
    "# category: str (e.g. Electronics, Grocery)\n",
    "# discount: float (percentage, default 0)\n",
    "# Methods:\n",
    "# total_cost() – returns cost before discount\n",
    "# apply_discount(discount_to_be_done) – returns discounted cost\n",
    "# update_quantity(new_qty) – sets new quantity\n",
    "# update_price(new_price) – sets new price\n",
    "# print_summary() – prints all product details\n",
    "# 🧪 Example Test Case:\n",
    "# product1 = Product(\"Bluetooth Speaker\", 2500, 2, \"Electronics\")\n",
    "# product1.print_summary()\n",
    "\n",
    "# product1.apply_discount(10)  # Apply 10% discount\n",
    "# product1.update_quantity(3)\n",
    "# product1.print_summary()"
   ]
  }
 ],
 "metadata": {
  "kernelspec": {
   "display_name": "Python 3",
   "language": "python",
   "name": "python3"
  },
  "language_info": {
   "codemirror_mode": {
    "name": "ipython",
    "version": 3
   },
   "file_extension": ".py",
   "mimetype": "text/x-python",
   "name": "python",
   "nbconvert_exporter": "python",
   "pygments_lexer": "ipython3",
   "version": "3.10.11"
  }
 },
 "nbformat": 4,
 "nbformat_minor": 5
}
