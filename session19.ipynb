{
 "cells": [
  {
   "cell_type": "code",
   "execution_count": 5,
   "id": "bd322aa4",
   "metadata": {},
   "outputs": [],
   "source": [
    "datafile = open(\"data.txt\",mode=\"r\")\n",
    "datacotent = datafile.read()\n",
    "datacotent=datacotent.replace(\"Yash\",\"Priyanka\")\n",
    "datafile.close()\n",
    "newfile = open(\"copy2.txt\",mode=\"w+\")\n",
    "newfile.write(datacotent)\n",
    "newfile.close()"
   ]
  },
  {
   "cell_type": "code",
   "execution_count": 12,
   "id": "73d0fb42",
   "metadata": {},
   "outputs": [],
   "source": [
    "def isprime(lists):\n",
    "    with open(\"prime.txt\", \"a\") as newfile:\n",
    "      is_prime = False\n",
    "      for each in lists:\n",
    "        for each2 in range(2,each):\n",
    "            if each% each2 ==0:\n",
    "                is_prime = False\n",
    "            else:\n",
    "                is_prime = True\n",
    "        if is_prime:\n",
    "            newfile.write(\"{each}prime number\")\n",
    "        else:\n",
    "            newfile.write(\"{each}not prime number\")\n",
    "\n",
    "\n",
    "\n",
    "isprime([1,2,3,4,5,6])"
   ]
  },
  {
   "cell_type": "code",
   "execution_count": null,
   "id": "61084376",
   "metadata": {},
   "outputs": [],
   "source": []
  }
 ],
 "metadata": {
  "kernelspec": {
   "display_name": "Python 3",
   "language": "python",
   "name": "python3"
  },
  "language_info": {
   "codemirror_mode": {
    "name": "ipython",
    "version": 3
   },
   "file_extension": ".py",
   "mimetype": "text/x-python",
   "name": "python",
   "nbconvert_exporter": "python",
   "pygments_lexer": "ipython3",
   "version": "3.10.11"
  }
 },
 "nbformat": 4,
 "nbformat_minor": 5
}
