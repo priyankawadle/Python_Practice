{
 "cells": [
  {
   "cell_type": "code",
   "execution_count": 5,
   "id": "0279274b",
   "metadata": {},
   "outputs": [
    {
     "data": {
      "text/plain": [
       "'red'"
      ]
     },
     "execution_count": 5,
     "metadata": {},
     "output_type": "execute_result"
    }
   ],
   "source": [
    "colors = [\"red\",\"green\",\"pink\"]\n",
    "iter_color = iter(colors)\n",
    "iter_color.__next__()"
   ]
  },
  {
   "cell_type": "code",
   "execution_count": 6,
   "id": "de1e4bc8",
   "metadata": {},
   "outputs": [
    {
     "data": {
      "text/plain": [
       "'green'"
      ]
     },
     "execution_count": 6,
     "metadata": {},
     "output_type": "execute_result"
    }
   ],
   "source": [
    "iter_color.__next__()"
   ]
  },
  {
   "cell_type": "code",
   "execution_count": 8,
   "id": "4c3a7381",
   "metadata": {},
   "outputs": [
    {
     "data": {
      "text/plain": [
       "'Page 1: Intro'"
      ]
     },
     "execution_count": 8,
     "metadata": {},
     "output_type": "execute_result"
    }
   ],
   "source": [
    "class Book:\n",
    "    def __init__(self, pages):\n",
    "        self.pages = pages\n",
    "        self.index = 0\n",
    "\n",
    "    def __iter__(self):\n",
    "        return self\n",
    "\n",
    "    def __next__(self):\n",
    "        if self.index < len(self.pages):\n",
    "            result = self.pages[self.index]\n",
    "            self.index += 1\n",
    "            return result\n",
    "        else :\n",
    "            raise StopIteration\n",
    "\n",
    "\n",
    "\n",
    "# Sample usage:\n",
    "pages = [\"Page 1: Intro\", \"Page 2: OOP\", \"Page 3: Exceptions\"]\n",
    "book = Book(pages)\n",
    "book.__next__()"
   ]
  },
  {
   "cell_type": "code",
   "execution_count": 10,
   "id": "20493cb9",
   "metadata": {},
   "outputs": [
    {
     "data": {
      "text/plain": [
       "5"
      ]
     },
     "execution_count": 10,
     "metadata": {},
     "output_type": "execute_result"
    }
   ],
   "source": [
    "class MultiplesOf:\n",
    "    def __init__(self,number,count):\n",
    "        self.number = number\n",
    "        self.count = count\n",
    "        self.increment = 1\n",
    "\n",
    "    def __iter__(self):\n",
    "        return self\n",
    "    \n",
    "    def __next__(self):\n",
    "        if self.increment <= self.count:\n",
    "            result = self.number * self.increment\n",
    "            self.increment += 1\n",
    "            return result\n",
    "        else:\n",
    "            raise StopIteration\n",
    "        \n",
    "multiplesOf =  MultiplesOf(5, 4)\n",
    "multiplesOf.__next__()\n"
   ]
  },
  {
   "cell_type": "code",
   "execution_count": 14,
   "id": "0e27f443",
   "metadata": {},
   "outputs": [
    {
     "ename": "StopIteration",
     "evalue": "",
     "output_type": "error",
     "traceback": [
      "\u001b[1;31m---------------------------------------------------------------------------\u001b[0m",
      "\u001b[1;31mStopIteration\u001b[0m                             Traceback (most recent call last)",
      "Cell \u001b[1;32mIn[14], line 1\u001b[0m\n\u001b[1;32m----> 1\u001b[0m \u001b[43mmultiplesOf\u001b[49m\u001b[38;5;241;43m.\u001b[39;49m\u001b[38;5;21;43m__next__\u001b[39;49m\u001b[43m(\u001b[49m\u001b[43m)\u001b[49m\n",
      "Cell \u001b[1;32mIn[10], line 16\u001b[0m, in \u001b[0;36mMultiplesOf.__next__\u001b[1;34m(self)\u001b[0m\n\u001b[0;32m     14\u001b[0m     \u001b[38;5;28;01mreturn\u001b[39;00m result\n\u001b[0;32m     15\u001b[0m \u001b[38;5;28;01melse\u001b[39;00m:\n\u001b[1;32m---> 16\u001b[0m     \u001b[38;5;28;01mraise\u001b[39;00m \u001b[38;5;167;01mStopIteration\u001b[39;00m\n",
      "\u001b[1;31mStopIteration\u001b[0m: "
     ]
    }
   ],
   "source": [
    "multiplesOf.__next__()"
   ]
  }
 ],
 "metadata": {
  "kernelspec": {
   "display_name": "Python 3",
   "language": "python",
   "name": "python3"
  },
  "language_info": {
   "codemirror_mode": {
    "name": "ipython",
    "version": 3
   },
   "file_extension": ".py",
   "mimetype": "text/x-python",
   "name": "python",
   "nbconvert_exporter": "python",
   "pygments_lexer": "ipython3",
   "version": "3.10.11"
  }
 },
 "nbformat": 4,
 "nbformat_minor": 5
}
