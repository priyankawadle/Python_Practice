{
 "cells": [
  {
   "cell_type": "code",
   "execution_count": 1,
   "id": "39360eb9",
   "metadata": {},
   "outputs": [
    {
     "name": "stdout",
     "output_type": "stream",
     "text": [
      "314.1592653589793\n",
      "62.83185307179586\n"
     ]
    }
   ],
   "source": [
    "from geometry import circle as c\n",
    "\n",
    "circle_prop = c.Circle(10)\n",
    "print(circle_prop.area())\n",
    "print(circle_prop.circumfrence())"
   ]
  },
  {
   "cell_type": "code",
   "execution_count": 2,
   "id": "8a16a25e",
   "metadata": {},
   "outputs": [
    {
     "name": "stdout",
     "output_type": "stream",
     "text": [
      "20000\n",
      "600\n"
     ]
    }
   ],
   "source": [
    "from geometry import rectangle as r\n",
    "\n",
    "rect_prop = r.Rectangle(100,200)\n",
    "print(rect_prop.area())\n",
    "print(rect_prop.circumfrence())"
   ]
  },
  {
   "cell_type": "code",
   "execution_count": 2,
   "id": "780ad5ec",
   "metadata": {},
   "outputs": [
    {
     "name": "stdout",
     "output_type": "stream",
     "text": [
      "187.5\n",
      "60\n"
     ]
    }
   ],
   "source": [
    "from geometry import triangle as t\n",
    "\n",
    "triangle_obj = t.Triangle(10,20,30,15,25)\n",
    "print(triangle_obj.area)\n",
    "print(triangle_obj.perimeter)"
   ]
  },
  {
   "cell_type": "code",
   "execution_count": 4,
   "id": "5f0ef860",
   "metadata": {},
   "outputs": [
    {
     "name": "stdout",
     "output_type": "stream",
     "text": [
      "40000\n",
      "800\n"
     ]
    }
   ],
   "source": [
    "from geometry import square as s\n",
    "\n",
    "square_obj = s.Square(200)\n",
    "print(square_obj.area())\n",
    "print(square_obj.perimeter())"
   ]
  }
 ],
 "metadata": {
  "kernelspec": {
   "display_name": "Python 3",
   "language": "python",
   "name": "python3"
  },
  "language_info": {
   "codemirror_mode": {
    "name": "ipython",
    "version": 3
   },
   "file_extension": ".py",
   "mimetype": "text/x-python",
   "name": "python",
   "nbconvert_exporter": "python",
   "pygments_lexer": "ipython3",
   "version": "3.10.11"
  }
 },
 "nbformat": 4,
 "nbformat_minor": 5
}
