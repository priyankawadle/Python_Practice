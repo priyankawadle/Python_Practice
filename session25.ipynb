{
 "cells": [
  {
   "cell_type": "code",
   "execution_count": 2,
   "id": "8783c069",
   "metadata": {},
   "outputs": [],
   "source": [
    "import numpy as np"
   ]
  },
  {
   "cell_type": "code",
   "execution_count": 4,
   "id": "aaf33262",
   "metadata": {},
   "outputs": [],
   "source": [
    "berlin=np.array([100,120,90]) #hotel,food,transport\n",
    "paris=np.array([200,210,180])\n",
    "rome=np.array([210,230,120])"
   ]
  },
  {
   "cell_type": "code",
   "execution_count": 5,
   "id": "786a7824",
   "metadata": {},
   "outputs": [
    {
     "name": "stdout",
     "output_type": "stream",
     "text": [
      "310 310 560\n"
     ]
    }
   ],
   "source": [
    "#Total per city\n",
    "sum_berlin = berlin.sum()\n",
    "sum_paris = berlin.sum()\n",
    "sum_rome = rome.sum()\n",
    "\n",
    "print(sum_berlin,sum_paris,sum_rome)"
   ]
  },
  {
   "cell_type": "code",
   "execution_count": 9,
   "id": "516479f5",
   "metadata": {},
   "outputs": [
    {
     "name": "stdout",
     "output_type": "stream",
     "text": [
      "162.2222222222222\n"
     ]
    }
   ],
   "source": [
    "#Average Trip Cost\n",
    "avg_berlin = berlin.mean()\n",
    "avg_paris = paris.mean()\n",
    "avg_rome  = rome.mean()\n",
    "avg_cost = np.array([avg_berlin,avg_paris,avg_rome]).mean()\n",
    "\n",
    "print(avg_cost)"
   ]
  },
  {
   "cell_type": "code",
   "execution_count": 10,
   "id": "546523e6",
   "metadata": {},
   "outputs": [
    {
     "data": {
      "text/plain": [
       "array([[100, 120,  90],\n",
       "       [200, 210, 180],\n",
       "       [210, 230, 120]])"
      ]
     },
     "execution_count": 10,
     "metadata": {},
     "output_type": "execute_result"
    }
   ],
   "source": [
    "# Average cost of Hotel and Food in all 3 cities and\n",
    "narray = np.array([berlin,paris,rome])\n",
    "narray"
   ]
  },
  {
   "cell_type": "code",
   "execution_count": 11,
   "id": "72626d8e",
   "metadata": {},
   "outputs": [
    {
     "data": {
      "text/plain": [
       "array([170.        , 186.66666667, 130.        ])"
      ]
     },
     "execution_count": 11,
     "metadata": {},
     "output_type": "execute_result"
    }
   ],
   "source": [
    "array_mean_columns = narray.mean(axis=0)\n",
    "array_mean_columns"
   ]
  },
  {
   "cell_type": "code",
   "execution_count": 12,
   "id": "d62115cb",
   "metadata": {},
   "outputs": [
    {
     "data": {
      "text/plain": [
       "array([103.33333333, 196.66666667, 186.66666667])"
      ]
     },
     "execution_count": 12,
     "metadata": {},
     "output_type": "execute_result"
    }
   ],
   "source": [
    "array_mean_row = narray.mean(axis=1)\n",
    "array_mean_row"
   ]
  },
  {
   "cell_type": "code",
   "execution_count": 14,
   "id": "b17b9a7d",
   "metadata": {},
   "outputs": [],
   "source": [
    "factory_data=[[50, 30],   # Factory 1\n",
    "[40, 60],   # Factory 2\n",
    "[70, 20]]   # Factory 3\n",
    "factory_data = np.array(factory_data)"
   ]
  },
  {
   "cell_type": "markdown",
   "id": "9039c93b",
   "metadata": {},
   "source": [
    "Cost per product:\n",
    "\n",
    "    A-> INR 5\n",
    "    B-> INR 8\n",
    "Calculate total cost per factory\n",
    "\n",
    "Calculate total units of A and B across all factories\n",
    "\n",
    "What is the overall cost?"
   ]
  },
  {
   "cell_type": "code",
   "execution_count": 19,
   "id": "cfb81e0a",
   "metadata": {},
   "outputs": [],
   "source": [
    "cost_per_product=np.array([5,8])"
   ]
  },
  {
   "cell_type": "code",
   "execution_count": 24,
   "id": "855052de",
   "metadata": {},
   "outputs": [],
   "source": [
    "# Calculate total cost per factory\n",
    "total_cost_per_factory = np.dot(factory_data,cost_per_product)"
   ]
  },
  {
   "cell_type": "code",
   "execution_count": 22,
   "id": "f51a418f",
   "metadata": {},
   "outputs": [
    {
     "data": {
      "text/plain": [
       "array([160, 110])"
      ]
     },
     "execution_count": 22,
     "metadata": {},
     "output_type": "execute_result"
    }
   ],
   "source": [
    "# Calculate total units of A and B across all factories\n",
    "np.sum(factory_data,axis=0)\n"
   ]
  },
  {
   "cell_type": "code",
   "execution_count": 25,
   "id": "55d88833",
   "metadata": {},
   "outputs": [
    {
     "data": {
      "text/plain": [
       "1680"
      ]
     },
     "execution_count": 25,
     "metadata": {},
     "output_type": "execute_result"
    }
   ],
   "source": [
    "# What is the overall cost?\n",
    "np.sum(total_cost_per_factory)"
   ]
  },
  {
   "cell_type": "code",
   "execution_count": null,
   "id": "e668de09",
   "metadata": {},
   "outputs": [],
   "source": [
    "# x + 2y + z = 10\n",
    "# 3x + y + 2z = 18\n",
    "# 2x + 3y + 3z = 27\n",
    "# 1.Represent this in NumPy arrays\n",
    "\n",
    "# 2.Solve it using np.linalg.solve()"
   ]
  },
  {
   "cell_type": "code",
   "execution_count": 34,
   "id": "a4185f01",
   "metadata": {},
   "outputs": [
    {
     "data": {
      "text/plain": [
       "array([[1, 2, 1],\n",
       "       [3, 1, 2],\n",
       "       [2, 3, 3]])"
      ]
     },
     "execution_count": 34,
     "metadata": {},
     "output_type": "execute_result"
    }
   ],
   "source": [
    "A = np.array([[1,2,1],[3,1,2],[2,3,3]])\n",
    "A"
   ]
  },
  {
   "cell_type": "code",
   "execution_count": 36,
   "id": "6ca32ccf",
   "metadata": {},
   "outputs": [
    {
     "data": {
      "text/plain": [
       "array([10, 18, 27])"
      ]
     },
     "execution_count": 36,
     "metadata": {},
     "output_type": "execute_result"
    }
   ],
   "source": [
    "b = np.array([10,18,27])\n",
    "b"
   ]
  },
  {
   "cell_type": "code",
   "execution_count": 37,
   "id": "18b69057",
   "metadata": {},
   "outputs": [
    {
     "data": {
      "text/plain": [
       "array([0.5       , 0.83333333, 7.83333333])"
      ]
     },
     "execution_count": 37,
     "metadata": {},
     "output_type": "execute_result"
    }
   ],
   "source": [
    "np.linalg.solve(A,b)"
   ]
  },
  {
   "cell_type": "code",
   "execution_count": null,
   "id": "7c51700d",
   "metadata": {},
   "outputs": [],
   "source": [
    "#  Question 1: Element-wise Operations (Basic)\n",
    "# Create a NumPy array of numbers from 1 to 10.\n",
    "# Now:\n",
    "\n",
    "# Square each element\n",
    "# Replace all even numbers with 0\n",
    "# Print the final array"
   ]
  },
  {
   "cell_type": "code",
   "execution_count": 40,
   "id": "4b7127e3",
   "metadata": {},
   "outputs": [
    {
     "data": {
      "text/plain": [
       "array([[ 0,  1,  2,  3,  4,  5,  6,  7,  8,  9, 10]])"
      ]
     },
     "execution_count": 40,
     "metadata": {},
     "output_type": "execute_result"
    }
   ],
   "source": [
    "basic =np.array([range(0,11)])\n",
    "basic"
   ]
  },
  {
   "cell_type": "code",
   "execution_count": 42,
   "id": "3800d225",
   "metadata": {},
   "outputs": [
    {
     "data": {
      "text/plain": [
       "array([[  0,   1,   4,   9,  16,  25,  36,  49,  64,  81, 100]])"
      ]
     },
     "execution_count": 42,
     "metadata": {},
     "output_type": "execute_result"
    }
   ],
   "source": [
    "# Square each element\n",
    "square_basic =np.square(basic)\n",
    "square_basic"
   ]
  },
  {
   "cell_type": "code",
   "execution_count": 44,
   "id": "954ace27",
   "metadata": {},
   "outputs": [
    {
     "data": {
      "text/plain": [
       "array([[ 0,  1,  0,  9,  0, 25,  0, 49,  0, 81,  0]])"
      ]
     },
     "execution_count": 44,
     "metadata": {},
     "output_type": "execute_result"
    }
   ],
   "source": [
    "# Replace all even numbers with 0\n",
    "square_basic[square_basic % 2 == 0 ] =0\n",
    "square_basic"
   ]
  },
  {
   "cell_type": "code",
   "execution_count": 45,
   "id": "616568c2",
   "metadata": {},
   "outputs": [
    {
     "data": {
      "text/plain": [
       "array([10, 50, 90])"
      ]
     },
     "execution_count": 45,
     "metadata": {},
     "output_type": "execute_result"
    }
   ],
   "source": [
    "# 📗 Question 2: Matrix Diagonal & Trace (Intermediate)\n",
    "\n",
    "matrix = np.array([\n",
    "    [10, 20, 30],\n",
    "    [40, 50, 60],\n",
    "    [70, 80, 90]\n",
    "])\n",
    "np.diagonal(matrix)"
   ]
  },
  {
   "cell_type": "code",
   "execution_count": 46,
   "id": "d9a52c44",
   "metadata": {},
   "outputs": [
    {
     "data": {
      "text/plain": [
       "150"
      ]
     },
     "execution_count": 46,
     "metadata": {},
     "output_type": "execute_result"
    }
   ],
   "source": [
    "np.trace(matrix)"
   ]
  },
  {
   "cell_type": "code",
   "execution_count": 51,
   "id": "3ad725ae",
   "metadata": {},
   "outputs": [],
   "source": [
    "# Question 3: Boolean Masking (Intermediate)\n",
    "temps = np.array([22, 25, 19, 30, 28, 15, 24], dtype=float)\n",
    "# Filter out all temperatures above 25°C\n",
    "# Replace all values < 20°C with np.nan"
   ]
  },
  {
   "cell_type": "code",
   "execution_count": 52,
   "id": "d47eba43",
   "metadata": {},
   "outputs": [
    {
     "data": {
      "text/plain": [
       "array([30., 28.])"
      ]
     },
     "execution_count": 52,
     "metadata": {},
     "output_type": "execute_result"
    }
   ],
   "source": [
    "above_25 = temps[temps > 25]\n",
    "above_25"
   ]
  },
  {
   "cell_type": "code",
   "execution_count": 53,
   "id": "66f0bf5d",
   "metadata": {},
   "outputs": [
    {
     "data": {
      "text/plain": [
       "array([22., 25., nan, 30., 28., nan, 24.])"
      ]
     },
     "execution_count": 53,
     "metadata": {},
     "output_type": "execute_result"
    }
   ],
   "source": [
    "temps[temps < 20] = np.nan\n",
    "temps"
   ]
  }
 ],
 "metadata": {
  "kernelspec": {
   "display_name": "Python 3",
   "language": "python",
   "name": "python3"
  },
  "language_info": {
   "codemirror_mode": {
    "name": "ipython",
    "version": 3
   },
   "file_extension": ".py",
   "mimetype": "text/x-python",
   "name": "python",
   "nbconvert_exporter": "python",
   "pygments_lexer": "ipython3",
   "version": "3.10.11"
  }
 },
 "nbformat": 4,
 "nbformat_minor": 5
}
