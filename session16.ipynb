{
 "cells": [
  {
   "cell_type": "code",
   "execution_count": 20,
   "id": "0c7af6a5",
   "metadata": {},
   "outputs": [
    {
     "name": "stdout",
     "output_type": "stream",
     "text": [
      "25\n"
     ]
    }
   ],
   "source": [
    "square = lambda num: num*num\n",
    "print(square(5))"
   ]
  },
  {
   "cell_type": "code",
   "execution_count": 21,
   "id": "8af6079f",
   "metadata": {},
   "outputs": [
    {
     "name": "stdout",
     "output_type": "stream",
     "text": [
      "Yash-Saxena\n"
     ]
    }
   ],
   "source": [
    "list_of_names=['Yash Saxena','Atul Joshi','Anupam Shrivastava']\n",
    "replace_space = lambda name: name.replace(\" \",\"-\")\n",
    "print(replace_space(list_of_names[0]))"
   ]
  },
  {
   "cell_type": "code",
   "execution_count": 22,
   "id": "b3e1d3a0",
   "metadata": {},
   "outputs": [
    {
     "data": {
      "text/plain": [
       "['Yash-Saxena', 'Atul-Joshi', 'Anupam-Shrivastava']"
      ]
     },
     "execution_count": 22,
     "metadata": {},
     "output_type": "execute_result"
    }
   ],
   "source": [
    "list(map(replace_space,list_of_names))"
   ]
  },
  {
   "cell_type": "code",
   "execution_count": 23,
   "id": "5b1c4beb",
   "metadata": {},
   "outputs": [
    {
     "data": {
      "text/plain": [
       "['Yash-Saxena', 'Atul-Joshi', 'Anupam-Shrivastava']"
      ]
     },
     "execution_count": 23,
     "metadata": {},
     "output_type": "execute_result"
    }
   ],
   "source": [
    "list(map(lambda name: name.replace(\" \",\"-\"),list_of_names))"
   ]
  },
  {
   "cell_type": "code",
   "execution_count": 6,
   "id": "91ce345a",
   "metadata": {},
   "outputs": [
    {
     "name": "stdout",
     "output_type": "stream",
     "text": [
      "(10.6, 0.6)\n"
     ]
    }
   ],
   "source": [
    "simple_interest = lambda p,r,t :   (round((p*r*t)/100,2) + p, round((p*r*t)/100,2) )\n",
    "print(simple_interest(10,2,3))"
   ]
  },
  {
   "cell_type": "code",
   "execution_count": 26,
   "id": "38a7287b",
   "metadata": {},
   "outputs": [
    {
     "name": "stdout",
     "output_type": "stream",
     "text": [
      "2\n",
      "Not a prime num\n"
     ]
    }
   ],
   "source": [
    "#Prime number\n",
    "num=48\n",
    "cnt=0\n",
    "for each in range(2,num):\n",
    "  print(each)\n",
    "  if num%each==0:\n",
    "    cnt+=1\n",
    "    break\n",
    "if cnt==0:\n",
    "  print(\"Prime\")\n",
    "else:\n",
    "  print(\"Not a prime num\")\n"
   ]
  },
  {
   "cell_type": "code",
   "execution_count": 32,
   "id": "770f0b48",
   "metadata": {},
   "outputs": [
    {
     "name": "stdout",
     "output_type": "stream",
     "text": [
      "True\n"
     ]
    }
   ],
   "source": [
    "is_prime = lambda num : len([each for each in range(2,(num//2)+1) if num % each == 0] )== 0\n",
    "print(is_prime(47))"
   ]
  },
  {
   "cell_type": "code",
   "execution_count": 37,
   "id": "f7a7d1a7",
   "metadata": {},
   "outputs": [
    {
     "name": "stdout",
     "output_type": "stream",
     "text": [
      "6 is perfect number\n"
     ]
    }
   ],
   "source": [
    "#Perfect Number\n",
    "def is_perfect_number(num):\n",
    "    sum = 0\n",
    "    for each in range(1,num):\n",
    "        if num % each == 0:\n",
    "            sum = sum + each\n",
    "    if num == sum:\n",
    "        print(num,\"is perfect number\")\n",
    "    else:\n",
    "        print(num,\"is not perfect number\")\n",
    "\n",
    "is_perfect_number(6)"
   ]
  },
  {
   "cell_type": "code",
   "execution_count": 40,
   "id": "ab8519ed",
   "metadata": {},
   "outputs": [
    {
     "name": "stdout",
     "output_type": "stream",
     "text": [
      "False\n"
     ]
    }
   ],
   "source": [
    "isperfectnumber = lambda num:sum([ each for each in range(1,num) if num % each == 0]) == num\n",
    "print(isperfectnumber(60))"
   ]
  },
  {
   "cell_type": "code",
   "execution_count": 54,
   "id": "55864283",
   "metadata": {},
   "outputs": [
    {
     "name": "stdout",
     "output_type": "stream",
     "text": [
      "[6, 28, 496]\n"
     ]
    }
   ],
   "source": [
    "\n",
    "print(list(filter(isperfectnumber,range(1,1001))))"
   ]
  },
  {
   "cell_type": "code",
   "execution_count": 12,
   "id": "0149523e",
   "metadata": {},
   "outputs": [
    {
     "name": "stdout",
     "output_type": "stream",
     "text": [
      "['priyanka', 'sadanand', 'vijyalaxmi']\n"
     ]
    }
   ],
   "source": [
    "words = [\"priyanka\",\"wadle\",\"sadanand\",\"vijyalaxmi\"]\n",
    "list_words = [word for word in words if len(word)>5]\n",
    "\n",
    "print(list_words)"
   ]
  },
  {
   "cell_type": "code",
   "execution_count": 57,
   "id": "4db14cc0",
   "metadata": {},
   "outputs": [
    {
     "name": "stdout",
     "output_type": "stream",
     "text": [
      "['priyanka', 'sadanand', 'vijyalaxmi']\n"
     ]
    }
   ],
   "source": [
    "checkLength = lambda word : len(word)>5 \n",
    "print(list(filter(checkLength,words)))\n"
   ]
  },
  {
   "cell_type": "code",
   "execution_count": 14,
   "id": "66608f3d",
   "metadata": {},
   "outputs": [
    {
     "name": "stdout",
     "output_type": "stream",
     "text": [
      "['priyanka', 'sadanand', 'vijyalaxmi']\n"
     ]
    }
   ],
   "source": [
    "words = [\"priyanka\",\"wadle\",\"sadanand\",\"vijyalaxmi\"]\n",
    "output = list(filter( lambda word: len(word)>5,words))\n",
    "print(output)"
   ]
  },
  {
   "cell_type": "code",
   "execution_count": 58,
   "id": "2cf1cad7",
   "metadata": {},
   "outputs": [
    {
     "name": "stdout",
     "output_type": "stream",
     "text": [
      "[True, False, True, True]\n"
     ]
    }
   ],
   "source": [
    "words = [\"priyanka\",\"wadle\",\"sadanand\",\"vijyalaxmi\"]\n",
    "output1 = list(map( lambda word: len(word)>5,words))\n",
    "print(output1)"
   ]
  },
  {
   "cell_type": "code",
   "execution_count": null,
   "id": "785c34d4",
   "metadata": {},
   "outputs": [
    {
     "name": "stdout",
     "output_type": "stream",
     "text": [
      "[2, 3, 5, 7, 11, 13, 17, 19, 23, 29, 31, 37, 41, 43, 47, 53, 59, 61, 67, 71, 73, 79, 83, 89, 97]\n"
     ]
    }
   ],
   "source": [
    "# 1. Use filter() and lambda to return only prime numbers from a given list.\n",
    "nums = list(range(2, 101))\n",
    "#     output=[2, 3, 5, 7, 11, 13, 17, 19, 23, 29, 31, 37, 41, 43, 47, 53, 59, 61, 67, 71, 73, 79, 83, 89, 97]\n",
    "\n",
    "list_prime = lambda num : len([each for each in range(2,num) if num % each == 0] )==0\n",
    "print(list(filter(list_prime,nums)))"
   ]
  },
  {
   "cell_type": "code",
   "execution_count": 78,
   "id": "629081e7",
   "metadata": {},
   "outputs": [
    {
     "name": "stdout",
     "output_type": "stream",
     "text": [
      "['lambda', 'python', 'EXTRAORDINARY', 'filter', 'FUNCTIONALITY']\n"
     ]
    }
   ],
   "source": [
    "# 2. Capitalize Long Words: Use map() and lambda to capitalize all words with more than 6 characters. Keep others unchanged.\n",
    "words = [\"lambda\", \"python\", \"extraordinary\", \"filter\", \"functionality\"]\n",
    "#     output=[\"lambda\", \"python\", \"EXTRAORDINARY\", \"filter\", \"FUNCTIONALITY\"]\n",
    "\n",
    "capitlize_word = lambda word : word.upper() if len(word)>6 else word\n",
    "print(list(map(capitlize_word,words)))"
   ]
  },
  {
   "cell_type": "code",
   "execution_count": null,
   "id": "a7495e18",
   "metadata": {},
   "outputs": [
    {
     "name": "stdout",
     "output_type": "stream",
     "text": [
      "0 0.0\n",
      "1 20.0\n",
      "2 60.0\n",
      "3 120.0\n",
      "4 200.0\n",
      "[1000.0, 1800.0, 2400.0, 2800.0, 3000.0]\n"
     ]
    }
   ],
   "source": [
    "# 3. Apply Tiered Discounts Based on Index\n",
    "# You are given a list of prices. Apply a discount: 0% for the 1st item, 10% for the 2nd, 20% for the 3rd, etc. Use map() and enumerate() with lambda.\n",
    "prices = [1000, 2000, 3000, 4000, 5000]\n",
    "#     output=[1000.0, 1800.0, 2400.0, 2800.0, 3000.0]\n",
    "def price_after_discount(prices):\n",
    "    list_price = []\n",
    "    for i,value in enumerate(prices):\n",
    "        cal_price = value - (value *((int(i)*10)/100))\n",
    "        list_price.append(cal_price)\n",
    "    return list_price\n",
    "\n",
    "        \n",
    "\n",
    "print(price_after_discount(prices))\n"
   ]
  },
  {
   "cell_type": "code",
   "execution_count": 102,
   "id": "e87ddf16",
   "metadata": {},
   "outputs": [
    {
     "name": "stdout",
     "output_type": "stream",
     "text": [
      "[1000.0, 1800.0, 2400.0, 2800.0, 3000.0]\n"
     ]
    }
   ],
   "source": [
    "fun1 = lambda value: value[1] - (value[1] *((int(value[0])*10)/100))\n",
    "iterator = enumerate(prices)\n",
    "print(list(map(fun1,iterator)))"
   ]
  },
  {
   "cell_type": "code",
   "execution_count": 109,
   "id": "15e37739",
   "metadata": {},
   "outputs": [
    {
     "name": "stdout",
     "output_type": "stream",
     "text": [
      "['radar', 'level', 'refer']\n"
     ]
    }
   ],
   "source": [
    "# 4. Filter Palindromes: Use filter() and lambda to return only the words that are palindromes.\n",
    "words = [\"radar\", \"python\", \"level\", \"java\", \"refer\"]\n",
    "#     [\"radar\", \"level\", \"refer\"]\n",
    "check_palindrome = lambda word :  word == word[::-1]\n",
    "print(list(filter(check_palindrome,words)))"
   ]
  },
  {
   "cell_type": "code",
   "execution_count": 110,
   "id": "8ff02554",
   "metadata": {},
   "outputs": [
    {
     "name": "stdout",
     "output_type": "stream",
     "text": [
      "['Even', 'Odd', 'Odd', 'Even & > 50', 'Even', 'Odd']\n"
     ]
    }
   ],
   "source": [
    "# 5. Conditional Labeling of Numbers\n",
    "# Use map() and lambda to return a list of labels:\n",
    "# \"Even & > 50\" if number is even and greater than 50,\n",
    "# \"Even\" if even and ≤ 50,\n",
    "# \"Odd\" otherwise.\n",
    "nums = [10, 53, 67, 88, 42, 99]\n",
    "#     output= [\"Even\", \"Odd\", \"Odd\", \"Even & > 50\", \"Even\", \"Odd\"]\n",
    "\n",
    "conditional_label = lambda x : \"Even & > 50\" if x >50 and x %2 == 0 else \"Even\" if x %2 == 0 and x <= 50 else \"Odd\"\n",
    "\n",
    "print(list(map(conditional_label,nums)))"
   ]
  },
  {
   "cell_type": "code",
   "execution_count": 112,
   "id": "85fcef4b",
   "metadata": {},
   "outputs": [
    {
     "name": "stdout",
     "output_type": "stream",
     "text": [
      "['2025-12-25', '2024-01-01', '2023-08-15']\n"
     ]
    }
   ],
   "source": [
    "# 6. Use map() and lambda to convert date strings from \"DD/MM/YYYY\" format to \"YYYY-MM-DD\".\n",
    "dates = [\"25/12/2025\", \"01/01/2024\", \"15/08/2023\"]\n",
    "#     output=[\"2025-12-25\", \"2024-01-01\", \"2023-08-15\"]\n",
    "\n",
    "format_date = lambda input_date: \"-\".join(input_date.split(\"/\")[::-1])\n",
    "print(list(map(format_date,dates)))\n",
    "\n",
    "\n"
   ]
  },
  {
   "cell_type": "code",
   "execution_count": null,
   "id": "070326dc",
   "metadata": {},
   "outputs": [],
   "source": [
    "# 7. Filter Nested Lists Based on Even Numbers\n",
    "# You are given a list of lists. Use filter() and lambda to return only those sublists that contain more than one even number.\n",
    "input  = [[1, 2, 3], [4, 6, 8], [1, 3, 5], [2, 4], [7]]\n",
    "#     output=[[4, 6, 8], [2, 4]]"
   ]
  }
 ],
 "metadata": {
  "kernelspec": {
   "display_name": "Python 3",
   "language": "python",
   "name": "python3"
  },
  "language_info": {
   "codemirror_mode": {
    "name": "ipython",
    "version": 3
   },
   "file_extension": ".py",
   "mimetype": "text/x-python",
   "name": "python",
   "nbconvert_exporter": "python",
   "pygments_lexer": "ipython3",
   "version": "3.10.11"
  }
 },
 "nbformat": 4,
 "nbformat_minor": 5
}
