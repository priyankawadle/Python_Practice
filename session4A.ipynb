{
 "cells": [
  {
   "cell_type": "code",
   "execution_count": 1,
   "id": "ab9f50b4-d2fd-49af-b81e-1489a1a2ce95",
   "metadata": {},
   "outputs": [
    {
     "name": "stdout",
     "output_type": "stream",
     "text": [
      "2\n",
      "4\n",
      "6\n",
      "8\n",
      "10\n",
      "12\n",
      "14\n",
      "16\n",
      "18\n",
      "20\n",
      "Loop has ended.\n"
     ]
    }
   ],
   "source": [
    "# Print each character of a string \"PYTHON\" using a loop.\n",
    "counter = 1\n",
    "number = 2\n",
    "while counter <= 10:\n",
    "    print(number)\n",
    "    number += 2  # Increment the number by 2 to get the next even number\n",
    "    counter += 1  # Increment the counter by 1\n",
    "\n",
    "print(\"Loop has ended.\")"
   ]
  },
  {
   "cell_type": "code",
   "execution_count": 3,
   "id": "399ccf44-1fa3-47f5-be12-dc4428101d61",
   "metadata": {},
   "outputs": [
    {
     "name": "stdin",
     "output_type": "stream",
     "text": [
      "Enter the number: 4\n"
     ]
    },
    {
     "name": "stdout",
     "output_type": "stream",
     "text": [
      "10\n"
     ]
    }
   ],
   "source": [
    "# Sum of numbers from 1 to N, where N is user input.\n",
    "n = int(input(\"Enter the number:\"))\n",
    "sum = 0\n",
    "for each in range(1,n+1):\n",
    "    sum += each\n",
    "print(sum)\n",
    "    "
   ]
  },
  {
   "cell_type": "code",
   "execution_count": 5,
   "id": "0ba950ab-7131-4941-87e1-9aa78f1f7800",
   "metadata": {},
   "outputs": [
    {
     "name": "stdout",
     "output_type": "stream",
     "text": [
      "1\n",
      "2\n",
      "3\n",
      "4\n",
      "6\n",
      "7\n",
      "8\n",
      "9\n",
      "10\n"
     ]
    }
   ],
   "source": [
    "# Use continue to skip number 5 in a loop from 1 to 10.\n",
    "for each in range(1,10+1):\n",
    "    if each == 5:\n",
    "        continue\n",
    "    else:\n",
    "        print(each)"
   ]
  },
  {
   "cell_type": "code",
   "execution_count": 6,
   "id": "ba27a3c4-82bc-4f4b-86da-779bcf4b9b9f",
   "metadata": {},
   "outputs": [
    {
     "name": "stdout",
     "output_type": "stream",
     "text": [
      "1\n",
      "2\n",
      "3\n",
      "4\n",
      "5\n",
      "6\n"
     ]
    }
   ],
   "source": [
    "# Use break to stop printing numbers when you reach 7.\n",
    "for each in range(1,10+1):\n",
    "    if each == 7:\n",
    "        break\n",
    "    else:\n",
    "        print(each)"
   ]
  },
  {
   "cell_type": "code",
   "execution_count": 7,
   "id": "396c4b25-dbbd-4151-a16c-48410e1d00df",
   "metadata": {},
   "outputs": [
    {
     "name": "stdout",
     "output_type": "stream",
     "text": [
      "18\n",
      "24\n",
      "42\n",
      "48\n"
     ]
    }
   ],
   "source": [
    "# Print all numbers from 1 to 50 that are divisible by both 3 and 5.\n",
    "for each in range(1,50+1):\n",
    "    if each % 3 == 0 and each & 5 == 0:\n",
    "        print(each)"
   ]
  },
  {
   "cell_type": "code",
   "execution_count": 43,
   "id": "283b89d5-d482-4006-93fe-64c7a0c4956f",
   "metadata": {},
   "outputs": [
    {
     "name": "stdin",
     "output_type": "stream",
     "text": [
      "Enter the number: 5\n"
     ]
    },
    {
     "name": "stdout",
     "output_type": "stream",
     "text": [
      "120\n"
     ]
    }
   ],
   "source": [
    "# Find the factorial of a number using a while loop.\n",
    "num = int(input(\"Enter the number:\"))\n",
    "fact = 1\n",
    "count = 1\n",
    "while count <= num:\n",
    "        fact = fact *count\n",
    "        count = count + 1\n",
    "print(fact)"
   ]
  },
  {
   "cell_type": "code",
   "execution_count": 14,
   "id": "e2dcd38d-df92-4ba9-9d6d-e41f14610618",
   "metadata": {},
   "outputs": [
    {
     "name": "stdin",
     "output_type": "stream",
     "text": [
      "Enter the number: 5\n"
     ]
    },
    {
     "name": "stdout",
     "output_type": "stream",
     "text": [
      "[5, 10, 15, 20, 25, 30, 35, 40, 45, 50]\n"
     ]
    }
   ],
   "source": [
    "# Create a multiplication table for a number up to 10.\n",
    "num = int(input(\"Enter the number:\"))\n",
    "table_list = []\n",
    "for each in range(1,10+1):\n",
    "    table_list.append(num*each)\n",
    "print(table_list)\n",
    "    "
   ]
  },
  {
   "cell_type": "code",
   "execution_count": 15,
   "id": "5efeda1d-266a-4762-a7e5-a30de078facf",
   "metadata": {},
   "outputs": [
    {
     "name": "stdin",
     "output_type": "stream",
     "text": [
      "Enter the number: 123\n"
     ]
    },
    {
     "name": "stdout",
     "output_type": "stream",
     "text": [
      "6\n"
     ]
    }
   ],
   "source": [
    "# Print the sum of digits of a number (e.g. 123 → 1+2+3 = 6).\n",
    "num = (input(\"Enter the number:\"))\n",
    "length = len(num)\n",
    "num = int(num)\n",
    "sum =0\n",
    "for each in range(1,length+1):\n",
    "    sum += each\n",
    "print(sum)"
   ]
  },
  {
   "cell_type": "code",
   "execution_count": 19,
   "id": "b24014ef-1739-4693-a684-53532595f2fb",
   "metadata": {},
   "outputs": [
    {
     "name": "stdin",
     "output_type": "stream",
     "text": [
      "Enter the number: 1234\n"
     ]
    },
    {
     "name": "stdout",
     "output_type": "stream",
     "text": [
      "24\n"
     ]
    }
   ],
   "source": [
    "# Print the product of digits of a number (e.g. 123 → 123 = 6).\n",
    "num = (input(\"Enter the number:\"))\n",
    "length = len(num)\n",
    "num = int(num)\n",
    "product =1\n",
    "for each in range(1,length+1):\n",
    "    product *= each\n",
    "print(product)"
   ]
  },
  {
   "cell_type": "code",
   "execution_count": 23,
   "id": "a502998c-8d00-42fa-96b1-efbe3fd5a328",
   "metadata": {},
   "outputs": [
    {
     "name": "stdout",
     "output_type": "stream",
     "text": [
      "[2, 3, 5, 7, 11, 13, 17, 19, 23, 29, 31, 37, 41, 43, 47, 53, 59, 61, 67, 71, 73, 79, 83, 89, 97]\n"
     ]
    }
   ],
   "source": [
    "prime_list = []\n",
    "\n",
    "# Loop through numbers from 2 to 100\n",
    "for num in range(2, 101):\n",
    "    is_prime = True\n",
    "    # Check if num is divisible by any number from 2 to sqrt(num)\n",
    "    for each in range(2, int(num**0.5) + 1):\n",
    "        if num % each == 0:\n",
    "            is_prime = False\n",
    "            break\n",
    "    if is_prime:\n",
    "        prime_list.append(num)\n",
    "\n",
    "print(prime_list)"
   ]
  },
  {
   "cell_type": "code",
   "execution_count": 40,
   "id": "4a313aea-1d0e-49d8-a5c9-968e39f645b3",
   "metadata": {},
   "outputs": [
    {
     "name": "stdin",
     "output_type": "stream",
     "text": [
      "Enter the number: 7\n"
     ]
    },
    {
     "name": "stdout",
     "output_type": "stream",
     "text": [
      "[0, 1, 1, 2, 3, 5, 8]\n"
     ]
    }
   ],
   "source": [
    "# Fibonacci series up to the Nth term (as list output).\n",
    "num = int(input(\"Enter the number:\"))\n",
    "a,b=0,1\n",
    "fib_list = []\n",
    "fib_list.append(a)\n",
    "fib_list.append(b)\n",
    "\n",
    "for each in range(2,num):\n",
    "    sum = a+b\n",
    "    fib_list.append(sum)\n",
    "    a=b\n",
    "    b=sum\n",
    "print(fib_list)"
   ]
  },
  {
   "cell_type": "code",
   "execution_count": null,
   "id": "f5fe0dc7-0093-47af-9e4e-19a7f3240da2",
   "metadata": {},
   "outputs": [],
   "source": [
    "# Find the first number > 100 that is divisible by 7 and 11 (use break).\n",
    "\n",
    "\n"
   ]
  },
  {
   "cell_type": "code",
   "execution_count": 36,
   "id": "7d3dbd1e-477d-40b0-b775-37f9ac16089f",
   "metadata": {},
   "outputs": [
    {
     "name": "stdin",
     "output_type": "stream",
     "text": [
      "Enter the string: wadle\n"
     ]
    },
    {
     "name": "stdout",
     "output_type": "stream",
     "text": [
      "2\n"
     ]
    }
   ],
   "source": [
    "# Count the number of vowels in a given string (ignore case).\n",
    "string = str(input(\"Enter the string:\")).lower()\n",
    "count = 0;\n",
    "for each in string:\n",
    "    if each in [\"a\",\"e\",\"i\",\"o\",\"u\"]:\n",
    "        count = count +1\n",
    "print(count)\n",
    "        \n",
    "        "
   ]
  },
  {
   "cell_type": "code",
   "execution_count": 31,
   "id": "715272f4-6db7-40dc-b580-20980e43238d",
   "metadata": {},
   "outputs": [
    {
     "name": "stdin",
     "output_type": "stream",
     "text": [
      "Enter the number: 121\n"
     ]
    },
    {
     "name": "stdout",
     "output_type": "stream",
     "text": [
      "Number is palindrome\n"
     ]
    }
   ],
   "source": [
    "# Check if a number is a palindrome (e.g., 121 → palindrome).\n",
    "num = int(input(\"Enter the number:\"))\n",
    "num1=num\n",
    "reversed_num =0\n",
    "while num >0:\n",
    "        digit = num % 10  \n",
    "        reversed_num = reversed_num * 10 + digit  \n",
    "        num = num // 10 \n",
    "if reversed_num == num1:\n",
    "    print(\"Number is palindrome\")\n",
    "else:\n",
    "    print(\"Number is not palindrome\",reversed_num,num1)"
   ]
  },
  {
   "cell_type": "code",
   "execution_count": 27,
   "id": "b9f5a908-c0c0-46cd-bdcc-1a843dc36f02",
   "metadata": {},
   "outputs": [
    {
     "name": "stdin",
     "output_type": "stream",
     "text": [
      "Enter the number: 123\n"
     ]
    },
    {
     "name": "stdout",
     "output_type": "stream",
     "text": [
      "321\n"
     ]
    }
   ],
   "source": [
    "# Reverse the digits of a number using a while loop.\n",
    "num = int(input(\"Enter the number:\"))\n",
    "reversed_num =0\n",
    "while num >0:\n",
    "        digit = num % 10  \n",
    "        reversed_num = reversed_num * 10 + digit  \n",
    "        num = num // 10 \n",
    "print(reversed_num)\n",
    "    "
   ]
  },
  {
   "cell_type": "code",
   "execution_count": null,
   "id": "01c1433d-3482-48b9-b235-0d24c8ef3c43",
   "metadata": {},
   "outputs": [],
   "source": []
  }
 ],
 "metadata": {
  "kernelspec": {
   "display_name": "anaconda-panel-2023.05-py310",
   "language": "python",
   "name": "conda-env-anaconda-panel-2023.05-py310-py"
  },
  "language_info": {
   "codemirror_mode": {
    "name": "ipython",
    "version": 3
   },
   "file_extension": ".py",
   "mimetype": "text/x-python",
   "name": "python",
   "nbconvert_exporter": "python",
   "pygments_lexer": "ipython3",
   "version": "3.11.5"
  }
 },
 "nbformat": 4,
 "nbformat_minor": 5
}
