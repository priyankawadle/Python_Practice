{
 "cells": [
  {
   "cell_type": "code",
   "execution_count": null,
   "id": "584dd4d4",
   "metadata": {},
   "outputs": [
    {
     "name": "stdout",
     "output_type": "stream",
     "text": [
      "True\n",
      "False\n",
      "1000000\n"
     ]
    }
   ],
   "source": [
    "class Wallet:\n",
    "    def __init__(self,name,balance):\n",
    "        self.name = name\n",
    "        self.balance = balance\n",
    "    \n",
    "    def __sub__(self,other):\n",
    "        return self.balance - other.balance\n",
    "    def __gt__(self,other):\n",
    "        if self.balance > other.balance:\n",
    "            return True\n",
    "        else:\n",
    "            return False\n",
    "    \n",
    "w1 = Wallet(\"priyanka\",6000000)\n",
    "w2 = Wallet(\"sonu\",    5000000)\n",
    "print(w1>w2)\n",
    "print(w1-w2)\n",
    "        "
   ]
  },
  {
   "cell_type": "code",
   "execution_count": 11,
   "id": "8f7d1789",
   "metadata": {},
   "outputs": [
    {
     "name": "stdout",
     "output_type": "stream",
     "text": [
      "Not a match in names\n"
     ]
    }
   ],
   "source": [
    "class CartItem:\n",
    "    def __init__(self,name,unit_price,quantity):\n",
    "        self.name = name\n",
    "        self.unit_price = unit_price\n",
    "        self.quantity = quantity\n",
    "\n",
    "    def __add__(self,other):\n",
    "        if self.name == other.name:\n",
    "            return self.quantity+other.quantity\n",
    "        else:\n",
    "         return \"Not a match in names\"\n",
    "    \n",
    "cartitem1 = CartItem(\"priyanka\",2000,10)\n",
    "cartitem2 = CartItem(\"priywanka\",3000,20)\n",
    "print(cartitem1+cartitem2)\n"
   ]
  },
  {
   "cell_type": "code",
   "execution_count": 19,
   "id": "7e8053af",
   "metadata": {},
   "outputs": [
    {
     "name": "stdout",
     "output_type": "stream",
     "text": [
      "5500.0\n"
     ]
    }
   ],
   "source": [
    "# Ques1. Create a class Invoice with:\n",
    "# Attributes: _unit_price, _quantity, _tax_rate\n",
    "# Requirements:\n",
    "# Use @property for total_amount:\n",
    "#     total=unit_price×quantity×(1+tax_rate)\n",
    "# Use rounding for 2 decimal places\n",
    "\n",
    "class Invoice:\n",
    "    def __init__(self,unit_price,quantity,tax_rate):\n",
    "        self._unit_price = unit_price\n",
    "        self._quantity = quantity\n",
    "        self._tax_rate = tax_rate\n",
    "\n",
    "    @property\n",
    "    def total(self):\n",
    "        return round(self._quantity * self._unit_price*(1+self._tax_rate/100),2)\n",
    "invoice = Invoice(1000,5,10)\n",
    "print(invoice.total)"
   ]
  },
  {
   "cell_type": "code",
   "execution_count": 21,
   "id": "be9400a4",
   "metadata": {},
   "outputs": [
    {
     "name": "stdout",
     "output_type": "stream",
     "text": [
      "12.43\n"
     ]
    }
   ],
   "source": [
    "# Ques 2: Create a class Distance with:\n",
    "# Attribute _km\n",
    "# Requirements:\n",
    "# Create a @property called miles to convert km to miles (1 km = 0.621371)\n",
    "\n",
    "class Distance:\n",
    "    def __init__(self,km):\n",
    "        self._km = km\n",
    "\n",
    "    @property\n",
    "    def convert_intomiles(self):\n",
    "        return round(self._km * 0.621371,2)\n",
    "    \n",
    "distance = Distance(20)\n",
    "print(distance.convert_intomiles)"
   ]
  }
 ],
 "metadata": {
  "kernelspec": {
   "display_name": "Python 3",
   "language": "python",
   "name": "python3"
  },
  "language_info": {
   "codemirror_mode": {
    "name": "ipython",
    "version": 3
   },
   "file_extension": ".py",
   "mimetype": "text/x-python",
   "name": "python",
   "nbconvert_exporter": "python",
   "pygments_lexer": "ipython3",
   "version": "3.10.11"
  }
 },
 "nbformat": 4,
 "nbformat_minor": 5
}
