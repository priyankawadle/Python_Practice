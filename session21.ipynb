{
 "cells": [
  {
   "cell_type": "code",
   "execution_count": 16,
   "id": "5d190295",
   "metadata": {},
   "outputs": [
    {
     "name": "stdout",
     "output_type": "stream",
     "text": [
      "Total amount:  1070\n",
      "Number of valid persons:  3\n",
      "Name of valid persons:  ['Charlie', 'David', 'Eve']\n",
      "Share per person:  356.67\n"
     ]
    }
   ],
   "source": [
    "import datetime\n",
    "log_file_name=\"dinners_error.txt\"\n",
    "log_file=open(log_file_name,mode=\"a\")\n",
    "filename=\"dinner_bill.txt\"\n",
    "details_dict = {}\n",
    "total =0\n",
    "try:\n",
    "    with open(filename,mode=\"r\") as dinnerfile:\n",
    "        all_lines = dinnerfile.readlines()\n",
    "\n",
    "    details = [ each.replace(\"\\n\",\"\").split(\",\") for each in all_lines]\n",
    "\n",
    "    \n",
    "    for name,item,price in details:\n",
    "            try:\n",
    "             price = int(price)\n",
    "\n",
    "            except ValueError:\n",
    "              message = \"Error for \"+name +\" reason for: price must be convertable to integer\"\n",
    "              log_file.write(message+\"\\n\")\n",
    "            else: \n",
    "             if price > 0:\n",
    "                details_dict[name]=(item,price)\n",
    "                total+=price\n",
    "             else:\n",
    "                 message =  \"Error for \"+name +\" reason for: price must be greater than zero\"\n",
    "                 log_file.write(message+\"\\n\")\n",
    "\n",
    "\n",
    "except FileNotFoundError:\n",
    "    current_time = str(datetime.datetime.now())\n",
    "    message = \"File not found: \"+ \"__\" + current_time + \"\\n\"\n",
    "    log_file.write(message+\"\\n\")\n",
    "    \n",
    "num_of_valid_persons = len(details_dict)\n",
    "share_per_person = total / num_of_valid_persons\n",
    "print(\"Total amount: \", total)\n",
    "print(\"Number of valid persons: \", num_of_valid_persons)\n",
    "print(\"Name of valid persons: \", list(details_dict.keys()))\n",
    "print(\"Share per person: \", round(share_per_person,2))\n",
    "\n",
    "\n",
    "log_file.close()\n"
   ]
  },
  {
   "cell_type": "code",
   "execution_count": 29,
   "id": "755d0977",
   "metadata": {},
   "outputs": [
    {
     "name": "stdout",
     "output_type": "stream",
     "text": [
      "['Alice,Pizza,0\\n', 'Bob,Burger,not_available\\n', 'Charlie,Pasta,400\\n', 'David,Fries,120\\n', 'Eve,Steak,550\\n', 'Frank,IceCream,abc']\n"
     ]
    }
   ],
   "source": [
    "log_file_name = \"dinners_error.txt\"\n",
    "def read_data(filename):\n",
    "    try:\n",
    "        with open(filename,\"r\") as dinnerfile:\n",
    "          all_lines = dinnerfile.readlines()\n",
    "    except FileNotFoundError:\n",
    "        message = \"File not found: \"\n",
    "        logging(message)\n",
    "    else:\n",
    "     return all_lines\n",
    "    \n",
    "def logging(message,mode=\"a\"): \n",
    "      current_time = str(datetime.datetime.now())\n",
    "      message = message + \"__\" + current_time + \"\\n\"\n",
    "      with open(log_file_name,mode) as logfile:\n",
    "        logfile.write(message+\"\\n\")\n",
    "\n",
    "print(read_data(\"dinner_bill.txt\")   ) \n"
   ]
  }
 ],
 "metadata": {
  "kernelspec": {
   "display_name": "Python 3",
   "language": "python",
   "name": "python3"
  },
  "language_info": {
   "codemirror_mode": {
    "name": "ipython",
    "version": 3
   },
   "file_extension": ".py",
   "mimetype": "text/x-python",
   "name": "python",
   "nbconvert_exporter": "python",
   "pygments_lexer": "ipython3",
   "version": "3.10.11"
  }
 },
 "nbformat": 4,
 "nbformat_minor": 5
}
