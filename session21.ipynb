{
 "cells": [
  {
   "cell_type": "code",
   "execution_count": 16,
   "id": "5d190295",
   "metadata": {},
   "outputs": [
    {
     "name": "stdout",
     "output_type": "stream",
     "text": [
      "Total amount:  1070\n",
      "Number of valid persons:  3\n",
      "Name of valid persons:  ['Charlie', 'David', 'Eve']\n",
      "Share per person:  356.67\n"
     ]
    }
   ],
   "source": [
    "import datetime\n",
    "log_file_name=\"dinners_error.txt\"\n",
    "log_file=open(log_file_name,mode=\"a\")\n",
    "filename=\"dinner_bill.txt\"\n",
    "details_dict = {}\n",
    "total =0\n",
    "try:\n",
    "    with open(filename,mode=\"r\") as dinnerfile:\n",
    "        all_lines = dinnerfile.readlines()\n",
    "\n",
    "    details = [ each.replace(\"\\n\",\"\").split(\",\") for each in all_lines]\n",
    "\n",
    "    \n",
    "    for name,item,price in details:\n",
    "            try:\n",
    "             price = int(price)\n",
    "\n",
    "            except ValueError:\n",
    "              message = \"Error for \"+name +\" reason for: price must be convertable to integer\"\n",
    "              log_file.write(message+\"\\n\")\n",
    "            else: \n",
    "             if price > 0:\n",
    "                details_dict[name]=(item,price)\n",
    "                total+=price\n",
    "             else:\n",
    "                 message =  \"Error for \"+name +\" reason for: price must be greater than zero\"\n",
    "                 log_file.write(message+\"\\n\")\n",
    "\n",
    "\n",
    "except FileNotFoundError:\n",
    "    current_time = str(datetime.datetime.now())\n",
    "    message = \"File not found: \"+ \"__\" + current_time + \"\\n\"\n",
    "    log_file.write(message+\"\\n\")\n",
    "    \n",
    "num_of_valid_persons = len(details_dict)\n",
    "share_per_person = total / num_of_valid_persons\n",
    "print(\"Total amount: \", total)\n",
    "print(\"Number of valid persons: \", num_of_valid_persons)\n",
    "print(\"Name of valid persons: \", list(details_dict.keys()))\n",
    "print(\"Share per person: \", round(share_per_person,2))\n",
    "\n",
    "\n",
    "log_file.close()\n"
   ]
  },
  {
   "cell_type": "code",
   "execution_count": 23,
   "id": "755d0977",
   "metadata": {},
   "outputs": [
    {
     "ename": "ValueError",
     "evalue": "I/O operation on closed file.",
     "output_type": "error",
     "traceback": [
      "\u001b[1;31m---------------------------------------------------------------------------\u001b[0m",
      "\u001b[1;31mFileNotFoundError\u001b[0m                         Traceback (most recent call last)",
      "Cell \u001b[1;32mIn[23], line 4\u001b[0m, in \u001b[0;36mread_data\u001b[1;34m(filename)\u001b[0m\n\u001b[0;32m      3\u001b[0m \u001b[38;5;28;01mtry\u001b[39;00m:\n\u001b[1;32m----> 4\u001b[0m     \u001b[38;5;28;01mwith\u001b[39;00m \u001b[38;5;28;43mopen\u001b[39;49m\u001b[43m(\u001b[49m\u001b[43mfilename\u001b[49m\u001b[43m,\u001b[49m\u001b[43mmode\u001b[49m\u001b[38;5;241;43m=\u001b[39;49m\u001b[38;5;124;43m\"\u001b[39;49m\u001b[38;5;124;43mr\u001b[39;49m\u001b[38;5;124;43m\"\u001b[39;49m\u001b[43m)\u001b[49m \u001b[38;5;28;01mas\u001b[39;00m dinnerfile:\n\u001b[0;32m      5\u001b[0m       all_lines \u001b[38;5;241m=\u001b[39m dinnerfile\u001b[38;5;241m.\u001b[39mreadlines()\n",
      "File \u001b[1;32m~\\AppData\\Roaming\\Python\\Python310\\site-packages\\IPython\\core\\interactiveshell.py:324\u001b[0m, in \u001b[0;36m_modified_open\u001b[1;34m(file, *args, **kwargs)\u001b[0m\n\u001b[0;32m    318\u001b[0m     \u001b[38;5;28;01mraise\u001b[39;00m \u001b[38;5;167;01mValueError\u001b[39;00m(\n\u001b[0;32m    319\u001b[0m         \u001b[38;5;124mf\u001b[39m\u001b[38;5;124m\"\u001b[39m\u001b[38;5;124mIPython won\u001b[39m\u001b[38;5;124m'\u001b[39m\u001b[38;5;124mt let you open fd=\u001b[39m\u001b[38;5;132;01m{\u001b[39;00mfile\u001b[38;5;132;01m}\u001b[39;00m\u001b[38;5;124m by default \u001b[39m\u001b[38;5;124m\"\u001b[39m\n\u001b[0;32m    320\u001b[0m         \u001b[38;5;124m\"\u001b[39m\u001b[38;5;124mas it is likely to crash IPython. If you know what you are doing, \u001b[39m\u001b[38;5;124m\"\u001b[39m\n\u001b[0;32m    321\u001b[0m         \u001b[38;5;124m\"\u001b[39m\u001b[38;5;124myou can use builtins\u001b[39m\u001b[38;5;124m'\u001b[39m\u001b[38;5;124m open.\u001b[39m\u001b[38;5;124m\"\u001b[39m\n\u001b[0;32m    322\u001b[0m     )\n\u001b[1;32m--> 324\u001b[0m \u001b[38;5;28;01mreturn\u001b[39;00m io_open(file, \u001b[38;5;241m*\u001b[39margs, \u001b[38;5;241m*\u001b[39m\u001b[38;5;241m*\u001b[39mkwargs)\n",
      "\u001b[1;31mFileNotFoundError\u001b[0m: [Errno 2] No such file or directory: 'dinner_bills.txt'",
      "\nDuring handling of the above exception, another exception occurred:\n",
      "\u001b[1;31mValueError\u001b[0m                                Traceback (most recent call last)",
      "Cell \u001b[1;32mIn[23], line 20\u001b[0m\n\u001b[0;32m     17\u001b[0m       \u001b[38;5;28;01mwith\u001b[39;00m \u001b[38;5;28mopen\u001b[39m(log_file_name,mode) \u001b[38;5;28;01mas\u001b[39;00m logfile:\n\u001b[0;32m     18\u001b[0m         logfile\u001b[38;5;241m.\u001b[39mwrite(message\u001b[38;5;241m+\u001b[39m\u001b[38;5;124m\"\u001b[39m\u001b[38;5;130;01m\\n\u001b[39;00m\u001b[38;5;124m\"\u001b[39m)\n\u001b[1;32m---> 20\u001b[0m \u001b[38;5;28mprint\u001b[39m(\u001b[43mread_data\u001b[49m\u001b[43m(\u001b[49m\u001b[38;5;124;43m\"\u001b[39;49m\u001b[38;5;124;43mdinner_bills.txt\u001b[39;49m\u001b[38;5;124;43m\"\u001b[39;49m\u001b[43m)\u001b[49m   ) \n\u001b[0;32m     21\u001b[0m log_file_name\u001b[38;5;241m.\u001b[39mclose()\n",
      "Cell \u001b[1;32mIn[23], line 10\u001b[0m, in \u001b[0;36mread_data\u001b[1;34m(filename)\u001b[0m\n\u001b[0;32m      8\u001b[0m \u001b[38;5;28;01mexcept\u001b[39;00m \u001b[38;5;167;01mFileNotFoundError\u001b[39;00m:\n\u001b[0;32m      9\u001b[0m     message \u001b[38;5;241m=\u001b[39m \u001b[38;5;124m\"\u001b[39m\u001b[38;5;124mFile not found: \u001b[39m\u001b[38;5;124m\"\u001b[39m\n\u001b[1;32m---> 10\u001b[0m     \u001b[43mlog_file\u001b[49m\u001b[38;5;241;43m.\u001b[39;49m\u001b[43mwrite\u001b[49m\u001b[43m(\u001b[49m\u001b[43mmessage\u001b[49m\u001b[38;5;241;43m+\u001b[39;49m\u001b[38;5;124;43m\"\u001b[39;49m\u001b[38;5;130;43;01m\\n\u001b[39;49;00m\u001b[38;5;124;43m\"\u001b[39;49m\u001b[43m)\u001b[49m\n\u001b[0;32m     11\u001b[0m     logging(message,mode\u001b[38;5;241m=\u001b[39m\u001b[38;5;124m\"\u001b[39m\u001b[38;5;124ma\u001b[39m\u001b[38;5;124m\"\u001b[39m)\n\u001b[0;32m     12\u001b[0m     \u001b[38;5;28;01mreturn\u001b[39;00m \u001b[38;5;28;01mNone\u001b[39;00m\n",
      "\u001b[1;31mValueError\u001b[0m: I/O operation on closed file."
     ]
    }
   ],
   "source": [
    "log_file_name = \"dinners_error.txt\"\n",
    "def read_data(filename):\n",
    "    try:\n",
    "        with open(filename,mode=\"r\") as dinnerfile:\n",
    "          all_lines = dinnerfile.readlines()\n",
    "          details = [ each.replace(\"\\n\",\"\").split(\",\") for each in all_lines]\n",
    "          return details\n",
    "    except FileNotFoundError:\n",
    "        message = \"File not found: \"\n",
    "        log_file.write(message+\"\\n\")\n",
    "        logging(message,mode=\"a\")\n",
    "        return None\n",
    "    \n",
    "def logging(message,mode=\"a\"): \n",
    "      current_time = str(datetime.datetime.now())\n",
    "      message = message + \"__\" + current_time + \"\\n\"\n",
    "      with open(log_file_name,mode) as logfile:\n",
    "        logfile.write(message+\"\\n\")\n",
    "\n",
    "print(read_data(\"dinner_bills.txt\")   ) \n",
    "log_file_name.close()"
   ]
  }
 ],
 "metadata": {
  "kernelspec": {
   "display_name": "Python 3",
   "language": "python",
   "name": "python3"
  },
  "language_info": {
   "codemirror_mode": {
    "name": "ipython",
    "version": 3
   },
   "file_extension": ".py",
   "mimetype": "text/x-python",
   "name": "python",
   "nbconvert_exporter": "python",
   "pygments_lexer": "ipython3",
   "version": "3.10.11"
  }
 },
 "nbformat": 4,
 "nbformat_minor": 5
}
