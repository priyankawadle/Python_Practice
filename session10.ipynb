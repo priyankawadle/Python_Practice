{
 "cells": [
  {
   "cell_type": "code",
   "execution_count": 1,
   "id": "71bd7a46",
   "metadata": {},
   "outputs": [
    {
     "data": {
      "text/plain": [
       "{'apple': 5, 'banana': 6, 'mango': 5}"
      ]
     },
     "execution_count": 1,
     "metadata": {},
     "output_type": "execute_result"
    }
   ],
   "source": [
    "fruits = [\"apple\",\"banana\",\"mango\"]\n",
    "{each:len(each) for each in fruits}"
   ]
  },
  {
   "cell_type": "code",
   "execution_count": 3,
   "id": "042e2c08",
   "metadata": {},
   "outputs": [
    {
     "name": "stdout",
     "output_type": "stream",
     "text": [
      "[(0, 'A'), (1, 'B'), (2, 'C'), (3, 'D')]\n"
     ]
    }
   ],
   "source": [
    "names = [\"A\",\"B\",\"C\",\"D\"]\n",
    "print(list(enumerate(names)))"
   ]
  },
  {
   "cell_type": "code",
   "execution_count": null,
   "id": "bffd5611",
   "metadata": {},
   "outputs": [
    {
     "name": "stdout",
     "output_type": "stream",
     "text": [
      "[(0, 22), (1, 24), (2, 23), (3, 26), (4, 28)]\n",
      "2\n",
      "-1\n",
      "3\n",
      "2\n"
     ]
    }
   ],
   "source": [
    "temprature = [22,24,23,26,28]\n",
    "\n",
    "for index,value in enumerate(temprature[1:],start=1):\n",
    "    diff = value- temprature[index-1]\n",
    "    print(diff)"
   ]
  },
  {
   "cell_type": "code",
   "execution_count": 17,
   "id": "a460db70",
   "metadata": {},
   "outputs": [
    {
     "name": "stdout",
     "output_type": "stream",
     "text": [
      "22 Monday\n",
      "24 Tuesday\n",
      "23 Wednsday\n",
      "26 Thursday\n",
      "28 Friday\n"
     ]
    }
   ],
   "source": [
    "temprature = [22,24,23,26,28]\n",
    "day=[\"Monday\",\"Tuesday\",\"Wednsday\",\"Thursday\",\"Friday\"]\n",
    "for e1,e2 in zip(temprature,day):\n",
    "    print(e1,e2)"
   ]
  },
  {
   "cell_type": "code",
   "execution_count": 23,
   "id": "96310b9f",
   "metadata": {},
   "outputs": [
    {
     "name": "stdout",
     "output_type": "stream",
     "text": [
      "{'india': ('delhi', 100), 'italy': ('rome', 200), 'france': ('paris', 300)}\n"
     ]
    }
   ],
   "source": [
    "countries = [\"india\",\"italy\",\"france\"]\n",
    "capitals = [\"delhi\",\"rome\",\"paris\"]\n",
    "population = [100,200,300]\n",
    "print(dict(zip(countries,zip(capitals,population))))"
   ]
  },
  {
   "cell_type": "code",
   "execution_count": 27,
   "id": "6774b34f",
   "metadata": {},
   "outputs": [
    {
     "name": "stdout",
     "output_type": "stream",
     "text": [
      "['a*', 'b', 'c*', 'd', 'e*', 'f']\n"
     ]
    }
   ],
   "source": [
    "#Ques1: Add a star * to the items at even indices.\n",
    "\n",
    "Input= [\"a\", \"b\", \"c\", \"d\",\"e\",\"f\"]\n",
    "# Output= ['a*', 'b', 'c*', 'd','e*','f']\n",
    "output =[]\n",
    "for i,value in enumerate(Input):\n",
    "    if i % 2 == 0:\n",
    "        output.append(value+\"*\")\n",
    "    else:\n",
    "         output.append(value)\n",
    "print(output)\n",
    "\n",
    "\n"
   ]
  },
  {
   "cell_type": "code",
   "execution_count": 41,
   "id": "b310910f",
   "metadata": {},
   "outputs": [
    {
     "name": "stdout",
     "output_type": "stream",
     "text": [
      "['a*', 'b', 'c*', 'd', 'e*', 'f']\n"
     ]
    }
   ],
   "source": [
    "outputlist = [value+\"*\" if i % 2 == 0 else value for i,value in enumerate(Input)]\n",
    "print(outputlist)"
   ]
  },
  {
   "cell_type": "code",
   "execution_count": null,
   "id": "ef09227e",
   "metadata": {},
   "outputs": [
    {
     "name": "stdout",
     "output_type": "stream",
     "text": [
      "30\n"
     ]
    }
   ],
   "source": [
    "#Ques2: Sum of values of odd indexes\n",
    "\n",
    "nums=[5, 10, 15, 20, 25]\n",
    "# Sum=30 (10+20)\n",
    "sum3 = 0\n",
    "for i,value in enumerate(nums):\n",
    "    if i % 2 != 0:\n",
    "        sum3=sum3+value\n",
    "print(sum3)"
   ]
  },
  {
   "cell_type": "code",
   "execution_count": null,
   "id": "3c788ab1",
   "metadata": {},
   "outputs": [
    {
     "name": "stdout",
     "output_type": "stream",
     "text": [
      "30\n"
     ]
    }
   ],
   "source": [
    "# with else list Comprehension\n",
    "listed_numbers = [value if i % 2 != 0  else 0 for i,value in enumerate(nums)]\n",
    "sum1=0\n",
    "for each in listed_numbers:\n",
    "    sum1 = sum1 +each\n",
    "print(sum1)"
   ]
  },
  {
   "cell_type": "code",
   "execution_count": null,
   "id": "e7ada8f4",
   "metadata": {},
   "outputs": [
    {
     "name": "stdout",
     "output_type": "stream",
     "text": [
      "[10, 20]\n",
      "30\n"
     ]
    }
   ],
   "source": [
    "# without else list Comprehension\n",
    "nums=[5, 10, 15, 20, 25]\n",
    "listed_number = [value  for i,value in enumerate(nums) if i % 2 != 0]\n",
    "sum2=0\n",
    "\n",
    "print(sum( listed_number)) # inbuit function sum\n",
    "# for each in listed_number:\n",
    "#     sum2 = sum2 +each\n",
    "# print(sum2)"
   ]
  },
  {
   "cell_type": "code",
   "execution_count": 10,
   "id": "ff19930f",
   "metadata": {},
   "outputs": [
    {
     "name": "stdout",
     "output_type": "stream",
     "text": [
      "{6: True, 10: False, 28: True, 48: False}\n"
     ]
    }
   ],
   "source": [
    "# Perfect Number: 6#sum of factors(elxc number) of a given number is equal to the number itself then it is perfect number\n",
    "# 1,2,3\n",
    "# sum=1+2+3=6\n",
    "numbers=[6,10,28,48]\n",
    "\n",
    "def perfect_numbers(number):\n",
    "    sumation = 0\n",
    "    for each in range(1,number):\n",
    "        if number%each == 0:\n",
    "            sumation = sumation +each\n",
    "\n",
    "    if sumation == number:\n",
    "        return True\n",
    "    else:\n",
    "        return False\n",
    "print(dict(zip(numbers,[perfect_numbers(each1) for each1 in numbers])))\n",
    "\n"
   ]
  },
  {
   "cell_type": "code",
   "execution_count": 14,
   "id": "a2b285c1",
   "metadata": {},
   "outputs": [
    {
     "name": "stdout",
     "output_type": "stream",
     "text": [
      "{1: 'Odd', 4: 'Even', 7: 'Odd', 10: 'Even', 11: 'Odd'}\n"
     ]
    }
   ],
   "source": [
    "# ✅ Q1. Mark Even/Odd Using zip() and Comprehension\n",
    "# Objective:\n",
    "# You are given a list of numbers. Create a dictionary that maps each number to either \"Even\" or \"Odd\" using zip() and list comprehension.\n",
    "nums = [1, 4, 7, 10,11]\n",
    "# {1: 'Odd', 4: 'Even', 7: 'Odd', 10: 'Even'}\n",
    "\n",
    "# def even_odd(number):\n",
    "#     if number % 2 == 0:\n",
    "#         return \"Even\"\n",
    "#     else:\n",
    "#         return \"Odd\"\n",
    "print(dict(zip(nums,[\"Even\" if each % 2 == 0 else \"Odd\"for each in nums])))\n"
   ]
  },
  {
   "cell_type": "code",
   "execution_count": 25,
   "id": "52b428ef",
   "metadata": {},
   "outputs": [
    {
     "name": "stdout",
     "output_type": "stream",
     "text": [
      "{'cat': 'Short', 'elephant': 'Long', 'dog': 'Short', 'lion': 'Short'}\n"
     ]
    }
   ],
   "source": [
    "# Ques 2. Tag Word Lengths with zip() and map()\n",
    "# Objective:\n",
    "# Given a list of words, return a dictionary where each word is mapped to \"Short\" if its length < 5, else \"Long\".\n",
    "# Use zip() to create a dictionary with words as keys and tags as values\n",
    "# Sample Input:\n",
    "words = [\"cat\", \"elephant\", \"dog\", \"lion\"]\n",
    "# Expected Output:\n",
    "# {'cat': 'Short', 'elephant': 'Long', 'dog': 'Short', 'lion': 'Short'}\n",
    "def category_words(word):\n",
    "    if len(word) < 5:\n",
    "        return \"Short\"\n",
    "    else:\n",
    "        return \"Long\"\n",
    "print(dict(zip(words,list(map(category_words,words)))))\n"
   ]
  },
  {
   "cell_type": "code",
   "execution_count": 28,
   "id": "0cc48bb9",
   "metadata": {},
   "outputs": [
    {
     "name": "stdout",
     "output_type": "stream",
     "text": [
      "Fruit  1 :  apple\n",
      "Fruit  2 :  banana\n",
      "Fruit  3 :  cherry\n"
     ]
    }
   ],
   "source": [
    "# Ques 3: Index-Based Labeling with enumerate()\n",
    "# Objective:\n",
    "# Given a list of fruits, print their position and value using enumerate() (start index from 1).\n",
    "# Hint:\n",
    "# Use a for loop with enumerate(fruits, start=1)\n",
    "# Format each line as \"Fruit 1: apple\" etc.\n",
    "fruits = [\"apple\", \"banana\", \"cherry\"]\n",
    "# Fruit 1: apple\n",
    "# Fruit 2: banana\n",
    "# Fruit 3: cherry\n",
    "for i,value in enumerate(fruits,start=1):\n",
    "    print(\"Fruit \",i,\": \",value)"
   ]
  },
  {
   "cell_type": "code",
   "execution_count": 29,
   "id": "3372fbd0",
   "metadata": {},
   "outputs": [
    {
     "name": "stdout",
     "output_type": "stream",
     "text": [
      "[1, 9, 25]\n"
     ]
    }
   ],
   "source": [
    "# Ques 4: Filter and Transform in One Comprehension\n",
    "# Objective:\n",
    "# From a list of integers, create a new list with only odd numbers, but squared.\n",
    "# Hint:\n",
    "# Use list comprehension with an if clause to filter\n",
    "# Use x**2 in the expression part\n",
    "nums = [1, 2, 3, 4, 5]\n",
    "# [1, 9, 25]\n",
    "print([each**2 for each in nums if each % 2 != 0  ])"
   ]
  },
  {
   "cell_type": "code",
   "execution_count": null,
   "id": "94c45c17",
   "metadata": {},
   "outputs": [],
   "source": []
  }
 ],
 "metadata": {
  "kernelspec": {
   "display_name": "Python 3",
   "language": "python",
   "name": "python3"
  },
  "language_info": {
   "codemirror_mode": {
    "name": "ipython",
    "version": 3
   },
   "file_extension": ".py",
   "mimetype": "text/x-python",
   "name": "python",
   "nbconvert_exporter": "python",
   "pygments_lexer": "ipython3",
   "version": "3.10.11"
  }
 },
 "nbformat": 4,
 "nbformat_minor": 5
}
