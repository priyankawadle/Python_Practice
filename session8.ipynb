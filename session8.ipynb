{
 "cells": [
  {
   "cell_type": "code",
   "execution_count": null,
   "id": "93fb9d07",
   "metadata": {},
   "outputs": [
    {
     "name": "stdout",
     "output_type": "stream",
     "text": [
      "[6, 5, 4, 3, 2, 1]\n"
     ]
    }
   ],
   "source": [
    "def merge_sort(lst1,lst2):\n",
    "    merged = lst1 + lst2\n",
    "    merged.sort(reverse=True)\n",
    "    return merged\n",
    "print(merge_sort([1,6,4],[2,3,5]))    "
   ]
  },
  {
   "cell_type": "code",
   "execution_count": 5,
   "id": "8cde7e42",
   "metadata": {},
   "outputs": [
    {
     "name": "stdout",
     "output_type": "stream",
     "text": [
      "[1, 6, 4]\n"
     ]
    }
   ],
   "source": [
    "def remove_common_element(lst1,lst2):\n",
    "    for each in lst2:\n",
    "        if each in lst1:\n",
    "            lst1.remove(each)\n",
    "    return lst1\n",
    "print(remove_common_element([1,2,3,6,4],[2,3,5]))"
   ]
  },
  {
   "cell_type": "code",
   "execution_count": null,
   "id": "1ca28434",
   "metadata": {},
   "outputs": [
    {
     "name": "stdout",
     "output_type": "stream",
     "text": [
      "['A', 'B', 'C']\n",
      "['A', 'B', 'C']\n",
      "['A', 'B', 'C']\n"
     ]
    }
   ],
   "source": [
    "dict = {\n",
    "    \"Names\": [\"pri\",\"sada\",\"soni\"],\n",
    "    \"Subject\":[\"A\",\"B\",\"C\"],\n",
    "    \"Age\":[26,20,24]\n",
    "}\n",
    "for each in range():\n",
    "    print(dict[\"Subject\"])\n",
    "    # if dict[\"Subject\"] == \"A\":\n",
    "    #     print(each)\n"
   ]
  },
  {
   "cell_type": "code",
   "execution_count": 13,
   "id": "32e00b56",
   "metadata": {},
   "outputs": [
    {
     "data": {
      "text/plain": [
       "{'Name': {'fname': 'Priyanka', 'mname': 'Anteshwar', 'lname': 'Wadle'},\n",
       " 'Age': 26,\n",
       " 'Address': {'line1': 'row house',\n",
       "  'line2': 'madlapur',\n",
       "  'postal_code': 413517,\n",
       "  'city': 'udgir',\n",
       "  'country': 'india'}}"
      ]
     },
     "execution_count": 13,
     "metadata": {},
     "output_type": "execute_result"
    }
   ],
   "source": [
    "dict_personal_details = {\n",
    "    \"Name\": {\"fname\":\"Priyanka\",\"mname\":\"Anteshwar\",\"lname\":\"Wadle\"},\n",
    "    \"Age\":26,\n",
    "    \"Address\":{\"line1\":\"row house\",\"line2\":\"madlapur\",\"postal_code\":413517,\"city\":\"udgir\",\"country\":\"india\"}\n",
    "}\n",
    "dict_personal_details"
   ]
  },
  {
   "cell_type": "code",
   "execution_count": 16,
   "id": "dabda9fd",
   "metadata": {},
   "outputs": [
    {
     "data": {
      "text/plain": [
       "['Dream Girl', 'Sher Shaha', 'Article 362', 'M S Dhoni', 'The Mummy']"
      ]
     },
     "execution_count": 16,
     "metadata": {},
     "output_type": "execute_result"
    }
   ],
   "source": [
    "# Q1. 📋 Create a List of Favorite Movies\n",
    "# Append 2 new movies\n",
    "# Insert a movie at position 2\n",
    "# Remove one movie by name\n",
    "\n",
    "movie_lst = [\"Kalki\",\"Dream Girl\",\"Article 362\"]\n",
    "\n",
    "movie_lst.append(\"M S Dhoni\")\n",
    "movie_lst.append(\"The Mummy\")\n",
    "\n",
    "movie_lst.insert(2,\"Sher Shaha\")\n",
    "movie_lst.remove(\"Kalki\")\n",
    "movie_lst"
   ]
  },
  {
   "cell_type": "code",
   "execution_count": 18,
   "id": "bfc4851f",
   "metadata": {},
   "outputs": [
    {
     "data": {
      "text/plain": [
       "['mango',\n",
       " 'grapes',\n",
       " 'papaya',\n",
       " 'pineapple',\n",
       " 'apple',\n",
       " 'blueberry',\n",
       " 'mango',\n",
       " 'grapes',\n",
       " 'papaya',\n",
       " 'pineapple',\n",
       " 'apple',\n",
       " 'blueberry']"
      ]
     },
     "execution_count": 18,
     "metadata": {},
     "output_type": "execute_result"
    }
   ],
   "source": [
    "# Q2. ➕ Combine and Duplicate Lists\n",
    "# Take two lists of fruits.\n",
    "# Combine them using +.\n",
    "# Duplicate the final list 2 times using *.\n",
    "# Print the result.\n",
    "fruit_lst1 = [\"mango\",\"grapes\",\"papaya\"]\n",
    "fruit_lst2 = [\"pineapple\",\"apple\",\"blueberry\"]\n",
    "\n",
    "combine_lst = fruit_lst1 + fruit_lst2\n",
    "combine_lst = combine_lst * 2\n",
    "combine_lst\n"
   ]
  },
  {
   "cell_type": "code",
   "execution_count": 21,
   "id": "de9998ee",
   "metadata": {},
   "outputs": [
    {
     "name": "stdout",
     "output_type": "stream",
     "text": [
      "Present\n"
     ]
    }
   ],
   "source": [
    "# Q3. 🔍 Search in List\n",
    "# Create a list of your friends' names.\n",
    "# Check if \"Rohan\" is present in the list or not using in.\n",
    "friends_names = [\"sonu\",\"sada\",\"shiv\",\"megha\",\"viru\",\"Rohan\"]\n",
    "if \"Rohan\" in friends_names:\n",
    "    print(\"Present\")\n",
    "else:\n",
    "    print(\"Not Present\")"
   ]
  },
  {
   "cell_type": "code",
   "execution_count": 23,
   "id": "a5a87e35",
   "metadata": {},
   "outputs": [
    {
     "data": {
      "text/plain": [
       "[99, 88, 77, 66, 44, 33, 22, 1]"
      ]
     },
     "execution_count": 23,
     "metadata": {},
     "output_type": "execute_result"
    }
   ],
   "source": [
    "# Q4. 🔁 Reverse and Sort\n",
    "# Create a list of numbers.\n",
    "# Sort the list in ascending order.\n",
    "# Then reverse it to descending order.\n",
    "num_lst = [1,33,22,66,44,77,99,88]\n",
    "num_lst.sort()\n",
    "num_lst.sort(reverse=True)\n",
    "num_lst"
   ]
  },
  {
   "cell_type": "code",
   "execution_count": 24,
   "id": "e2ccb475",
   "metadata": {},
   "outputs": [
    {
     "data": {
      "text/plain": [
       "{'name': 'Priyanka', 'age': 26, 'city': 'Pune', 'grade': '+A'}"
      ]
     },
     "execution_count": 24,
     "metadata": {},
     "output_type": "execute_result"
    }
   ],
   "source": [
    "# Q7. 📖 Create a Student Dictionary\n",
    "# Keys: name, age, city\n",
    "# Add a new key grade with any value.\n",
    "\n",
    "student_dict = {\n",
    "    \"name\":\"Priyanka\",\n",
    "    \"age\":26,\n",
    "    \"city\":\"Pune\"\n",
    "}\n",
    "student_dict[\"grade\"]=\"+A\"\n",
    "student_dict"
   ]
  },
  {
   "cell_type": "code",
   "execution_count": 25,
   "id": "5c56240d",
   "metadata": {},
   "outputs": [
    {
     "data": {
      "text/plain": [
       "{'name': 'Priyanka',\n",
       " 'age': 26,\n",
       " 'city': 'Mumbai',\n",
       " 'grade': '+A',\n",
       " 'hobbies': ['Travelling', 'Cooking']}"
      ]
     },
     "execution_count": 25,
     "metadata": {},
     "output_type": "execute_result"
    }
   ],
   "source": [
    "# Q8. 🛠️ Update Dictionary Values\n",
    "# Update the city key to a new value.\n",
    "# Add a new key hobbies as a list of 2 hobbies.\n",
    "\n",
    "student_dict[\"city\"] = \"Mumbai\"\n",
    "student_dict[\"hobbies\"]=[\"Travelling\",\"Cooking\"]\n",
    "student_dict"
   ]
  },
  {
   "cell_type": "code",
   "execution_count": null,
   "id": "5f468f21",
   "metadata": {},
   "outputs": [
    {
     "name": "stdout",
     "output_type": "stream",
     "text": [
      "dict_keys(['Name', 'Price', 'Quantity'])\n",
      "dict_values(['Pen', 20, 50])\n"
     ]
    }
   ],
   "source": [
    "# Q9. 🔑 Print Keys and Values\n",
    "# Given a dictionary of product with price and quantity:\n",
    "product = {\"Name\": \"Pen\", \"Price\": 20, \"Quantity\": 50}\n",
    "print(product.keys())\n",
    "print(product.values())\n"
   ]
  },
  {
   "cell_type": "code",
   "execution_count": 15,
   "id": "a523dc83",
   "metadata": {},
   "outputs": [
    {
     "name": "stdout",
     "output_type": "stream",
     "text": [
      "['Burger', 'Pizza', 'Pasta', 'Coke', 'Fries', 'Momos', 'Sandwich', 'Ice Cream', 'Coffee', 'Brownie']\n",
      "[120, 250, 180, 50, 90, 110, 140, 100, 80, 150]\n",
      "[]\n"
     ]
    }
   ],
   "source": [
    "# Design a Food Ordering System that allows users to place multiple food orders, calculate the final bill with tax (GST), and display a detailed receipt.\n",
    "\n",
    "\n",
    "\n",
    "def food_ordering_system():\n",
    "    menu_dict = {\n",
    "        \"item\":[\"Burger\",\"Pizza\",\"Pasta\",\"Coke\",\"Fries\",\"Momos\",\"Sandwich\",\"Ice Cream\",\"Coffee\",\"Brownie\"],\n",
    "        \"price\":[120,250,180,50,90,110,140,100,80,150]\n",
    "    }\n",
    "    \n",
    "    # while True:\n",
    "    for each1 in menu_dict[\"item\"],menu_dict[\"price\"]:\n",
    "            print(each1)\n",
    "\n",
    "        # choice = \"\"\n",
    "\n",
    "\n",
    "    return []\n",
    "\n",
    "print(food_ordering_system())"
   ]
  },
  {
   "cell_type": "code",
   "execution_count": 16,
   "id": "2464dae3",
   "metadata": {},
   "outputs": [
    {
     "ename": "NameError",
     "evalue": "name 'python' is not defined",
     "output_type": "error",
     "traceback": [
      "\u001b[31m---------------------------------------------------------------------------\u001b[39m",
      "\u001b[31mNameError\u001b[39m                                 Traceback (most recent call last)",
      "\u001b[36mCell\u001b[39m\u001b[36m \u001b[39m\u001b[32mIn[16]\u001b[39m\u001b[32m, line 1\u001b[39m\n\u001b[32m----> \u001b[39m\u001b[32m1\u001b[39m \u001b[43mpython\u001b[49m --version\n",
      "\u001b[31mNameError\u001b[39m: name 'python' is not defined"
     ]
    }
   ],
   "source": [
    "python --version\n"
   ]
  }
 ],
 "metadata": {
  "kernelspec": {
   "display_name": "Python 3",
   "language": "python",
   "name": "python3"
  },
  "language_info": {
   "codemirror_mode": {
    "name": "ipython",
    "version": 3
   },
   "file_extension": ".py",
   "mimetype": "text/x-python",
   "name": "python",
   "nbconvert_exporter": "python",
   "pygments_lexer": "ipython3",
   "version": "3.11.9"
  }
 },
 "nbformat": 4,
 "nbformat_minor": 5
}
