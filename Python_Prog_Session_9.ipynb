{
  "cells": [
    {
      "cell_type": "code",
      "execution_count": null,
      "metadata": {
        "id": "vBM8N4UZkhLm"
      },
      "outputs": [],
      "source": []
    },
    {
      "cell_type": "markdown",
      "metadata": {
        "id": "mT4kXvNa-64k"
      },
      "source": [
        "##Doubt Clearing on 1st May 7:30 PM IST"
      ]
    },
    {
      "cell_type": "code",
      "execution_count": null,
      "metadata": {
        "id": "W13sayUU-6th"
      },
      "outputs": [],
      "source": []
    },
    {
      "cell_type": "markdown",
      "metadata": {
        "id": "fBvp8g5X-Soy"
      },
      "source": [
        "Session 9: https://colab.research.google.com/drive/1yGBDQ8NMlVu-Mc1CiL3Je2_l19VOi1gU?usp=sharing\n",
        "\n",
        "\n",
        "Session 8:https://colab.research.google.com/drive/1ccvssmlybxLwXbjbPAezG9hdADnmbOiQ?usp=sharing\n",
        "\n",
        "Session 7: https://colab.research.google.com/drive/1CGgPhpzuVWjNrhbO9ERoPyB9gDRZyJ_n?usp=sharing\n",
        "\n",
        "\n",
        "Doubt Clearning Class 2: https://colab.research.google.com/drive/1L2w9eb2eSIQMN6T_A6_65XLJW0-VB8CV?usp=sharing\n",
        "\n",
        "\n",
        "Session 6: https://colab.research.google.com/drive/1rPLcVIynJpjNdIQMxnR2MVwvMkJWHTXm#scrollTo=mcXL74n6zLic\n",
        "\n",
        "Session 5: https://colab.research.google.com/drive/1qoymmCAH2b6ZmF9d4REiBGrbpNkcdzKn#scrollTo=txxuqHLgecBG\n",
        "\n",
        "Session 4: https://colab.research.google.com/drive/1tJGg47OBOZxiWJr_9rwXoyhW8gYGuz03\n",
        "\n",
        "Session 3: https://colab.research.google.com/drive/1ufqrTCSs2Q1yHTQidclGJ82RzieA1N0w\n",
        "\n",
        "Session 2: https://colab.research.google.com/drive/1CDJXo-VXyHZCa-mOaq0OP26O0DUckhHp\n",
        "\n",
        "Session 1: https://colab.research.google.com/drive/1DkiPbviFal8uOXZ3u2x7esum4ZYWnKdB\n"
      ]
    },
    {
      "cell_type": "markdown",
      "metadata": {
        "id": "kf9Gz_Cjkk6I"
      },
      "source": [
        "# 🧠 Practice Problems – Lists and Dictionaries\n",
        "\n",
        "Today's practice focuses on:\n",
        "- List methods (append, insert, remove, pop, sort, reverse)\n",
        "- List operators (+, *, in, not in)\n",
        "- Tuples basics\n",
        "- Dictionary creation, access, update\n",
        "\n",
        "---\n",
        "\n",
        "## 🟢 List Practice Problems\n",
        "\n",
        "---\n",
        "\n",
        "### Q1. 📋 Create a List of Favorite Movies\n",
        "- Append 2 new movies\n",
        "- Insert a movie at position 2\n",
        "- Remove one movie by name\n",
        "\n",
        "---\n",
        "\n",
        "### Q2. ➕ Combine and Duplicate Lists\n",
        "- Take two lists of fruits.\n",
        "- Combine them using `+`.\n",
        "- Duplicate the final list 2 times using `*`.\n",
        "- Print the result.\n",
        "\n",
        "---\n",
        "\n",
        "### Q3. 🔍 Search in List\n",
        "- Create a list of your friends' names.\n",
        "- Check if `\"Rohan\"` is present in the list or not using `in`.\n",
        "\n",
        "---\n",
        "\n",
        "### Q4. 🔁 Reverse and Sort\n",
        "- Create a list of numbers.\n",
        "- Sort the list in ascending order.\n",
        "- Then reverse it to descending order.\n",
        "\n",
        "---\n",
        "\n",
        "## 🟡 Tuple Practice Problems (Skip for now)\n",
        "\n",
        "---\n",
        "\n",
        "### Q5. 🔒 Create and Access Tuple\n",
        "- Create a tuple with your 5 favorite foods.\n",
        "- Print the second and fourth items using indexing.\n",
        "\n",
        "---\n",
        "\n",
        "### Q6. 🚫 Try Changing a Tuple\n",
        "- Try modifying an element in your tuple and observe the error.\n",
        "- Write a comment explaining why it failed.\n",
        "\n",
        "---\n",
        "\n",
        "## 🟠 Dictionary Practice Problems\n",
        "\n",
        "---\n",
        "\n",
        "### Q7. 📖 Create a Student Dictionary\n",
        "- Keys: `name`, `age`, `city`\n",
        "- Add a new key `grade` with any value.\n",
        "\n",
        "---\n",
        "\n",
        "### Q8. 🛠️ Update Dictionary Values\n",
        "- Update the `city` key to a new value.\n",
        "- Add a new key `hobbies` as a list of 2 hobbies.\n",
        "\n",
        "---\n",
        "\n",
        "### Q9. 🔑 Print Keys and Values\n",
        "- Given a dictionary of `product` with price and quantity:\n",
        "```python\n",
        "product = {\"Name\": \"Pen\", \"Price\": 20, \"Quantity\": 50}\n"
      ]
    },
    {
      "cell_type": "code",
      "execution_count": null,
      "metadata": {
        "colab": {
          "base_uri": "https://localhost:8080/"
        },
        "id": "Kjo93o7oklFg",
        "outputId": "85570a68-3842-4ce4-b39c-54af81648f0e"
      },
      "outputs": [
        {
          "name": "stdout",
          "output_type": "stream",
          "text": [
            "['Kalki', 'Dream Girl', 'Article 362', 'M S Dhoni', 'The Mummy']\n"
          ]
        }
      ],
      "source": [
        "#Ques 1. Sol by Priyanka\n",
        "\n",
        "movie_lst = [\"Kalki\",\"Dream Girl\",\"Article 362\"]\n",
        "movie_lst.append(\"M S Dhoni\")\n",
        "movie_lst.append(\"The Mummy\")\n",
        "print(movie_lst)\n",
        "\n"
      ]
    },
    {
      "cell_type": "code",
      "execution_count": null,
      "metadata": {
        "colab": {
          "base_uri": "https://localhost:8080/"
        },
        "id": "RG718fY5lOY-",
        "outputId": "f9fac970-6e46-4fc9-f7e0-12ee307432fb"
      },
      "outputs": [
        {
          "name": "stdout",
          "output_type": "stream",
          "text": [
            "['Kalki', 'Dream Girl', 'Sher Shaha', 'Article 362', 'M S Dhoni', 'The Mummy']\n"
          ]
        }
      ],
      "source": [
        "movie_lst.insert(2,\"Sher Shaha\")\n",
        "print(movie_lst)\n"
      ]
    },
    {
      "cell_type": "code",
      "execution_count": null,
      "metadata": {
        "colab": {
          "base_uri": "https://localhost:8080/"
        },
        "id": "MHrxD6j5liU5",
        "outputId": "b66e20f1-3057-4101-bc79-46cd3c8a8a19"
      },
      "outputs": [
        {
          "name": "stdout",
          "output_type": "stream",
          "text": [
            "['Dream Girl', 'Sher Shaha', 'Article 362', 'M S Dhoni', 'The Mummy']\n"
          ]
        }
      ],
      "source": [
        "movie_lst.remove(\"Kalki\")\n",
        "print(movie_lst)"
      ]
    },
    {
      "cell_type": "code",
      "execution_count": null,
      "metadata": {
        "colab": {
          "base_uri": "https://localhost:8080/"
        },
        "id": "tHUF-4zylmYu",
        "outputId": "62fc8a3d-f92c-4738-e2f6-00432897b7e7"
      },
      "outputs": [
        {
          "name": "stdout",
          "output_type": "stream",
          "text": [
            "['mangoes', 'oranges', 'watermelon', 'Papaya', 'Chikoo', 'Banana']\n"
          ]
        }
      ],
      "source": [
        "#Quest 2 Sol by Atul\n",
        "\n",
        "fruits1=['mangoes','oranges','watermelon']\n",
        "fruits2=['Papaya','Chikoo','Banana']\n",
        "finalList=fruits1+fruits2\n",
        "print(finalList)\n"
      ]
    },
    {
      "cell_type": "code",
      "execution_count": null,
      "metadata": {
        "colab": {
          "base_uri": "https://localhost:8080/"
        },
        "id": "QxArrjI3l4oP",
        "outputId": "d86907b4-323e-4fa3-e15a-cf43a8c4912a"
      },
      "outputs": [
        {
          "data": {
            "text/plain": [
              "['mangoes',\n",
              " 'oranges',\n",
              " 'watermelon',\n",
              " 'Papaya',\n",
              " 'Chikoo',\n",
              " 'Banana',\n",
              " 'mangoes',\n",
              " 'oranges',\n",
              " 'watermelon',\n",
              " 'Papaya',\n",
              " 'Chikoo',\n",
              " 'Banana']"
            ]
          },
          "execution_count": 6,
          "metadata": {},
          "output_type": "execute_result"
        }
      ],
      "source": [
        "finalList*2"
      ]
    },
    {
      "cell_type": "code",
      "execution_count": null,
      "metadata": {
        "colab": {
          "base_uri": "https://localhost:8080/"
        },
        "id": "A3hg5WYfl7ac",
        "outputId": "20705ef3-6d99-488f-85d8-027ca49eb6ac"
      },
      "outputs": [
        {
          "data": {
            "text/plain": [
              "[1, 2, 3, 4, 5, 6, 1, 2, 3, 4, 5, 6]"
            ]
          },
          "execution_count": 8,
          "metadata": {},
          "output_type": "execute_result"
        }
      ],
      "source": [
        "([1,2,3]+[4,5,6])*2"
      ]
    },
    {
      "cell_type": "code",
      "execution_count": null,
      "metadata": {
        "colab": {
          "base_uri": "https://localhost:8080/"
        },
        "id": "odR4ydsbmCW1",
        "outputId": "1bc4ce1d-94aa-45f8-f118-47c7a9743b9c"
      },
      "outputs": [
        {
          "name": "stdout",
          "output_type": "stream",
          "text": [
            "Rohan is in the list of friends.\n"
          ]
        }
      ],
      "source": [
        "# Ques No. 3 Sol by Hardik\n",
        "\n",
        "friends = [\"Kiran\", \"Karthik\", \"Tushar\", \"Muskan\",\"Rohan\"]\n",
        "if \"Rohan\" in friends:\n",
        "  print(\"Rohan is in the list of friends.\")\n",
        "else:\n",
        "  print(\"Rohan is not in the list of friends.\")"
      ]
    },
    {
      "cell_type": "code",
      "execution_count": null,
      "metadata": {
        "colab": {
          "base_uri": "https://localhost:8080/"
        },
        "id": "iHyn3JJ8mV0L",
        "outputId": "b68b13e7-88cf-493c-daf3-a3642ec8d7f7"
      },
      "outputs": [
        {
          "name": "stdout",
          "output_type": "stream",
          "text": [
            "[0, 1, 3, 4, 5, 55]\n"
          ]
        }
      ],
      "source": [
        "# Ques 4 Sol by Atul\n",
        "list_numbers=[3,4,1,0,55,5]\n",
        "list_numbers.sort()\n",
        "print(list_numbers)\n"
      ]
    },
    {
      "cell_type": "code",
      "execution_count": null,
      "metadata": {
        "colab": {
          "base_uri": "https://localhost:8080/"
        },
        "id": "Dte9IIQKmx6P",
        "outputId": "ac7c73eb-01ae-49c7-af0b-201f1d0049de"
      },
      "outputs": [
        {
          "data": {
            "text/plain": [
              "[55, 5, 4, 3, 1, 0]"
            ]
          },
          "execution_count": 12,
          "metadata": {},
          "output_type": "execute_result"
        }
      ],
      "source": [
        "list_numbers.sort(reverse=True)\n",
        "list_numbers"
      ]
    },
    {
      "cell_type": "code",
      "execution_count": null,
      "metadata": {
        "colab": {
          "base_uri": "https://localhost:8080/"
        },
        "id": "15pq6epMmzjg",
        "outputId": "b96723c3-882a-493e-db34-9daa0907d8c2"
      },
      "outputs": [
        {
          "data": {
            "text/plain": [
              "{'name': 'Priyanka', 'age': 26, 'city': 'Pune', 'grade': '+A'}"
            ]
          },
          "execution_count": 14,
          "metadata": {},
          "output_type": "execute_result"
        }
      ],
      "source": [
        "#Ques no 6 Sol by Priyanka\n",
        "\n",
        "student_dict = {\"name\":\"Priyanka\",\n",
        "                \"age\":26,\n",
        "                \"city\":\"Pune\"}\n",
        "student_dict[\"grade\"]=\"+A\"\n",
        "student_dict"
      ]
    },
    {
      "cell_type": "code",
      "execution_count": null,
      "metadata": {
        "id": "x7A1Le2knCe-"
      },
      "outputs": [],
      "source": [
        "#Ques no 7 Sol by Rekha\n",
        "\n",
        "\n",
        "\n",
        "\n",
        "\n",
        "\n"
      ]
    },
    {
      "cell_type": "code",
      "execution_count": null,
      "metadata": {
        "colab": {
          "base_uri": "https://localhost:8080/"
        },
        "id": "bPCbepEnncyF",
        "outputId": "54d684d6-9898-45e5-91a5-3ac7b8cf1461"
      },
      "outputs": [
        {
          "name": "stdout",
          "output_type": "stream",
          "text": [
            "{'names': 'Pravin', 'age': 25, 'city': 'Kolkata', 'grade': 'A'}\n"
          ]
        }
      ],
      "source": [
        "stu_dic={\n",
        "    \"name\":\"Pravin\",\n",
        "    \"age\":25,\n",
        "    \"city\":\"Kolkata\",\n",
        "}\n",
        "stu_dic[\"grade\"] = \"A\"\n",
        "print(stu_dic)\n",
        "\n"
      ]
    },
    {
      "cell_type": "code",
      "execution_count": null,
      "metadata": {
        "id": "W895I70wnztz"
      },
      "outputs": [],
      "source": [
        "def update_city_value(stu_dic,newCity):\n",
        "  stu_dic[\"city\"] = newCity\n",
        "  return stu_dic\n"
      ]
    },
    {
      "cell_type": "code",
      "execution_count": null,
      "metadata": {
        "colab": {
          "base_uri": "https://localhost:8080/"
        },
        "id": "_Uf7Edw0ngSi",
        "outputId": "cca336d5-b7c4-4a4f-cc6d-9370878a2267"
      },
      "outputs": [
        {
          "name": "stdout",
          "output_type": "stream",
          "text": [
            "{'names': 'Pravin', 'age': 25, 'city': 'pune', 'grade': 'A'}\n"
          ]
        }
      ],
      "source": [
        "newCity=\"pune\"\n",
        "st_dic = update_city_value(stu_dic,newCity)\n",
        "print(st_dic)\n"
      ]
    },
    {
      "cell_type": "code",
      "execution_count": null,
      "metadata": {
        "id": "VArmqiEKn_Jj"
      },
      "outputs": [],
      "source": [
        "def add_new_key(st_dic,hobbies):\n",
        "  st_dic[\"hobbies\"] = hobbies\n",
        "  return st_dic"
      ]
    },
    {
      "cell_type": "code",
      "execution_count": null,
      "metadata": {
        "id": "8KmWptBMnx5R"
      },
      "outputs": [],
      "source": [
        "hobbies={\n",
        "    \"hobby1\":\"footbal\",\n",
        "    \"hobby2\":\"reading\"\n",
        "}"
      ]
    },
    {
      "cell_type": "code",
      "execution_count": null,
      "metadata": {
        "colab": {
          "base_uri": "https://localhost:8080/"
        },
        "id": "iAezX8VhoCAm",
        "outputId": "881285f6-b311-4376-b655-8c01c366ddd9"
      },
      "outputs": [
        {
          "name": "stdout",
          "output_type": "stream",
          "text": [
            "{'names': 'Pravin', 'age': 25, 'city': 'pune', 'grade': 'A', 'hobbies': {'hobby1': 'footbal', 'hobby2': 'reading'}}\n"
          ]
        }
      ],
      "source": [
        "st_dic = add_new_key(st_dic,hobbies)\n",
        "print(st_dic)"
      ]
    },
    {
      "cell_type": "code",
      "execution_count": null,
      "metadata": {
        "colab": {
          "base_uri": "https://localhost:8080/"
        },
        "id": "rZURjGjFoDvA",
        "outputId": "15d4a1a4-6dc0-4beb-9820-07c05bede87f"
      },
      "outputs": [
        {
          "data": {
            "text/plain": [
              "{'name': 'Arjun', 'age': '33', 'city': 'Delhi', 'grade': 'A'}"
            ]
          },
          "execution_count": 23,
          "metadata": {},
          "output_type": "execute_result"
        }
      ],
      "source": [
        "#Sol by Atul\n",
        "\n",
        "student={ \"name\":\"Arjun\", \"age\":\"32\", \"city\":\"Bangalore\"}\n",
        "student[\"grade\"]=\"A\"\n",
        "\n",
        "\n",
        "student.update({\"city\":\"Delhi\",\"age\":\"33\"})\n",
        "student"
      ]
    },
    {
      "cell_type": "code",
      "execution_count": null,
      "metadata": {
        "colab": {
          "base_uri": "https://localhost:8080/"
        },
        "id": "vpCtHP2goRQi",
        "outputId": "e8bc66fe-4f54-49ff-d659-c768d1a7db94"
      },
      "outputs": [
        {
          "data": {
            "text/plain": [
              "{'name': 'Arjun',\n",
              " 'age': '33',\n",
              " 'city': 'Delhi',\n",
              " 'grade': 'A',\n",
              " 'hobbies': ['cricket', 'football']}"
            ]
          },
          "execution_count": 24,
          "metadata": {},
          "output_type": "execute_result"
        }
      ],
      "source": [
        "student.update({\"hobbies\": [\"cricket\",\"football\"]})\n",
        "student"
      ]
    },
    {
      "cell_type": "code",
      "execution_count": null,
      "metadata": {
        "colab": {
          "base_uri": "https://localhost:8080/"
        },
        "id": "C1kPzrLCocFn",
        "outputId": "5a5adb73-85d6-4fe3-cbe1-2f1aeaaae2e4"
      },
      "outputs": [
        {
          "name": "stdout",
          "output_type": "stream",
          "text": [
            "Keys: dict_keys(['Name', 'Price', 'Quantity'])\n",
            "Values: dict_values(['Pen', 20, 50])\n"
          ]
        }
      ],
      "source": [
        "#Sol 9 by Hardik\n",
        "\n",
        "product = {\"Name\": \"Pen\", \"Price\": 20, \"Quantity\": 50}\n",
        "print(\"Keys:\", product.keys())\n",
        "print(\"Values:\", product.values())"
      ]
    },
    {
      "cell_type": "code",
      "execution_count": null,
      "metadata": {
        "id": "nVnUXi6zosvh"
      },
      "outputs": [],
      "source": [
        "#Sol 9 by Vrushali\n",
        "\n",
        "product = {\"Name\": \"Pen\", \"Price\": 20, \"Quantity\": 50}\n",
        "for a,b in product.items():\n",
        "    print(a,b)"
      ]
    },
    {
      "cell_type": "code",
      "execution_count": null,
      "metadata": {
        "colab": {
          "base_uri": "https://localhost:8080/"
        },
        "id": "w6ETwCu8o3Wc",
        "outputId": "e499f69c-4d25-40ef-d5f9-de5a80e574b9"
      },
      "outputs": [
        {
          "name": "stdout",
          "output_type": "stream",
          "text": [
            "KEY: Name VALUE: Pen\n",
            "KEY: Price VALUE: 20\n",
            "KEY: Quantity VALUE: 50\n"
          ]
        }
      ],
      "source": [
        "product = {\"Name\": \"Pen\",\n",
        "           \"Price\": 20,\n",
        "           \"Quantity\": 50}\n",
        "\n",
        "for k,v in product.items():\n",
        "  print(\"KEY:\",k , \"VALUE:\",v)\n",
        "\n"
      ]
    },
    {
      "cell_type": "code",
      "execution_count": null,
      "metadata": {
        "id": "imzLCf7Go7Tz"
      },
      "outputs": [],
      "source": []
    },
    {
      "cell_type": "markdown",
      "metadata": {
        "id": "nR9HgT4_pvOy"
      },
      "source": [
        "# 🧾 Session 9: Tuples, Nested Dictionaries, Dictionary Methods, Practice\n",
        "📅 Date: 27/04/2025\n",
        "\n",
        "---\n",
        "\n",
        "## ✅ Topics Covered:\n",
        "\n",
        "- Introduction to Tuples\n",
        "- Nested Dictionaries\n",
        "- Important Dictionary Methods\n",
        "- Hands-on Practice Problems\n"
      ]
    },
    {
      "cell_type": "markdown",
      "metadata": {
        "id": "Wb42bckipzDo"
      },
      "source": [
        "# 📦 Tuples in Python\n",
        "\n",
        "✅ Tuples are:\n",
        "- Ordered\n",
        "- Immutable (cannot be changed once created)\n",
        "- Allow duplicate values\n",
        "- Faster than lists\n",
        "\n",
        "---\n",
        "\n",
        "## 📋 Creating Tuples:\n",
        "\n",
        "```python\n",
        "t1 = (1, 2, 3, 4)\n",
        "t2 = (\"apple\", \"banana\", \"cherry\")\n",
        "t3 = (5,)  # Single-element tuple (comma needed)\n",
        "\n",
        "\n",
        "Tuples are useful for fixed data like coordinates, days of the week, etc.\n",
        "\n"
      ]
    },
    {
      "cell_type": "code",
      "execution_count": null,
      "metadata": {
        "id": "ANANiMFFpvj3"
      },
      "outputs": [],
      "source": [
        "t1=(1,2,3)"
      ]
    },
    {
      "cell_type": "code",
      "execution_count": null,
      "metadata": {
        "id": "CjgKC26rqAEz"
      },
      "outputs": [],
      "source": [
        "t2=[1,2,3]"
      ]
    },
    {
      "cell_type": "code",
      "execution_count": null,
      "metadata": {
        "colab": {
          "base_uri": "https://localhost:8080/"
        },
        "id": "SWQjhGmQqChx",
        "outputId": "2e7fcf45-61ab-401c-d855-aad4a8b4257e"
      },
      "outputs": [
        {
          "data": {
            "text/plain": [
              "tuple"
            ]
          },
          "execution_count": 32,
          "metadata": {},
          "output_type": "execute_result"
        }
      ],
      "source": [
        "type(t1)"
      ]
    },
    {
      "cell_type": "code",
      "execution_count": null,
      "metadata": {
        "colab": {
          "base_uri": "https://localhost:8080/"
        },
        "id": "c5Xm4Y28qE_d",
        "outputId": "ada8c650-f62e-411c-e472-894d03fa7857"
      },
      "outputs": [
        {
          "data": {
            "text/plain": [
              "list"
            ]
          },
          "execution_count": 33,
          "metadata": {},
          "output_type": "execute_result"
        }
      ],
      "source": [
        "type(t2)"
      ]
    },
    {
      "cell_type": "code",
      "execution_count": null,
      "metadata": {
        "colab": {
          "base_uri": "https://localhost:8080/"
        },
        "id": "t5w5uOL8qGHC",
        "outputId": "276a60fd-c5b8-4c3c-f94c-9b0c990e576f"
      },
      "outputs": [
        {
          "data": {
            "text/plain": [
              "[1, 2, 4]"
            ]
          },
          "execution_count": 34,
          "metadata": {},
          "output_type": "execute_result"
        }
      ],
      "source": [
        "t2[2]=4\n",
        "t2"
      ]
    },
    {
      "cell_type": "code",
      "execution_count": null,
      "metadata": {
        "colab": {
          "base_uri": "https://localhost:8080/",
          "height": 158
        },
        "id": "1elNUMEsqOYD",
        "outputId": "d5c7b60a-b65d-4f70-b239-68686cb1515f"
      },
      "outputs": [
        {
          "ename": "TypeError",
          "evalue": "'tuple' object does not support item assignment",
          "output_type": "error",
          "traceback": [
            "\u001b[0;31m---------------------------------------------------------------------------\u001b[0m",
            "\u001b[0;31mTypeError\u001b[0m                                 Traceback (most recent call last)",
            "\u001b[0;32m<ipython-input-35-5715cded4e30>\u001b[0m in \u001b[0;36m<cell line: 0>\u001b[0;34m()\u001b[0m\n\u001b[0;32m----> 1\u001b[0;31m \u001b[0mt1\u001b[0m\u001b[0;34m[\u001b[0m\u001b[0;36m2\u001b[0m\u001b[0;34m]\u001b[0m\u001b[0;34m=\u001b[0m\u001b[0;36m4\u001b[0m\u001b[0;34m\u001b[0m\u001b[0;34m\u001b[0m\u001b[0m\n\u001b[0m\u001b[1;32m      2\u001b[0m \u001b[0mt1\u001b[0m\u001b[0;34m\u001b[0m\u001b[0;34m\u001b[0m\u001b[0m\n",
            "\u001b[0;31mTypeError\u001b[0m: 'tuple' object does not support item assignment"
          ]
        }
      ],
      "source": [
        "t1[2]=4\n",
        "t1"
      ]
    },
    {
      "cell_type": "code",
      "execution_count": null,
      "metadata": {
        "colab": {
          "base_uri": "https://localhost:8080/",
          "height": 141
        },
        "id": "4ZMIf3tTqQx5",
        "outputId": "8a7d2f8e-fc48-4300-b1c0-53db88fc4256"
      },
      "outputs": [
        {
          "ename": "TypeError",
          "evalue": "'tuple' object does not support item assignment",
          "output_type": "error",
          "traceback": [
            "\u001b[0;31m---------------------------------------------------------------------------\u001b[0m",
            "\u001b[0;31mTypeError\u001b[0m                                 Traceback (most recent call last)",
            "\u001b[0;32m<ipython-input-36-3473e762caea>\u001b[0m in \u001b[0;36m<cell line: 0>\u001b[0;34m()\u001b[0m\n\u001b[0;32m----> 1\u001b[0;31m \u001b[0mt1\u001b[0m\u001b[0;34m[\u001b[0m\u001b[0;36m3\u001b[0m\u001b[0;34m]\u001b[0m\u001b[0;34m=\u001b[0m\u001b[0;36m4\u001b[0m\u001b[0;34m\u001b[0m\u001b[0;34m\u001b[0m\u001b[0m\n\u001b[0m",
            "\u001b[0;31mTypeError\u001b[0m: 'tuple' object does not support item assignment"
          ]
        }
      ],
      "source": [
        "t1[3]=4"
      ]
    },
    {
      "cell_type": "code",
      "execution_count": null,
      "metadata": {
        "id": "eshCpmDZqbxM"
      },
      "outputs": [],
      "source": [
        "t1=(1,2,3,4,5,1,2,2)"
      ]
    },
    {
      "cell_type": "code",
      "execution_count": null,
      "metadata": {
        "colab": {
          "base_uri": "https://localhost:8080/"
        },
        "id": "RyI57vAlqgPx",
        "outputId": "30063abf-7a5e-48a7-d727-151492b67e55"
      },
      "outputs": [
        {
          "data": {
            "text/plain": [
              "2"
            ]
          },
          "execution_count": 38,
          "metadata": {},
          "output_type": "execute_result"
        }
      ],
      "source": [
        "t1.count(1)"
      ]
    },
    {
      "cell_type": "code",
      "execution_count": null,
      "metadata": {
        "colab": {
          "base_uri": "https://localhost:8080/"
        },
        "id": "YZbqGmUlqhoD",
        "outputId": "ccea025b-9dc9-4f21-9f0e-f021b2857807"
      },
      "outputs": [
        {
          "data": {
            "text/plain": [
              "3"
            ]
          },
          "execution_count": 39,
          "metadata": {},
          "output_type": "execute_result"
        }
      ],
      "source": [
        "t1.count(2)"
      ]
    },
    {
      "cell_type": "code",
      "execution_count": null,
      "metadata": {
        "colab": {
          "base_uri": "https://localhost:8080/"
        },
        "id": "jskBpIQRqi7p",
        "outputId": "07b113dc-f6d7-457a-c31a-2073c466f217"
      },
      "outputs": [
        {
          "data": {
            "text/plain": [
              "0"
            ]
          },
          "execution_count": 41,
          "metadata": {},
          "output_type": "execute_result"
        }
      ],
      "source": [
        "t1.count(6)"
      ]
    },
    {
      "cell_type": "code",
      "execution_count": null,
      "metadata": {
        "colab": {
          "base_uri": "https://localhost:8080/"
        },
        "id": "AaYXRep6qjmW",
        "outputId": "f356e878-be77-40e7-c2f6-8ce4ddbbfeba"
      },
      "outputs": [
        {
          "data": {
            "text/plain": [
              "2"
            ]
          },
          "execution_count": 43,
          "metadata": {},
          "output_type": "execute_result"
        }
      ],
      "source": [
        "t1.index(3)"
      ]
    },
    {
      "cell_type": "code",
      "execution_count": null,
      "metadata": {
        "colab": {
          "base_uri": "https://localhost:8080/"
        },
        "id": "tEUuTMx5qoCL",
        "outputId": "2469d0d3-ebf0-4f04-e772-477efb2e37d1"
      },
      "outputs": [
        {
          "name": "stdout",
          "output_type": "stream",
          "text": [
            "(1, 2, 3, 4, 5, 1, 2, 2)\n"
          ]
        }
      ],
      "source": [
        "print(t1)"
      ]
    },
    {
      "cell_type": "code",
      "execution_count": null,
      "metadata": {
        "id": "bljHNh5dq2sf"
      },
      "outputs": [],
      "source": [
        "#Ques 5\n",
        "\n",
        "fav_foods=(\"Noodles\",\"Pastries\",\"Burger\",\"Pizza\",\"Sandwich\")"
      ]
    },
    {
      "cell_type": "code",
      "execution_count": null,
      "metadata": {
        "colab": {
          "base_uri": "https://localhost:8080/"
        },
        "id": "JX302KbUrlal",
        "outputId": "973bb519-c5c5-4e29-80a5-5ccbd0b3f07f"
      },
      "outputs": [
        {
          "name": "stdout",
          "output_type": "stream",
          "text": [
            "Burger\n"
          ]
        }
      ],
      "source": [
        "print(fav_foods[2])"
      ]
    },
    {
      "cell_type": "code",
      "execution_count": null,
      "metadata": {
        "colab": {
          "base_uri": "https://localhost:8080/"
        },
        "id": "wcm1gYzdrnUq",
        "outputId": "21f7687b-2134-4e19-fdb6-c5ef0d23ea88"
      },
      "outputs": [
        {
          "name": "stdout",
          "output_type": "stream",
          "text": [
            "Sandwich\n"
          ]
        }
      ],
      "source": [
        "print(fav_foods[4])"
      ]
    },
    {
      "cell_type": "code",
      "execution_count": null,
      "metadata": {
        "colab": {
          "base_uri": "https://localhost:8080/",
          "height": 176
        },
        "id": "jV7BAJIjrowg",
        "outputId": "ecf0a955-183c-4e0c-9245-f57e7ded4f09"
      },
      "outputs": [
        {
          "ename": "TypeError",
          "evalue": "'tuple' object does not support item assignment",
          "output_type": "error",
          "traceback": [
            "\u001b[0;31m---------------------------------------------------------------------------\u001b[0m",
            "\u001b[0;31mTypeError\u001b[0m                                 Traceback (most recent call last)",
            "\u001b[0;32m<ipython-input-48-e6c3e99e2a5f>\u001b[0m in \u001b[0;36m<cell line: 0>\u001b[0;34m()\u001b[0m\n\u001b[1;32m      2\u001b[0m \u001b[0;31m# Write a comment explaining why it failed.\u001b[0m\u001b[0;34m\u001b[0m\u001b[0;34m\u001b[0m\u001b[0m\n\u001b[1;32m      3\u001b[0m \u001b[0;34m\u001b[0m\u001b[0m\n\u001b[0;32m----> 4\u001b[0;31m \u001b[0mfav_foods\u001b[0m\u001b[0;34m[\u001b[0m\u001b[0;36m2\u001b[0m\u001b[0;34m]\u001b[0m\u001b[0;34m=\u001b[0m\u001b[0;34m\"Brownie\"\u001b[0m\u001b[0;34m\u001b[0m\u001b[0;34m\u001b[0m\u001b[0m\n\u001b[0m",
            "\u001b[0;31mTypeError\u001b[0m: 'tuple' object does not support item assignment"
          ]
        }
      ],
      "source": [
        "# Try modifying an element in your tuple and observe the error.\n",
        "# Write a comment explaining why it failed.\n",
        "\n",
        "fav_foods[2]=\"Brownie\""
      ]
    },
    {
      "cell_type": "markdown",
      "metadata": {
        "id": "SecNCpXusDcT"
      },
      "source": [
        "# 🏛️ Nested Dictionaries\n",
        "\n",
        "✅ A dictionary inside another dictionary!\n",
        "\n",
        "Useful to store **structured data** like:\n",
        "- Student details\n",
        "- Employee records\n",
        "- Product catalogs\n",
        "\n",
        "---\n",
        "\n",
        "## 📋 Example Structure:\n",
        "\n",
        "```python\n",
        "students = {\n",
        "    \"101\": {\"Name\": \"Alice\", \"Age\": 20, \"Grade\": \"A\"},\n",
        "    \"102\": {\"Name\": \"Bob\", \"Age\": 21, \"Grade\": \"B\"},\n",
        "    \"103\": {\"Name\": \"Charlie\", \"Age\": 19, \"Grade\": \"A\"}\n",
        "}\n"
      ]
    },
    {
      "cell_type": "code",
      "execution_count": null,
      "metadata": {
        "id": "X528ZwAMr2gZ"
      },
      "outputs": [],
      "source": [
        "students = {\n",
        "    \"101\": {\"Name\": \"Alice\", \"Age\": 20, \"Grade\": \"A\"},\n",
        "    \"102\": {\"Name\": \"Bob\", \"Age\": 21, \"Grade\": \"B\"},\n",
        "    \"103\": {\"Name\": \"Charlie\", \"Age\": 19, \"Grade\": \"A\"}\n",
        "}\n",
        "\n"
      ]
    },
    {
      "cell_type": "code",
      "execution_count": null,
      "metadata": {
        "colab": {
          "base_uri": "https://localhost:8080/",
          "height": 36
        },
        "id": "JMbvdDHRsNYi",
        "outputId": "bf53a258-e8a9-4fd2-f36b-4d6238c22816"
      },
      "outputs": [
        {
          "data": {
            "application/vnd.google.colaboratory.intrinsic+json": {
              "type": "string"
            },
            "text/plain": [
              "'Alice'"
            ]
          },
          "execution_count": 53,
          "metadata": {},
          "output_type": "execute_result"
        }
      ],
      "source": [
        "students[\"101\"]['Name']"
      ]
    },
    {
      "cell_type": "code",
      "execution_count": null,
      "metadata": {
        "colab": {
          "base_uri": "https://localhost:8080/",
          "height": 36
        },
        "id": "7ihPJvfwsR-R",
        "outputId": "ca143243-cee6-4940-9d1f-7074016fb1dc"
      },
      "outputs": [
        {
          "data": {
            "application/vnd.google.colaboratory.intrinsic+json": {
              "type": "string"
            },
            "text/plain": [
              "'A'"
            ]
          },
          "execution_count": 54,
          "metadata": {},
          "output_type": "execute_result"
        }
      ],
      "source": [
        "students[\"103\"]['Grade']"
      ]
    },
    {
      "cell_type": "code",
      "execution_count": null,
      "metadata": {
        "id": "O-gHmMSKsWoL"
      },
      "outputs": [],
      "source": [
        "students[\"101\"]['Grade']=\"B\""
      ]
    },
    {
      "cell_type": "code",
      "execution_count": null,
      "metadata": {
        "id": "XytkC_LYsk-8"
      },
      "outputs": [],
      "source": [
        "students[\"101\"].update({\"Grade\":\"C\"})"
      ]
    },
    {
      "cell_type": "code",
      "execution_count": null,
      "metadata": {
        "colab": {
          "base_uri": "https://localhost:8080/"
        },
        "id": "YhxvTImGslcF",
        "outputId": "b3a982b5-79c7-46da-88bf-ee9dd7819858"
      },
      "outputs": [
        {
          "data": {
            "text/plain": [
              "{'101': {'Name': 'Alice', 'Age': 20, 'Grade': 'C'},\n",
              " '102': {'Name': 'Bob', 'Age': 21, 'Grade': 'B'},\n",
              " '103': {'Name': 'Charlie', 'Age': 19, 'Grade': 'A'}}"
            ]
          },
          "execution_count": 59,
          "metadata": {},
          "output_type": "execute_result"
        }
      ],
      "source": [
        "students"
      ]
    },
    {
      "cell_type": "code",
      "execution_count": null,
      "metadata": {
        "id": "a6SyO2MXtbAR"
      },
      "outputs": [],
      "source": [
        "students.update({'101':{'Grade':'A'}})"
      ]
    },
    {
      "cell_type": "code",
      "execution_count": null,
      "metadata": {
        "colab": {
          "base_uri": "https://localhost:8080/"
        },
        "id": "2LuY2JiXtggd",
        "outputId": "461d3d92-7950-48df-9530-4e95088ebf1a"
      },
      "outputs": [
        {
          "data": {
            "text/plain": [
              "{'101': {'Grade': 'A'},\n",
              " '102': {'Name': 'Bob', 'Age': 21, 'Grade': 'B'},\n",
              " '103': {'Name': 'Charlie', 'Age': 19, 'Grade': 'A'}}"
            ]
          },
          "execution_count": 61,
          "metadata": {},
          "output_type": "execute_result"
        }
      ],
      "source": [
        "students"
      ]
    },
    {
      "cell_type": "code",
      "execution_count": null,
      "metadata": {
        "id": "ygD-NXfJthFT"
      },
      "outputs": [],
      "source": []
    },
    {
      "cell_type": "markdown",
      "metadata": {
        "id": "K8C0GqwJtzUu"
      },
      "source": [
        "# 🛠️ Useful Dictionary Methods\n",
        "\n",
        "| Method          | Description                          |\n",
        "|-----------------|--------------------------------------|\n",
        "| `dict.keys()`   | Returns a list of all keys            |\n",
        "| `dict.values()` | Returns a list of all values          |\n",
        "| `dict.items()`  | Returns a list of (key, value) pairs  |\n",
        "| `dict.get(key)` | Returns value safely (None if missing) |\n",
        "| `dict.pop(key)` | Removes a key-value pair              |\n",
        "| `dict.update()` | Updates dictionary with another dict |\n",
        "\n",
        "---\n",
        "\n",
        "✅ Examples:\n",
        "\n",
        "```python\n",
        "students.keys()\n",
        "students.values()\n",
        "students.items()\n",
        "students.get(\"101\")\n",
        "students.pop(\"103\")\n",
        "students.update({\"104\": {\"Name\": \"Divya\", \"Age\": 22, \"Grade\": \"B\"}})\n"
      ]
    },
    {
      "cell_type": "code",
      "execution_count": null,
      "metadata": {
        "id": "EPIxyIe3t6mo"
      },
      "outputs": [],
      "source": [
        "students = {\n",
        "    \"101\": {\"Name\": \"Alice\", \"Age\": 20, \"Grade\": \"A\"},\n",
        "    \"102\": {\"Name\": \"Bob\", \"Age\": 21, \"Grade\": \"B\"},\n",
        "    \"103\": {\"Name\": \"Charlie\", \"Age\": 19, \"Grade\": \"A\"}\n",
        "}"
      ]
    },
    {
      "cell_type": "code",
      "execution_count": null,
      "metadata": {
        "colab": {
          "base_uri": "https://localhost:8080/"
        },
        "id": "E0lAlEZntzvv",
        "outputId": "1b644a45-4594-438e-bdb2-bcf00769209e"
      },
      "outputs": [
        {
          "data": {
            "text/plain": [
              "dict_keys(['101', '102', '103'])"
            ]
          },
          "execution_count": 65,
          "metadata": {},
          "output_type": "execute_result"
        }
      ],
      "source": [
        "students.keys()"
      ]
    },
    {
      "cell_type": "code",
      "execution_count": null,
      "metadata": {
        "colab": {
          "base_uri": "https://localhost:8080/"
        },
        "id": "_IXquSkgt21r",
        "outputId": "31a0667a-f4f3-4f0f-f898-d798b5b22157"
      },
      "outputs": [
        {
          "data": {
            "text/plain": [
              "dict_values([{'Name': 'Alice', 'Age': 20, 'Grade': 'A'}, {'Name': 'Bob', 'Age': 21, 'Grade': 'B'}, {'Name': 'Charlie', 'Age': 19, 'Grade': 'A'}])"
            ]
          },
          "execution_count": 66,
          "metadata": {},
          "output_type": "execute_result"
        }
      ],
      "source": [
        "students.values()"
      ]
    },
    {
      "cell_type": "code",
      "execution_count": null,
      "metadata": {
        "colab": {
          "base_uri": "https://localhost:8080/"
        },
        "id": "pnXgFLtit8Ha",
        "outputId": "0770debf-df9f-49db-a428-ffdbfbd08841"
      },
      "outputs": [
        {
          "name": "stdout",
          "output_type": "stream",
          "text": [
            "Name Alice\n",
            "Age 20\n",
            "Grade A\n"
          ]
        }
      ],
      "source": [
        "for k,v in students.items():\n",
        "  if k==\"101\":\n",
        "    #print (k,v)\n",
        "    for field,value in v.items():\n",
        "      print(field,value)"
      ]
    },
    {
      "cell_type": "code",
      "execution_count": null,
      "metadata": {
        "colab": {
          "base_uri": "https://localhost:8080/"
        },
        "id": "ckUCpE2ot-9T",
        "outputId": "625fb9a0-ff3a-4361-f3c6-4124071dcd02"
      },
      "outputs": [
        {
          "data": {
            "text/plain": [
              "{'Name': 'Alice', 'Age': 20, 'Grade': 'A'}"
            ]
          },
          "execution_count": 70,
          "metadata": {},
          "output_type": "execute_result"
        }
      ],
      "source": [
        "students.get(\"101\")"
      ]
    },
    {
      "cell_type": "code",
      "execution_count": null,
      "metadata": {
        "colab": {
          "base_uri": "https://localhost:8080/"
        },
        "id": "mu6lTbUruMHR",
        "outputId": "477dc760-0267-4d58-eb1b-dd90024101b9"
      },
      "outputs": [
        {
          "data": {
            "text/plain": [
              "{'Name': 'Alice', 'Age': 20, 'Grade': 'A'}"
            ]
          },
          "execution_count": 71,
          "metadata": {},
          "output_type": "execute_result"
        }
      ],
      "source": [
        "students[\"101\"]"
      ]
    },
    {
      "cell_type": "code",
      "execution_count": null,
      "metadata": {
        "colab": {
          "base_uri": "https://localhost:8080/"
        },
        "id": "Y4ZmOYDpuOob",
        "outputId": "4caf66ce-3c96-43b8-bd19-2f87c5524ff2"
      },
      "outputs": [
        {
          "data": {
            "text/plain": [
              "{'101': {'Name': 'Alice', 'Age': 20, 'Grade': 'A'},\n",
              " '102': {'Name': 'Bob', 'Age': 21, 'Grade': 'B'},\n",
              " '103': {'Name': 'Charlie', 'Age': 19, 'Grade': 'A'}}"
            ]
          },
          "execution_count": 75,
          "metadata": {},
          "output_type": "execute_result"
        }
      ],
      "source": [
        "students"
      ]
    },
    {
      "cell_type": "code",
      "execution_count": null,
      "metadata": {
        "colab": {
          "base_uri": "https://localhost:8080/"
        },
        "id": "z20nCOMmu-zQ",
        "outputId": "910d880a-70c8-463f-afe3-4a7bc04b436a"
      },
      "outputs": [
        {
          "data": {
            "text/plain": [
              "{'Name': 'Alice', 'Age': 20, 'Grade': 'A'}"
            ]
          },
          "execution_count": 76,
          "metadata": {},
          "output_type": "execute_result"
        }
      ],
      "source": [
        "students.pop(\"101\")"
      ]
    },
    {
      "cell_type": "code",
      "execution_count": null,
      "metadata": {
        "colab": {
          "base_uri": "https://localhost:8080/"
        },
        "id": "cXtQfwMtvBG-",
        "outputId": "9263a681-29b3-436d-997a-6544bc0f2cc4"
      },
      "outputs": [
        {
          "data": {
            "text/plain": [
              "{'102': {'Name': 'Bob', 'Age': 21, 'Grade': 'B'},\n",
              " '103': {'Name': 'Charlie', 'Age': 19, 'Grade': 'A'}}"
            ]
          },
          "execution_count": 77,
          "metadata": {},
          "output_type": "execute_result"
        }
      ],
      "source": [
        "students"
      ]
    },
    {
      "cell_type": "code",
      "execution_count": null,
      "metadata": {
        "colab": {
          "base_uri": "https://localhost:8080/",
          "height": 36
        },
        "id": "7uT7l3mIvB_E",
        "outputId": "2c2e01a8-a241-44db-dfd6-7d318088f943"
      },
      "outputs": [
        {
          "data": {
            "application/vnd.google.colaboratory.intrinsic+json": {
              "type": "string"
            },
            "text/plain": [
              "'B'"
            ]
          },
          "execution_count": 79,
          "metadata": {},
          "output_type": "execute_result"
        }
      ],
      "source": [
        "students['102'].pop(\"Grade\")"
      ]
    },
    {
      "cell_type": "code",
      "execution_count": null,
      "metadata": {
        "colab": {
          "base_uri": "https://localhost:8080/"
        },
        "id": "x6zjliSEvcLU",
        "outputId": "5f2a37fa-99bf-4cbb-8a9d-2d8ee147699f"
      },
      "outputs": [
        {
          "data": {
            "text/plain": [
              "{'102': {'Name': 'Bob', 'Age': 21},\n",
              " '103': {'Name': 'Charlie', 'Age': 19, 'Grade': 'A'}}"
            ]
          },
          "execution_count": 80,
          "metadata": {},
          "output_type": "execute_result"
        }
      ],
      "source": [
        "students"
      ]
    },
    {
      "cell_type": "code",
      "execution_count": null,
      "metadata": {
        "colab": {
          "base_uri": "https://localhost:8080/"
        },
        "id": "e_PK6J6evn1y",
        "outputId": "50fcea99-4146-4660-e0b0-df870733882e"
      },
      "outputs": [
        {
          "data": {
            "text/plain": [
              "19"
            ]
          },
          "execution_count": 84,
          "metadata": {},
          "output_type": "execute_result"
        }
      ],
      "source": [
        "students.get(\"103\").get(\"Age\")"
      ]
    },
    {
      "cell_type": "code",
      "execution_count": null,
      "metadata": {
        "colab": {
          "base_uri": "https://localhost:8080/"
        },
        "id": "S_l_vg_ivt1U",
        "outputId": "ccc133c7-8179-4357-a135-c61079e38b01"
      },
      "outputs": [
        {
          "data": {
            "text/plain": [
              "19"
            ]
          },
          "execution_count": 85,
          "metadata": {},
          "output_type": "execute_result"
        }
      ],
      "source": [
        "students[\"103\"]['Age']"
      ]
    },
    {
      "cell_type": "markdown",
      "metadata": {
        "id": "4XawhwTkwUrc"
      },
      "source": [
        "# 🧠 Practice Problems: Nested Dictionaries & Tuples\n",
        "\n",
        "---\n",
        "\n",
        "## Tuples\n",
        "1. Create a tuple with 6 city names. Print the third and fifth cities.\n",
        "2. Check if `\"Mumbai\"` is present in a tuple of cities.\n",
        "\n",
        "---\n",
        "\n",
        "## Nested Dictionaries\n",
        "3. Create a dictionary for 3 students:\n",
        "   - Each student has Name, Age, Subject\n",
        "4. Print all students who have `\"Math\"` as subject.\n",
        "5. Update the age of a student using their ID.\n",
        "6. Add a new student into the dictionary.\n",
        "\n",
        "---\n",
        "\n",
        "## Bonus Challenge\n",
        "7. Build a small employee database where:\n",
        "   - Keys are Employee IDs\n",
        "   - Values are dictionaries with name, department, salary\n",
        "   - Print names of all employees whose salary > ₹60000\n"
      ]
    },
    {
      "cell_type": "code",
      "execution_count": null,
      "metadata": {
        "id": "5RgFrDHawxUE"
      },
      "outputs": [],
      "source": [
        "employee_details = {\n",
        "    \"101\": {\"Name\": \"Alice\", \"Deparment\": \"Finance\", \"Salary\": 120000},\n",
        "    \"102\": {\"Name\": \"Bob\", \"Deparment\": \"Tech\", \"Salary\": 80000},\n",
        "    \"103\": {\"Name\": \"Charlie\", \"Deparment\": \"Operations\", \"Salary\": 47000}\n",
        "}"
      ]
    },
    {
      "cell_type": "code",
      "execution_count": null,
      "metadata": {
        "colab": {
          "base_uri": "https://localhost:8080/"
        },
        "id": "F248Qyfov5lp",
        "outputId": "08772fa3-7606-42cc-8896-02d322a206c7"
      },
      "outputs": [
        {
          "name": "stdout",
          "output_type": "stream",
          "text": [
            "bangalore goa\n"
          ]
        }
      ],
      "source": [
        "#Tuples Ques 1 by Khushboo\n",
        "cities_tuple=('mumbai',\"delhi\",\"bangalore\",'lucknow','goa','varanasi')\n",
        "print(cities_tuple[2],cities_tuple[4])"
      ]
    },
    {
      "cell_type": "code",
      "execution_count": null,
      "metadata": {
        "colab": {
          "base_uri": "https://localhost:8080/"
        },
        "id": "585rmzT608Aa",
        "outputId": "3f47b341-5ec2-4605-953c-229c23c11976"
      },
      "outputs": [
        {
          "name": "stdout",
          "output_type": "stream",
          "text": [
            "Yes\n"
          ]
        }
      ],
      "source": [
        "if \"mumbai\" in cities_tuple:\n",
        "  print(\"Yes\")"
      ]
    },
    {
      "cell_type": "code",
      "execution_count": null,
      "metadata": {
        "colab": {
          "base_uri": "https://localhost:8080/"
        },
        "id": "fwH0LsBh1I9L",
        "outputId": "cf554e2e-ac0d-4f65-c775-714cfee12c79"
      },
      "outputs": [
        {
          "name": "stdout",
          "output_type": "stream",
          "text": [
            "Yes\n"
          ]
        }
      ],
      "source": [
        "for each in cities_tuple:\n",
        "  if each==\"mumbai\":\n",
        "    print(\"Yes\")"
      ]
    },
    {
      "cell_type": "code",
      "execution_count": null,
      "metadata": {
        "colab": {
          "base_uri": "https://localhost:8080/"
        },
        "id": "hMsRR5Sk1NZS",
        "outputId": "b34bed07-8365-4c70-bef1-464345257130"
      },
      "outputs": [
        {
          "name": "stdout",
          "output_type": "stream",
          "text": [
            "Student: Alice\n",
            "Student: Charlie\n"
          ]
        }
      ],
      "source": [
        "# Ques 3 By Satya\n",
        "\n",
        "Students = {\"001\": {\"Name\" : \"Alice\" , \"Age\" : 20 , \"Subject\" : \"Math\"},\n",
        "            \"002\": {\"Name\" : \"Bob\" , \"Age\" : 21 , \"Subject\" : \"English\"},\n",
        "            \"003\": {\"Name\" : \"Charlie\" , \"Age\" : 22 , \"Subject\" : \"Math\"}}\n",
        "\n",
        "\n",
        "for studentId,details in Students.items():\n",
        "  if details[\"Subject\"] == 'Math':\n",
        "    print(\"Student:\", details[\"Name\"])\n",
        "\n",
        "\n"
      ]
    },
    {
      "cell_type": "code",
      "execution_count": null,
      "metadata": {
        "colab": {
          "base_uri": "https://localhost:8080/"
        },
        "id": "k9uIeICq2QGc",
        "outputId": "8dd4d46a-f428-43df-9f1c-975448bbce75"
      },
      "outputs": [
        {
          "data": {
            "text/plain": [
              "{'001': {'Name': 'Alice', 'Age': 20, 'Subject': 'Math'},\n",
              " '002': {'Name': 'Bob', 'Age': 22, 'Subject': 'English'},\n",
              " '003': {'Name': 'Charlie', 'Age': 22, 'Subject': 'Math'}}"
            ]
          },
          "execution_count": 93,
          "metadata": {},
          "output_type": "execute_result"
        }
      ],
      "source": [
        "Students[\"002\"][\"Age\"] = 22\n",
        "Students"
      ]
    },
    {
      "cell_type": "code",
      "execution_count": null,
      "metadata": {
        "id": "CDnBckdx2JII"
      },
      "outputs": [],
      "source": [
        "Students[\"004\"] = {\"Name\": \"Ashok\", \"Age\": 18, \"Subject\": \"Math\"}"
      ]
    },
    {
      "cell_type": "code",
      "execution_count": null,
      "metadata": {
        "colab": {
          "base_uri": "https://localhost:8080/"
        },
        "id": "g6P0p__Y2Wsa",
        "outputId": "27739a88-0b2e-481e-df3c-89dcdb51384f"
      },
      "outputs": [
        {
          "data": {
            "text/plain": [
              "{'001': {'Name': 'Alice', 'Age': 20, 'Subject': 'Math'},\n",
              " '002': {'Name': 'Bob', 'Age': 22, 'Subject': 'English'},\n",
              " '003': {'Name': 'Charlie', 'Age': 22, 'Subject': 'Math'},\n",
              " '004': {'Name': 'Ashok', 'Age': 18, 'Subject': 'Math'}}"
            ]
          },
          "execution_count": 95,
          "metadata": {},
          "output_type": "execute_result"
        }
      ],
      "source": [
        "Students"
      ]
    },
    {
      "cell_type": "code",
      "execution_count": null,
      "metadata": {
        "colab": {
          "base_uri": "https://localhost:8080/"
        },
        "id": "LOArANx42XXP",
        "outputId": "e82f1483-af6f-446d-aee3-cb8aac932903"
      },
      "outputs": [
        {
          "name": "stdout",
          "output_type": "stream",
          "text": [
            "2 : {'Name': 'Alisha', 'Age': 28, 'Subject': 'Math'}\n",
            "{1: {'Name': 'Vardha', 'Age': 30, 'Subject': 'Science'}, 2: {'Name': 'Alisha', 'Age': 28, 'Subject': 'Math'}, 3: {'Name': 'Pallavi', 'Age': 27, 'Subject': 'History'}}\n"
          ]
        }
      ],
      "source": [
        "Students={\n",
        "    1:{\n",
        "        \"Name\":\"Vardha\",\n",
        "        \"Age\":29,\n",
        "        \"Subject\":\"Science\"\n",
        "    },\n",
        "    2:{\n",
        "        \"Name\":\"Alisha\",\n",
        "        \"Age\":28,\n",
        "        \"Subject\":\"Math\"\n",
        "    },\n",
        "    3:{\n",
        "        \"Name\":\"Pallavi\",\n",
        "        \"Age\":27,\n",
        "        \"Subject\":\"History\"\n",
        "    }\n",
        "}\n",
        "\n",
        "# To print all students with Subject Math\n",
        "\n",
        "for student,details in Students.items():\n",
        "  if details[\"Subject\"]==\"Math\":\n",
        "    print(student,\":\",details)\n",
        "\n",
        "# To update age of a Student\n",
        "\n",
        "Students[1][\"Age\"]=30\n",
        "print(Students)\n"
      ]
    },
    {
      "cell_type": "code",
      "execution_count": null,
      "metadata": {
        "colab": {
          "base_uri": "https://localhost:8080/"
        },
        "id": "uXNGt0X52joj",
        "outputId": "63ee2820-b0ea-47e5-e836-a90a80bd5398"
      },
      "outputs": [
        {
          "name": "stdout",
          "output_type": "stream",
          "text": [
            "{1: {'Name': 'Vardha', 'Age': 25, 'Subject': 'Science'}, 2: {'Name': 'Alisha', 'Age': 28, 'Subject': 'Math'}, 3: {'Name': 'Pallavi', 'Age': 27, 'Subject': 'History'}}\n"
          ]
        }
      ],
      "source": [
        "Students[1].update({\"Age\":25})\n",
        "print(Students)\n"
      ]
    },
    {
      "cell_type": "code",
      "execution_count": null,
      "metadata": {
        "colab": {
          "base_uri": "https://localhost:8080/"
        },
        "id": "kSV-2YvH2oIK",
        "outputId": "e01bbbc6-b742-4c18-c057-ee34e224126e"
      },
      "outputs": [
        {
          "name": "stdout",
          "output_type": "stream",
          "text": [
            "{1: {'Name': 'Vardha', 'Age': 25, 'Subject': 'Science'}, 2: {'Name': 'Alisha', 'Age': 28, 'Subject': 'Math'}, 3: {'Name': 'Pallavi', 'Age': 27, 'Subject': 'History'}, 4: {'Name': 'Isha', 'Age': 26, 'Subject': 'Science'}}\n"
          ]
        }
      ],
      "source": [
        "new_student={\n",
        "    \"Name\":\"Isha\",\n",
        "    \"Age\":26,\n",
        "    \"Subject\":\"Science\"\n",
        "}\n",
        "Students[4]=new_student\n",
        "print(Students)"
      ]
    },
    {
      "cell_type": "code",
      "execution_count": null,
      "metadata": {
        "colab": {
          "base_uri": "https://localhost:8080/"
        },
        "id": "6AhwPa4W2sET",
        "outputId": "ba50fe1a-6098-4b4d-efd6-ee3f4023db22"
      },
      "outputs": [
        {
          "data": {
            "text/plain": [
              "{1: {'Name': 'Vardha', 'Age': 25, 'Subject': 'Science'},\n",
              " 2: {'Name': 'Alisha', 'Age': 28, 'Subject': 'Math'},\n",
              " 3: {'Name': 'Pallavi', 'Age': 27, 'Subject': 'History'},\n",
              " 4: {'Name': 'Isha', 'Age': 26, 'Subject': 'Science'}}"
            ]
          },
          "execution_count": 99,
          "metadata": {},
          "output_type": "execute_result"
        }
      ],
      "source": [
        "Students"
      ]
    },
    {
      "cell_type": "code",
      "execution_count": null,
      "metadata": {
        "colab": {
          "base_uri": "https://localhost:8080/"
        },
        "id": "KcS4mdnf2t_l",
        "outputId": "5c3c3a24-f2e3-4802-8602-5ecf5115b1af"
      },
      "outputs": [
        {
          "data": {
            "text/plain": [
              "dict_keys([1, 2, 3, 4])"
            ]
          },
          "execution_count": 101,
          "metadata": {},
          "output_type": "execute_result"
        }
      ],
      "source": [
        "Students.keys()"
      ]
    },
    {
      "cell_type": "code",
      "execution_count": null,
      "metadata": {
        "colab": {
          "base_uri": "https://localhost:8080/"
        },
        "id": "F0vh82vy20fd",
        "outputId": "153b4729-a762-4d46-d448-2d8843c0834e"
      },
      "outputs": [
        {
          "data": {
            "text/plain": [
              "32"
            ]
          },
          "execution_count": 108,
          "metadata": {},
          "output_type": "execute_result"
        }
      ],
      "source": [
        "Students.get(1).get('Age')"
      ]
    },
    {
      "cell_type": "code",
      "execution_count": null,
      "metadata": {
        "id": "sTp0wgQ328C6"
      },
      "outputs": [],
      "source": [
        "Students[1]['Age']=32"
      ]
    },
    {
      "cell_type": "code",
      "execution_count": null,
      "metadata": {
        "colab": {
          "base_uri": "https://localhost:8080/"
        },
        "id": "nmGgutiW3GWW",
        "outputId": "4b8461e0-f877-4621-c625-af97ac2e13d0"
      },
      "outputs": [
        {
          "data": {
            "text/plain": [
              "{1: {'Name': 'Vardha', 'Age': 32, 'Subject': 'Science'},\n",
              " 2: {'Name': 'Alisha', 'Age': 28, 'Subject': 'Math'},\n",
              " 3: {'Name': 'Pallavi', 'Age': 27, 'Subject': 'History'},\n",
              " 4: {'Name': 'Isha', 'Age': 26, 'Subject': 'Science'}}"
            ]
          },
          "execution_count": 107,
          "metadata": {},
          "output_type": "execute_result"
        }
      ],
      "source": [
        "Students"
      ]
    },
    {
      "cell_type": "code",
      "execution_count": null,
      "metadata": {
        "colab": {
          "base_uri": "https://localhost:8080/"
        },
        "id": "1sRsfJ-n3G-Q",
        "outputId": "e97a5a26-a543-4ba0-f1f9-3bac6c48187d"
      },
      "outputs": [
        {
          "data": {
            "text/plain": [
              "dict_keys([1, 2, 3, 4])"
            ]
          },
          "execution_count": 110,
          "metadata": {},
          "output_type": "execute_result"
        }
      ],
      "source": [
        "Students.keys()"
      ]
    },
    {
      "cell_type": "code",
      "execution_count": null,
      "metadata": {
        "colab": {
          "base_uri": "https://localhost:8080/",
          "height": 36
        },
        "id": "WDaiBO9i3O_m",
        "outputId": "aed90adb-2a05-4822-b0cb-7bd85c531a48"
      },
      "outputs": [
        {
          "data": {
            "application/vnd.google.colaboratory.intrinsic+json": {
              "type": "string"
            },
            "text/plain": [
              "'vardha'"
            ]
          },
          "execution_count": 113,
          "metadata": {},
          "output_type": "execute_result"
        }
      ],
      "source": [
        "Students[1]['Name'].lower()"
      ]
    },
    {
      "cell_type": "code",
      "execution_count": null,
      "metadata": {
        "colab": {
          "base_uri": "https://localhost:8080/"
        },
        "id": "Wy_0euKi3R4v",
        "outputId": "1d9e553b-61bd-4591-f224-7bb13d10de88"
      },
      "outputs": [
        {
          "data": {
            "text/plain": [
              "{'E101': {'Name': 'Alice', 'Deparment': 'Finance', 'Salary': 120000},\n",
              " 'E102': {'Name': 'Bob', 'Deparment': 'Tech', 'Salary': 80000},\n",
              " 'E103': {'Name': 'Charlie', 'Deparment': 'Operations', 'Salary': 47000}}"
            ]
          },
          "execution_count": 120,
          "metadata": {},
          "output_type": "execute_result"
        }
      ],
      "source": [
        "employee_details = {\n",
        "    \"E101\": {\"Name\": \"Alice\", \"Deparment\": \"Finance\", \"Salary\": 120000},\n",
        "    \"E102\": {\"Name\": \"Bob\", \"Deparment\": \"Tech\", \"Salary\": 80000},\n",
        "    \"E103\": {\"Name\": \"Charlie\", \"Deparment\": \"Operations\", \"Salary\": 47000}\n",
        "}\n",
        "\n",
        "employee_details"
      ]
    },
    {
      "cell_type": "code",
      "execution_count": null,
      "metadata": {
        "colab": {
          "base_uri": "https://localhost:8080/"
        },
        "id": "uHgvN3WA3wnc",
        "outputId": "9eb46340-5f75-424b-9901-963833ca07b9"
      },
      "outputs": [
        {
          "name": "stdout",
          "output_type": "stream",
          "text": [
            "101 Alice 120000\n",
            "102 Bob 80000\n"
          ]
        }
      ],
      "source": [
        "for employee_id,details in employee_details.items():\n",
        "  if details['Salary']>60000:\n",
        "    print(employee_id,details['Name'],details['Salary'])"
      ]
    },
    {
      "cell_type": "code",
      "execution_count": null,
      "metadata": {
        "id": "2JEhz6vF4Par"
      },
      "outputs": [],
      "source": [
        "list_numbers=[1,2,3,4]\n",
        "\n",
        "for num in list_numbers:\n"
      ]
    },
    {
      "cell_type": "markdown",
      "metadata": {
        "id": "B1Otdi_N4tLx"
      },
      "source": [
        "\n",
        "```\n",
        "Session 7,\"Lists: Creation, Indexing, Slicing, Modification\",25/04/2025\n",
        "Session 8,\"List Methods & Operators, Tuples, Dictionaries\",26/04/2025\n",
        "Session 9,\"Nested Dictionaries, Dictionary Methods, Practice\",27/04/2025\n",
        "```\n"
      ]
    },
    {
      "cell_type": "code",
      "execution_count": null,
      "metadata": {
        "id": "X3dIsta_4t9v"
      },
      "outputs": [],
      "source": [
        "\n",
        "##List []\n",
        "## Tuples ()\n",
        "## Dictionary {\"key\":value}\n",
        "\n"
      ]
    },
    {
      "cell_type": "code",
      "execution_count": null,
      "metadata": {
        "id": "DP4hP0IA5ax_"
      },
      "outputs": [],
      "source": [
        "## Sets\n",
        "a={1,2,3,4,1,2}\n",
        "b={3,4,5,6,7,3}"
      ]
    },
    {
      "cell_type": "code",
      "execution_count": null,
      "metadata": {
        "colab": {
          "base_uri": "https://localhost:8080/"
        },
        "id": "2wZJmVCD5ytW",
        "outputId": "93c91fbc-45c2-4464-83a2-da94bcbd667e"
      },
      "outputs": [
        {
          "data": {
            "text/plain": [
              "set"
            ]
          },
          "execution_count": 124,
          "metadata": {},
          "output_type": "execute_result"
        }
      ],
      "source": [
        "type(a)"
      ]
    },
    {
      "cell_type": "code",
      "execution_count": null,
      "metadata": {
        "colab": {
          "base_uri": "https://localhost:8080/"
        },
        "id": "f8kPHgi95zkM",
        "outputId": "a1855709-6f77-41b7-ffb8-6b7db7ede669"
      },
      "outputs": [
        {
          "data": {
            "text/plain": [
              "set"
            ]
          },
          "execution_count": 125,
          "metadata": {},
          "output_type": "execute_result"
        }
      ],
      "source": [
        "type(b)"
      ]
    },
    {
      "cell_type": "code",
      "execution_count": null,
      "metadata": {
        "colab": {
          "base_uri": "https://localhost:8080/"
        },
        "id": "Y6eurkVK50q5",
        "outputId": "a1364bdf-db65-49a6-d7fb-d433a0f40cf7"
      },
      "outputs": [
        {
          "name": "stdout",
          "output_type": "stream",
          "text": [
            "{3, 4, 5, 6, 7}\n"
          ]
        }
      ],
      "source": [
        "print(b)"
      ]
    },
    {
      "cell_type": "code",
      "execution_count": null,
      "metadata": {
        "colab": {
          "base_uri": "https://localhost:8080/"
        },
        "id": "gSqyifnI6E4f",
        "outputId": "1ce78c52-7d83-497b-c4e8-24a69a899de2"
      },
      "outputs": [
        {
          "data": {
            "text/plain": [
              "{3, 4}"
            ]
          },
          "execution_count": 128,
          "metadata": {},
          "output_type": "execute_result"
        }
      ],
      "source": [
        "a.intersection(b)"
      ]
    },
    {
      "cell_type": "code",
      "execution_count": null,
      "metadata": {
        "colab": {
          "base_uri": "https://localhost:8080/"
        },
        "id": "PW8SD4ZB6VLr",
        "outputId": "c094ef9b-0c07-4e73-ac5b-5de8eb6bba06"
      },
      "outputs": [
        {
          "data": {
            "text/plain": [
              "{1, 2, 3, 4, 5, 6, 7}"
            ]
          },
          "execution_count": 129,
          "metadata": {},
          "output_type": "execute_result"
        }
      ],
      "source": [
        "a.union(b)"
      ]
    },
    {
      "cell_type": "code",
      "execution_count": null,
      "metadata": {
        "id": "fLTWX2-a6aaI"
      },
      "outputs": [],
      "source": []
    },
    {
      "cell_type": "markdown",
      "metadata": {
        "id": "uhXOMgXx6eCl"
      },
      "source": [
        "# 📚 What is a Set?\n",
        "\n",
        "✅ A **Set** is a built-in Python data structure that:\n",
        "- Stores **unordered** and **unique** items.\n",
        "- Is **mutable** (you can add or remove elements).\n",
        "- Does **NOT allow duplicate elements**.\n",
        "\n",
        "---\n",
        "\n",
        "## 📋 Why Use Sets?\n",
        "\n",
        "- To store **unique items** only.\n",
        "- For **fast membership tests** (`in`, `not in`).\n",
        "- For **mathematical operations** like union, intersection, etc.\n",
        "\n",
        "---\n"
      ]
    },
    {
      "cell_type": "code",
      "execution_count": null,
      "metadata": {
        "colab": {
          "base_uri": "https://localhost:8080/"
        },
        "id": "bawsBcF16fBo",
        "outputId": "ca9386c2-6d44-4be3-fd90-4f7cdf464f7a"
      },
      "outputs": [
        {
          "data": {
            "text/plain": [
              "{1, 2, 3, 4}"
            ]
          },
          "execution_count": 130,
          "metadata": {},
          "output_type": "execute_result"
        }
      ],
      "source": [
        "a"
      ]
    },
    {
      "cell_type": "code",
      "execution_count": null,
      "metadata": {
        "id": "w7rV7Q8w6jls"
      },
      "outputs": [],
      "source": [
        "a.add(5)"
      ]
    },
    {
      "cell_type": "code",
      "execution_count": null,
      "metadata": {
        "colab": {
          "base_uri": "https://localhost:8080/"
        },
        "id": "94NRswAH6mDr",
        "outputId": "f5328e24-9eff-42a5-c8ba-a528cb42cb44"
      },
      "outputs": [
        {
          "data": {
            "text/plain": [
              "{1, 2, 3, 4, 5}"
            ]
          },
          "execution_count": 132,
          "metadata": {},
          "output_type": "execute_result"
        }
      ],
      "source": [
        "a"
      ]
    },
    {
      "cell_type": "code",
      "execution_count": null,
      "metadata": {
        "id": "I9ejRr996mTx"
      },
      "outputs": [],
      "source": [
        "a.remove(5)"
      ]
    },
    {
      "cell_type": "code",
      "execution_count": null,
      "metadata": {
        "colab": {
          "base_uri": "https://localhost:8080/"
        },
        "id": "nvhxqIjz6pbi",
        "outputId": "fd33f2c2-c116-4c33-f490-2fae9b9e9696"
      },
      "outputs": [
        {
          "data": {
            "text/plain": [
              "{1, 2, 3, 4}"
            ]
          },
          "execution_count": 134,
          "metadata": {},
          "output_type": "execute_result"
        }
      ],
      "source": [
        "a"
      ]
    },
    {
      "cell_type": "code",
      "execution_count": null,
      "metadata": {
        "colab": {
          "base_uri": "https://localhost:8080/",
          "height": 141
        },
        "id": "Dx6hmU1F6ps9",
        "outputId": "04dddb0a-166b-4e79-9db7-681fd71bbff3"
      },
      "outputs": [
        {
          "ename": "TypeError",
          "evalue": "'set' object is not subscriptable",
          "output_type": "error",
          "traceback": [
            "\u001b[0;31m---------------------------------------------------------------------------\u001b[0m",
            "\u001b[0;31mTypeError\u001b[0m                                 Traceback (most recent call last)",
            "\u001b[0;32m<ipython-input-135-6a1284577a36>\u001b[0m in \u001b[0;36m<cell line: 0>\u001b[0;34m()\u001b[0m\n\u001b[0;32m----> 1\u001b[0;31m \u001b[0ma\u001b[0m\u001b[0;34m[\u001b[0m\u001b[0;36m0\u001b[0m\u001b[0;34m]\u001b[0m\u001b[0;34m\u001b[0m\u001b[0;34m\u001b[0m\u001b[0m\n\u001b[0m",
            "\u001b[0;31mTypeError\u001b[0m: 'set' object is not subscriptable"
          ]
        }
      ],
      "source": [
        "a[0]"
      ]
    },
    {
      "cell_type": "code",
      "execution_count": null,
      "metadata": {
        "id": "_E-4MCp56sc9"
      },
      "outputs": [],
      "source": [
        "a.update(b)"
      ]
    },
    {
      "cell_type": "code",
      "execution_count": null,
      "metadata": {
        "colab": {
          "base_uri": "https://localhost:8080/"
        },
        "id": "8pwJXp8160eN",
        "outputId": "c3501a76-f330-4bbe-cb33-89a2c11985fd"
      },
      "outputs": [
        {
          "data": {
            "text/plain": [
              "{1, 2, 3, 4, 5, 6, 7}"
            ]
          },
          "execution_count": 137,
          "metadata": {},
          "output_type": "execute_result"
        }
      ],
      "source": [
        "a"
      ]
    },
    {
      "cell_type": "markdown",
      "metadata": {
        "id": "Q36ZPz-d69qd"
      },
      "source": [
        "# 🔥 Properties of Sets\n",
        "\n",
        "| Property        | Details                                        |\n",
        "|-----------------|------------------------------------------------|\n",
        "| Unordered       | No guarantee of order                          |\n",
        "| No duplicates   | Automatically removes repeated elements       |\n",
        "| Mutable         | Can add or remove items                        |\n",
        "| Heterogeneous   | Can store different types (int, str, float)    |\n",
        "\n",
        "---\n"
      ]
    },
    {
      "cell_type": "code",
      "execution_count": null,
      "metadata": {
        "colab": {
          "base_uri": "https://localhost:8080/"
        },
        "id": "NMiQ_MWX609A",
        "outputId": "8fdfa77d-be34-42d1-ce97-d68cf3dd43cf"
      },
      "outputs": [
        {
          "data": {
            "text/plain": [
              "{1, 2, 3, 4, 5, 6, 7}"
            ]
          },
          "execution_count": 138,
          "metadata": {},
          "output_type": "execute_result"
        }
      ],
      "source": [
        "a"
      ]
    },
    {
      "cell_type": "code",
      "execution_count": null,
      "metadata": {
        "colab": {
          "base_uri": "https://localhost:8080/"
        },
        "id": "DjIZZXWZ7FKZ",
        "outputId": "ccbafd95-65e9-437b-b43d-4927a5fcf325"
      },
      "outputs": [
        {
          "data": {
            "text/plain": [
              "{3, 4, 5, 6, 7}"
            ]
          },
          "execution_count": 139,
          "metadata": {},
          "output_type": "execute_result"
        }
      ],
      "source": [
        "b"
      ]
    },
    {
      "cell_type": "code",
      "execution_count": null,
      "metadata": {
        "colab": {
          "base_uri": "https://localhost:8080/"
        },
        "id": "iYuEiUVN7F-Q",
        "outputId": "18e51a07-8cd8-4506-ffd9-1e5a0f44635f"
      },
      "outputs": [
        {
          "data": {
            "text/plain": [
              "{1, 2}"
            ]
          },
          "execution_count": 140,
          "metadata": {},
          "output_type": "execute_result"
        }
      ],
      "source": [
        "a.difference(b)"
      ]
    },
    {
      "cell_type": "code",
      "execution_count": null,
      "metadata": {
        "colab": {
          "base_uri": "https://localhost:8080/"
        },
        "id": "Eh19BxSG7LQ4",
        "outputId": "53ce2f7d-8d1d-4308-9ef3-bab114282805"
      },
      "outputs": [
        {
          "data": {
            "text/plain": [
              "set()"
            ]
          },
          "execution_count": 141,
          "metadata": {},
          "output_type": "execute_result"
        }
      ],
      "source": [
        "b.difference(a)"
      ]
    },
    {
      "cell_type": "code",
      "execution_count": null,
      "metadata": {
        "id": "s4Ok2W0P7VS7"
      },
      "outputs": [],
      "source": [
        "# let\"s assume that we have 60 people in the batch, now we have the details\n",
        "\n",
        "Name\n",
        "Age\n",
        "City\n",
        "\n",
        "dictionary\n",
        "\n"
      ]
    },
    {
      "cell_type": "code",
      "execution_count": null,
      "metadata": {
        "id": "hF2KwCJ07niY"
      },
      "outputs": [],
      "source": [
        "cities=['Delhi','Agra','Mumbai','Noida','Delhi','Mumbai','Bangalore','Gurgaon','Gurgaon','Delhi']"
      ]
    },
    {
      "cell_type": "code",
      "execution_count": null,
      "metadata": {
        "colab": {
          "base_uri": "https://localhost:8080/"
        },
        "id": "1BSaBgYa7yVL",
        "outputId": "c25e4a9d-d33b-485b-f704-c399922f0fc0"
      },
      "outputs": [
        {
          "data": {
            "text/plain": [
              "['Noida', 'Mumbai', 'Gurgaon', 'Agra', 'Bangalore', 'Delhi']"
            ]
          },
          "execution_count": 144,
          "metadata": {},
          "output_type": "execute_result"
        }
      ],
      "source": [
        "unique_cities=list(set(cities))\n",
        "unique_cities"
      ]
    },
    {
      "cell_type": "code",
      "execution_count": null,
      "metadata": {
        "id": "TBb3BMZe73zn"
      },
      "outputs": [],
      "source": [
        "unique_cities=list(set(cities))\n",
        "details={}\n",
        "for city in unique_cities:\n",
        "  count=cities.count(city)\n",
        "  details[city]=count\n"
      ]
    },
    {
      "cell_type": "code",
      "execution_count": null,
      "metadata": {
        "id": "wi5xrO1U8hSc"
      },
      "outputs": [],
      "source": [
        "def Counter(list_of_values):\n",
        "  unique_vals=list(set(list_of_values))\n",
        "  details={}\n",
        "  for val in unique_vals:\n",
        "    count=list_of_values.count(val)\n",
        "    details[val]=count\n",
        "\n",
        "  return details\n"
      ]
    },
    {
      "cell_type": "code",
      "execution_count": null,
      "metadata": {
        "colab": {
          "base_uri": "https://localhost:8080/"
        },
        "id": "IX9CB-3j8iDN",
        "outputId": "eebb9c8b-e8c2-48f0-fc7b-7c10d47a3a8b"
      },
      "outputs": [
        {
          "data": {
            "text/plain": [
              "{32: 2, 1: 2, 2: 4, 3: 3, 4: 1, 5: 1, 42: 1}"
            ]
          },
          "execution_count": 153,
          "metadata": {},
          "output_type": "execute_result"
        }
      ],
      "source": [
        "Counter([1,2,3,4,5,32,32,3,42,2,1,2,3,2])"
      ]
    },
    {
      "cell_type": "code",
      "execution_count": null,
      "metadata": {
        "colab": {
          "base_uri": "https://localhost:8080/"
        },
        "id": "c_4zlKWe9D32",
        "outputId": "6a18acd2-a56b-4efe-b73c-50d2e9e5bb43"
      },
      "outputs": [
        {
          "data": {
            "text/plain": [
              "{'Noida': 1, 'Mumbai': 2, 'Gurgaon': 2, 'Agra': 1, 'Bangalore': 1, 'Delhi': 3}"
            ]
          },
          "execution_count": 154,
          "metadata": {},
          "output_type": "execute_result"
        }
      ],
      "source": [
        "cities=['Delhi','Agra','Mumbai','Noida','Delhi','Mumbai','Bangalore','Gurgaon','Gurgaon','Delhi']\n",
        "\n",
        "Counter(cities)"
      ]
    },
    {
      "cell_type": "code",
      "execution_count": null,
      "metadata": {
        "id": "ILLZVUh29LJK"
      },
      "outputs": [],
      "source": [
        "##PRACTICE\n",
        "\n"
      ]
    },
    {
      "cell_type": "markdown",
      "metadata": {
        "id": "EwSKi-wq9xLV"
      },
      "source": [
        "# 🍽️ Case Study Assignment: Build a Food Ordering and Billing System\n",
        "\n",
        "---\n",
        "\n",
        "## 🧠 Objective:\n",
        "\n",
        "Design a **Food Ordering System** that allows users to place multiple food orders, calculate the final bill with tax (GST), and display a detailed receipt.\n",
        "\n",
        "You will practice:\n",
        "- Using **dictionaries** to store menu items and prices.\n",
        "- Using **lists** to store multiple user orders.\n",
        "- Working with **loops** and **conditions** to manage the flow.\n",
        "\n",
        "---\n",
        "\n",
        "## 🛒 Scenario:\n",
        "\n",
        "Imagine you are developing a simple ordering system for a restaurant.  \n",
        "Customers can view a menu, order multiple items, and receive a final bill with tax.\n",
        "\n",
        "---\n",
        "\n",
        "## 📋 Menu to Offer:\n",
        "\n",
        "Create a fixed menu with the following items:\n",
        "\n",
        "| Item         | Price (₹) |\n",
        "|--------------|-----------|\n",
        "| Burger       | 120       |\n",
        "| Pizza        | 250       |\n",
        "| Pasta        | 180       |\n",
        "| Coke         | 50        |\n",
        "| Fries        | 90        |\n",
        "| Momos        | 110       |\n",
        "| Sandwich     | 140       |\n",
        "| Ice Cream    | 100       |\n",
        "| Coffee       | 80        |\n",
        "| Brownie      | 150       |\n",
        "\n",
        "---\n",
        "\n",
        "## 🗂️ Data Structure Requirements:\n",
        "\n",
        "- Use a **dictionary** to store the menu:\n",
        "  - Keys = Item Names\n",
        "  - Values = Prices\n",
        "  \n",
        "- Use a **list of dictionaries** to store orders:\n",
        "  - Each order must contain:\n",
        "    - Item Name\n",
        "    - Quantity\n",
        "    - Total Price for that item\n",
        "\n",
        "---\n",
        "\n",
        "## 🔄 Functional Requirements:\n",
        "\n",
        "1. Display the menu to the user once at the beginning.\n",
        "2. Start a loop to take multiple orders:\n",
        "   - Ask the user for the item name.\n",
        "   - Ask the user for quantity.\n",
        "   - Check if the item exists in the menu.\n",
        "     - If yes, calculate total price and save the order.\n",
        "     - If not, display an error message.\n",
        "   - Allow the user to type `'quit'` to finish ordering.\n",
        "3. After quitting:\n",
        "   - Calculate the **subtotal** of all orders.\n",
        "   - Add **5% GST** on subtotal.\n",
        "   - Display a full **bill summary** showing each item ordered, its quantity, and price.\n",
        "   - Show subtotal, GST amount, and final total.\n",
        "\n",
        "---\n",
        "\n",
        "## 💰 Billing Rules:\n",
        "\n",
        "- **GST**: 5% on subtotal.\n",
        "- **Optional Challenge**:\n",
        "  - If subtotal exceeds ₹500, apply an **additional 10% discount** after adding GST.\n",
        "  - Show discount separately in the bill.\n",
        "\n",
        "---\n",
        "\n",
        "## 📑 Final Output Should Include:\n",
        "\n",
        "- List of all items ordered with quantity and price.\n",
        "- Subtotal before tax.\n",
        "- GST amount.\n",
        "- Final Total (with discount if applicable).\n",
        "- Thank you message.\n",
        "\n",
        "\n"
      ]
    },
    {
      "cell_type": "markdown",
      "metadata": {
        "id": "W8zWX_dc90rW"
      },
      "source": [
        "# 🎯 Case Study: Manage Students and Courses using Sets and Dictionaries\n",
        "\n",
        "---\n",
        "\n",
        "## 🧠 Problem:\n",
        "\n",
        "Build a system to manage students registered for different courses in a college.\n",
        "\n",
        "You need to:\n",
        "\n",
        "- Create a **Dictionary** where:\n",
        "  - Keys = Course Names (e.g., \"Python\", \"Data Science\", \"AI\")\n",
        "  - Values = **Sets** containing **Student Names** who enrolled.\n",
        "\n",
        "✅ Example Structure:\n",
        "\n",
        "```python\n",
        "{\n",
        "  \"Python\": {\"Atul\", \"Divya\", \"Riya\"},\n",
        "  \"Data Science\": {\"Paul\", \"Riya\", \"Vivek\"},\n",
        "  \"AI\": {\"Vivek\", \"Divyansh\"}\n",
        "}\n",
        "\n",
        "\n",
        "## Tasks:\n",
        "\n",
        "      Show the full list of courses and enrolled students.\n",
        "\n",
        "      Allow the user to:\n",
        "\n",
        "      Add a new student to a course.\n",
        "\n",
        "      Remove a student from a course.\n",
        "\n",
        "      Print:\n",
        "\n",
        "      Students enrolled in both \"Python\" and \"Data Science\" (Intersection).\n",
        "\n",
        "      Students enrolled in either \"Python\" or \"AI\" (Union).\n",
        "\n",
        "      Students who are in \"Python\" but not in \"AI\" (Difference).\n",
        "\n",
        "      Add a feature to check if two courses have completely different students (Disjoint check).\n",
        "\n",
        "      Print the total number of students in each course."
      ]
    },
    {
      "cell_type": "markdown",
      "metadata": {
        "id": "NRr-j4ij-Hx8"
      },
      "source": [
        "\n",
        "---\n",
        "\n",
        "### 🔷 **Colab Text Cell (Markdown)** – Individual Topic Practice Problems\n",
        "\n",
        "```markdown\n",
        "# 🧠 Practice Problems – Sets, Dictionaries, Nested Structures\n",
        "\n",
        "---\n",
        "\n",
        "## 🟢 Sets Basics\n",
        "\n",
        "---\n",
        "\n",
        "### Q1. Create a set of 7 favorite colors. Add 2 more colors. Remove 1 color.\n",
        "\n",
        "### Q2. Take a list of numbers from user input. Remove all duplicate numbers and print the unique numbers using a set.\n",
        "\n",
        "---\n",
        "\n",
        "## 🟡 Set Operations\n",
        "\n",
        "---\n",
        "\n",
        "### Q3. Given two sets of cities visited by two friends, find:\n",
        "- Cities both visited (Intersection)\n",
        "- Cities either of them visited (Union)\n",
        "- Cities visited by first friend but not by second (Difference)\n",
        "\n",
        "---\n",
        "\n",
        "## 🟠 Nested Dictionaries\n",
        "\n",
        "---\n",
        "\n",
        "### Q4. Create a nested dictionary for 3 employees with:\n",
        "- ID\n",
        "- Name\n",
        "- Department\n",
        "- Salary\n",
        "\n",
        "Update salary of one employee using `.update()` method.\n",
        "\n",
        "---\n",
        "\n",
        "## 🔴 Sets + Lists + Dictionaries Combined\n",
        "\n",
        "---\n",
        "\n",
        "### Q5. Given a dictionary where keys are company names and values are **lists** of employees, write a program to:\n",
        "- Convert each employee list into a **set**.\n",
        "- Remove duplicate employees if present.\n",
        "- Print unique employee names for each company.\n",
        "\n",
        "✅ Example:\n",
        "\n",
        "Input:\n",
        "```python\n",
        "{\n",
        "  \"Google\": [\"Alice\", \"Bob\", \"Alice\"],\n",
        "  \"Amazon\": [\"Charlie\", \"Bob\"]\n",
        "}\n"
      ]
    },
    {
      "cell_type": "code",
      "execution_count": null,
      "metadata": {
        "id": "19kt9Ndo9wsC"
      },
      "outputs": [],
      "source": []
    }
  ],
  "metadata": {
    "colab": {
      "provenance": []
    },
    "kernelspec": {
      "display_name": "Python 3",
      "name": "python3"
    },
    "language_info": {
      "name": "python"
    }
  },
  "nbformat": 4,
  "nbformat_minor": 0
}
