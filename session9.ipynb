{
 "cells": [
  {
   "cell_type": "code",
   "execution_count": 6,
   "id": "25289afe",
   "metadata": {},
   "outputs": [
    {
     "name": "stdout",
     "output_type": "stream",
     "text": [
      "latur nagar\n",
      "Mumbai is present\n"
     ]
    }
   ],
   "source": [
    "city_tuple = (\"pune\",\"mumbai\",\"latur\",\"udgir\",\"nagar\",\"tirupati\")\n",
    "print(city_tuple[2], city_tuple[4])\n",
    "isPresent = False\n",
    "for each in city_tuple:\n",
    "    if each.lower() == \"mumbai\":\n",
    "        isPresent = True\n",
    "\n",
    "if isPresent == True:\n",
    "    print(\"Mumbai is present\")\n",
    "else:\n",
    "    print(\"Mumbai is not present\")\n"
   ]
  },
  {
   "cell_type": "code",
   "execution_count": 29,
   "id": "1ffab7f7",
   "metadata": {},
   "outputs": [
    {
     "name": "stdout",
     "output_type": "stream",
     "text": [
      "soni\n",
      "sada\n"
     ]
    },
    {
     "data": {
      "text/plain": [
       "{'101': {'name': 'pri', 'age': 30, 'subject': 'english'},\n",
       " '102': {'name': 'soni', 'age': 27, 'subject': 'math'},\n",
       " '103': {'name': 'sada', 'age': 28, 'subject': 'math'},\n",
       " '104': {'name': 'exc', 'age': 48, 'subject': 'marathi'}}"
      ]
     },
     "execution_count": 29,
     "metadata": {},
     "output_type": "execute_result"
    }
   ],
   "source": [
    "student_dict = {\n",
    "    \"101\": {\"name\":\"pri\",\"age\":26,\"subject\":\"english\"},\n",
    "    \"102\": {\"name\":\"soni\",\"age\":27,\"subject\":\"math\"},\n",
    "    \"103\": {\"name\":\"sada\",\"age\":28,\"subject\":\"math\"}   \n",
    "}\n",
    "for k,v in student_dict.items():\n",
    "        if v[\"subject\"] == \"math\":\n",
    "            print(v[\"name\"])\n",
    "student_dict[\"101\"][\"age\"] = 30\n",
    "student_dict[\"104\"]=  {\"name\":\"exc\",\"age\":48,\"subject\":\"marathi\"}  \n",
    "student_dict"
   ]
  },
  {
   "cell_type": "code",
   "execution_count": 36,
   "id": "da63f68e",
   "metadata": {},
   "outputs": [
    {
     "name": "stdout",
     "output_type": "stream",
     "text": [
      "pri\n",
      "sada\n"
     ]
    }
   ],
   "source": [
    "employee_dict = {\n",
    "    \"10\":{'name': 'pri', 'department': \"Engineering\", 'salary': 100000},\n",
    "    \"11\":{'name': 'sada', 'department': \"Mechanical\", 'salary': 200000},\n",
    "    \"12\":{'name': 'soni', 'department': \"Electronic\", 'salary': 30000}\n",
    "}\n",
    "for k,v in employee_dict.items():\n",
    "        if v[\"salary\"] > 60000:\n",
    "              print(v[\"name\"])\n"
   ]
  },
  {
   "cell_type": "code",
   "execution_count": 5,
   "id": "67e99c0c",
   "metadata": {},
   "outputs": [
    {
     "data": {
      "text/plain": [
       "{'black', 'blue', 'green', 'purple', 'red'}"
      ]
     },
     "execution_count": 5,
     "metadata": {},
     "output_type": "execute_result"
    }
   ],
   "source": [
    "### Q1. Create a set of 7 favorite colors. Add 2 more colors. Remove 1 color.\n",
    "set1 = {\"red\",\"blue\",\"black\",\"purple\"}\n",
    "set1.add(\"green\")\n",
    "set1.add(\"gray\")\n",
    "set1.remove(\"gray\")\n",
    "set1"
   ]
  },
  {
   "cell_type": "code",
   "execution_count": 4,
   "id": "6d901de2",
   "metadata": {},
   "outputs": [
    {
     "name": "stdout",
     "output_type": "stream",
     "text": [
      "Enter Any five numbers:\n",
      "List is:  [1, 2, 3, 1, 2]\n",
      "Set without duplicate:  {1, 2, 3}\n"
     ]
    }
   ],
   "source": [
    "### Q2. Take a list of numbers from user input. Remove all duplicate numbers and print the unique numbers using a set\n",
    "print(\"Enter Any five numbers:\")\n",
    "lst = []\n",
    "for each in range(0,5):\n",
    "    num = int(input(\"Enter Number:\"))\n",
    "    lst.append(num)\n",
    "\n",
    "print(\"List is: \",lst)\n",
    "set1 = set(lst)\n",
    "print(\"Set without duplicate: \",set1)\n"
   ]
  },
  {
   "cell_type": "code",
   "execution_count": 7,
   "id": "602c8c51",
   "metadata": {},
   "outputs": [
    {
     "name": "stdout",
     "output_type": "stream",
     "text": [
      "{'bidar', 'udgir', 'latur'}\n",
      "{'bidar', 'udgir', 'nashik', 'latur', 'nobad'}\n",
      "{'madlapur'}\n"
     ]
    }
   ],
   "source": [
    "### Q3. Given two sets of cities visited by two friends, find:\n",
    "# - Cities both visited (Intersection)\n",
    "# - Cities either of them visited (Union)\n",
    "# - Cities visited by first friend but not by second (Difference)\n",
    "\n",
    "city1 = {\"latur\",\"udgir\",\"madlapur\",\"bidar\"}\n",
    "city2 = {\"bidar\",\"nobad\",\"latur\",\"udgir\",\"nashik\"}\n",
    "print(city1.intersection(city2))\n",
    "print(city2.union(city2))\n",
    "print(city1.difference(city2))\n"
   ]
  },
  {
   "cell_type": "code",
   "execution_count": 6,
   "id": "655df250",
   "metadata": {},
   "outputs": [
    {
     "data": {
      "text/plain": [
       "{101: {'name': 'Priyanka', 'Department': 'IT', 'Salary': 2000000},\n",
       " 102: {'name': 'Sadanand', 'Department': 'Comp', 'Salary': 200000},\n",
       " 103: {'name': 'Soni', 'Department': 'Cyber Security', 'Salary': 100000}}"
      ]
     },
     "execution_count": 6,
     "metadata": {},
     "output_type": "execute_result"
    }
   ],
   "source": [
    "### Q4. Create a nested dictionary for 3 employees with:\n",
    "# - ID\n",
    "# - Name\n",
    "# - Department\n",
    "# - Salary\n",
    "\n",
    "# Update salary of one employee using `.update()` method.\n",
    "\n",
    "\n",
    "employee_dict = {\n",
    "    101: {\n",
    "        \"name\":\"Priyanka\",\n",
    "        \"Department\":\"IT\",\n",
    "        \"Salary\":100000\n",
    "    },\n",
    "    102: {\n",
    "        \"name\":\"Sadanand\",\n",
    "        \"Department\":\"Comp\",\n",
    "        \"Salary\":200000\n",
    "    },\n",
    "    103:{\n",
    "        \"name\":\"Soni\",\n",
    "        \"Department\":\"Cyber Security\",\n",
    "        \"Salary\":100000\n",
    "    }\n",
    "}\n",
    "# employee_dict[\"a101\"][\"Salary\"] = 1000\n",
    "employee_dict[101].update({\"Salary\":2000000})\n",
    "employee_dict"
   ]
  },
  {
   "cell_type": "code",
   "execution_count": 8,
   "id": "f4a71ad7",
   "metadata": {},
   "outputs": [
    {
     "name": "stdout",
     "output_type": "stream",
     "text": [
      "{'Google': {'Alice', 'Bob'}, 'Amazon': {'Bob', 'Charlie'}, 'Microsoft': {'John', 'Marry', 'Priya'}, 'HP': {'John', 'Charlie', 'Sada', 'Ramesh'}}\n"
     ]
    }
   ],
   "source": [
    "### Q5. Given a dictionary where keys are company names and values are **lists** of employees, write a program to:\n",
    "# - Convert each employee list into a **set**.\n",
    "# - Remove duplicate employees if present.\n",
    "# - Print unique employee names for each company.\n",
    "# ✅ Example:\n",
    "# Input:\n",
    "# ```python\n",
    "# {\n",
    "#   \"Google\": [\"Alice\", \"Bob\", \"Alice\"],\n",
    "#   \"Amazon\": [\"Charlie\", \"Bob\"]\n",
    "# }\n",
    "company_names = {\n",
    "    \"Google\": [\"Alice\", \"Bob\", \"Alice\",\"Bob\"],\n",
    "    \"Amazon\": [\"Charlie\", \"Bob\",\"Charlie\"],\n",
    "    \"Microsoft\": [\"Priya\",\"John\",\"Marry\"],\n",
    "    \"HP\":[\"Sada\",\"Ramesh\",\"Charlie\",\"John\"]\n",
    "}\n",
    "for company_key,company_value in company_names.items():\n",
    "    company_names[company_key]=set(company_value)\n",
    "print(company_names)\n"
   ]
  },
  {
   "cell_type": "code",
   "execution_count": null,
   "id": "56d05a06",
   "metadata": {},
   "outputs": [
    {
     "name": "stdout",
     "output_type": "stream",
     "text": [
      "Enrolled Course:  Python And Enrolled Employee:  {'Riya', 'Divya', 'Ashu', 'Atul'}\n",
      "Enrolled Course:  Data Science And Enrolled Employee:  {'Riya', 'Paul', 'Alice', 'Vivek'}\n",
      "Enrolled Course:  AI And Enrolled Employee:  {'Ravi', 'Kishan', 'Divyansh', 'Vivek'}\n",
      "Enrolled Course:  Cyber Security And Enrolled Employee:  {'Vina', 'Rama', 'Atul', 'Sona', 'Shila', 'Mina'}\n"
     ]
    }
   ],
   "source": [
    "# Build a system to manage students registered for different courses in a college.\n",
    "# You need to:\n",
    "# - Create a **Dictionary** where:\n",
    "#   - Keys = Course Names (e.g., \"Python\", \"Data Science\", \"AI\")\n",
    "#   - Values = **Sets** containing **Student Names** who enrolled.\n",
    "# ✅ Example Structure:\n",
    "# ```python\n",
    "# {\n",
    "#   \"Python\": {\"Atul\", \"Divya\", \"Riya\"},\n",
    "#   \"Data Science\": {\"Paul\", \"Riya\", \"Vivek\"},\n",
    "#   \"AI\": {\"Vivek\", \"Divyansh\"}\n",
    "# }\n",
    "## Tasks:\n",
    "    #   Show the full list of courses and enrolled students.\n",
    "    #   Allow the user to:\n",
    "    #   Add a new student to a course.\n",
    "    #   Remove a student from a course.\n",
    "    #   Print:\n",
    "    #   Students enrolled in both \"Python\" and \"Data Science\" (Intersection).\n",
    "    #   Students enrolled in either \"Python\" or \"AI\" (Union).\n",
    "    #   Students who are in \"Python\" but not in \"AI\" (Difference).\n",
    "    #   Add a feature to check if two courses have completely different students (Disjoint check).\n",
    "    #   Print the total number of students in each course.\n",
    "\n",
    "course_enrollment = {\n",
    "  \"Python\": {\"Atul\", \"Divya\", \"Riya\",\"Ashu\"},\n",
    "  \"Data Science\": {\"Paul\", \"Riya\", \"Vivek\",\"Alice\"},\n",
    "  \"AI\": {\"Vivek\", \"Divyansh\",\"Ravi\",\"Kishan\"}\n",
    "}\n",
    "for key,value in course_enrollment.items():\n",
    "    print(\"Enrolled Course: \",key,\"And Enrolled Employee: \",value)"
   ]
  },
  {
   "cell_type": "code",
   "execution_count": null,
   "id": "161a5fc4",
   "metadata": {},
   "outputs": [
    {
     "name": "stdout",
     "output_type": "stream",
     "text": [
      "{'Python': {'pri', 'Atul', 'Ashu', 'Divya', 'Riya'}, 'Data Science': {'Alice', 'Paul', 'Riya', 'Vivek'}, 'AI': {'Ravi', 'Divyansh', 'Vivek', 'Kishan'}}\n"
     ]
    }
   ],
   "source": [
    "# Add a new student to a course.\n",
    "course_enrollment = {\n",
    "  \"Python\": {\"Atul\", \"Divya\", \"Riya\",\"Ashu\"},\n",
    "  \"Data Science\": {\"Paul\", \"Riya\", \"Vivek\",\"Alice\"},\n",
    "  \"AI\": {\"Vivek\", \"Divyansh\",\"Ravi\",\"Kishan\"}\n",
    "}\n",
    "while True:\n",
    "    choice = input(\"Do you want to enroll employee?(Press quit to exit)\")\n",
    "    if choice == \"quit\":\n",
    "           break\n",
    "    course_name = input(\"In which course you want to entroll student?\")\n",
    "    if course_name in course_enrollment:\n",
    "            student_name=input(\"Enter student name: \")\n",
    "            course_enrollment[course_name].add(student_name)\n",
    "    else :\n",
    "            print(\"Enter the correct course name.\")\n",
    "print(course_enrollment)"
   ]
  },
  {
   "cell_type": "code",
   "execution_count": 1,
   "id": "fba86498",
   "metadata": {},
   "outputs": [
    {
     "name": "stdout",
     "output_type": "stream",
     "text": [
      "{'Python': {'Riya', 'Ashu', 'Divya'}, 'Data Science': {'Alice', 'Riya', 'Paul', 'Vivek'}, 'AI': {'Vivek', 'Ravi', 'Divyansh', 'Kishan'}}\n"
     ]
    }
   ],
   "source": [
    "# Remove a student from a course.\n",
    "course_enrollment = {\n",
    "  \"Python\": {\"Atul\", \"Divya\", \"Riya\",\"Ashu\"},\n",
    "  \"Data Science\": {\"Paul\", \"Riya\", \"Vivek\",\"Alice\"},\n",
    "  \"AI\": {\"Vivek\", \"Divyansh\",\"Ravi\",\"Kishan\"}\n",
    "}\n",
    "while True:\n",
    "    choice = input(\"Do you want to remove employee?(Press quit to exit)\")\n",
    "    if choice == \"quit\":\n",
    "           break\n",
    "    course_name = input(\"From which course you want to remove student?\")\n",
    "    if course_name in course_enrollment:\n",
    "            student_name=input(\"Enter student name: \")\n",
    "            course_enrollment[course_name].remove(student_name)\n",
    "    else :\n",
    "            print(\"Enter the correct course name.\")\n",
    "print(course_enrollment)"
   ]
  },
  {
   "cell_type": "code",
   "execution_count": 2,
   "id": "0a253a91",
   "metadata": {},
   "outputs": [
    {
     "name": "stdout",
     "output_type": "stream",
     "text": [
      "{'Riya'}\n"
     ]
    }
   ],
   "source": [
    "#   Print:\n",
    "#   Students enrolled in both \"Python\" and \"Data Science\" (Intersection).\n",
    "course_enrollment = {\n",
    "  \"Python\": {\"Atul\", \"Divya\", \"Riya\",\"Ashu\"},\n",
    "  \"Data Science\": {\"Paul\", \"Riya\", \"Vivek\",\"Alice\"},\n",
    "  \"AI\": {\"Vivek\", \"Divyansh\",\"Ravi\",\"Kishan\"}\n",
    "}\n",
    "print(course_enrollment[\"Python\"].intersection(course_enrollment[\"Data Science\"]))\n"
   ]
  },
  {
   "cell_type": "code",
   "execution_count": 3,
   "id": "34e2e001",
   "metadata": {},
   "outputs": [
    {
     "name": "stdout",
     "output_type": "stream",
     "text": [
      "{'Riya', 'Vivek', 'Atul', 'Alice', 'Paul', 'Ashu', 'Divya'}\n"
     ]
    }
   ],
   "source": [
    "#  Students enrolled in either \"Python\" or \"AI\" (Union).\n",
    "course_enrollment = {\n",
    "  \"Python\": {\"Atul\", \"Divya\", \"Riya\",\"Ashu\"},\n",
    "  \"Data Science\": {\"Paul\", \"Riya\", \"Vivek\",\"Alice\"},\n",
    "  \"AI\": {\"Vivek\", \"Divyansh\",\"Ravi\",\"Kishan\"}\n",
    "}\n",
    "print(course_enrollment[\"Python\"].union(course_enrollment[\"Data Science\"]))"
   ]
  },
  {
   "cell_type": "code",
   "execution_count": null,
   "id": "a919d4ae",
   "metadata": {},
   "outputs": [
    {
     "name": "stdout",
     "output_type": "stream",
     "text": [
      "{'Riya', 'Ashu', 'Divya'}\n"
     ]
    }
   ],
   "source": [
    "# Students who are in \"Python\" but not in \"AI\" (Difference).\n",
    "course_enrollment = {\n",
    "  \"Python\": {\"Atul\", \"Divya\", \"Riya\",\"Ashu\"},\n",
    "  \"Data Science\": {\"Paul\", \"Riya\", \"Vivek\",\"Alice\"},\n",
    "  \"AI\": {\"Vivek\", \"Divyansh\",\"Ravi\",\"Kishan\",\"Atul\"}\n",
    "}\n",
    "print(course_enrollment[\"Python\"].difference(course_enrollment[\"AI\"]))\n"
   ]
  },
  {
   "cell_type": "code",
   "execution_count": 13,
   "id": "6bfbc698",
   "metadata": {},
   "outputs": [
    {
     "name": "stdout",
     "output_type": "stream",
     "text": [
      "Python-Data Science False\n",
      "Python-AI False\n",
      "AI-Data Science True\n"
     ]
    }
   ],
   "source": [
    "# Add a feature to check if two courses have completely different students (Disjoint check).\n",
    "course_enrollment = {\n",
    "  \"Python\": {\"Atul\", \"Divya\", \"Riya\",\"Ashu\"},\n",
    "  \"Data Science\": {\"Paul\", \"Riya\", \"Vivek\",\"Alice\"},\n",
    "  \"AI\": {\"Divyansh\",\"Ravi\",\"Kishan\",\"Atul\"}\n",
    "}\n",
    "print(\"Python-Data Science\",course_enrollment[\"Python\"].isdisjoint(course_enrollment[\"Data Science\"]))\n",
    "print(\"Python-AI\",course_enrollment[\"Python\"].isdisjoint(course_enrollment[\"AI\"]))\n",
    "print(\"AI-Data Science\",course_enrollment[\"AI\"].isdisjoint(course_enrollment[\"Data Science\"]))\n"
   ]
  },
  {
   "cell_type": "code",
   "execution_count": 17,
   "id": "384738d4",
   "metadata": {},
   "outputs": [
    {
     "name": "stdout",
     "output_type": "stream",
     "text": [
      "Python 4\n",
      "AI 3\n",
      "Data Science 4\n"
     ]
    }
   ],
   "source": [
    "#   Print the total number of students in each course.\n",
    "course_enrollment = {\n",
    "  \"Python\": {\"Atul\", \"Divya\", \"Riya\",\"Ashu\"},\n",
    "  \"Data Science\": {\"Paul\", \"Riya\", \"Vivek\",\"Alice\"},\n",
    "  \"AI\": {\"Divyansh\",\"Ravi\",\"Kishan\"}\n",
    "}\n",
    "print(\"Python\",len(course_enrollment[\"Python\"]))\n",
    "print(\"AI\",len(course_enrollment[\"AI\"]))\n",
    "print(\"Data Science\",len(course_enrollment[\"Data Science\"]))"
   ]
  }
 ],
 "metadata": {
  "kernelspec": {
   "display_name": "Python 3",
   "language": "python",
   "name": "python3"
  },
  "language_info": {
   "codemirror_mode": {
    "name": "ipython",
    "version": 3
   },
   "file_extension": ".py",
   "mimetype": "text/x-python",
   "name": "python",
   "nbconvert_exporter": "python",
   "pygments_lexer": "ipython3",
   "version": "3.11.9"
  }
 },
 "nbformat": 4,
 "nbformat_minor": 5
}
