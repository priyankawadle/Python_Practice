{
 "cells": [
  {
   "cell_type": "code",
   "execution_count": 1,
   "id": "13fc0508",
   "metadata": {},
   "outputs": [
    {
     "data": {
      "text/plain": [
       "[4, 9, 16, 25, 36]"
      ]
     },
     "execution_count": 1,
     "metadata": {},
     "output_type": "execute_result"
    }
   ],
   "source": [
    "nums=[2,3,4,5,6]\n",
    "sqaures=[]\n",
    "for each in nums:\n",
    "  sqaures.append(each**2)\n",
    "sqaures"
   ]
  },
  {
   "cell_type": "code",
   "execution_count": 2,
   "id": "a682cd8c",
   "metadata": {},
   "outputs": [
    {
     "data": {
      "text/plain": [
       "[4, 9, 16, 25, 36]"
      ]
     },
     "execution_count": 2,
     "metadata": {},
     "output_type": "execute_result"
    }
   ],
   "source": [
    "[each**2 for each in nums]"
   ]
  },
  {
   "cell_type": "code",
   "execution_count": 3,
   "id": "e9159598",
   "metadata": {},
   "outputs": [
    {
     "data": {
      "text/plain": [
       "[4, 27, 16, 125, 36]"
      ]
     },
     "execution_count": 3,
     "metadata": {},
     "output_type": "execute_result"
    }
   ],
   "source": [
    "nums=[2,3,4,5,6]\n",
    "output=[]\n",
    "for each in nums:\n",
    "  if each%2==0:\n",
    "    output.append(each**2)\n",
    "  else:\n",
    "    output.append(each**3)\n",
    "output\n"
   ]
  },
  {
   "cell_type": "code",
   "execution_count": 4,
   "id": "cd40ede3",
   "metadata": {},
   "outputs": [
    {
     "data": {
      "text/plain": [
       "[4, 27, 16, 125, 36]"
      ]
     },
     "execution_count": 4,
     "metadata": {},
     "output_type": "execute_result"
    }
   ],
   "source": [
    "[ each**2 if each%2==0 else each**3  for each in nums]"
   ]
  },
  {
   "cell_type": "code",
   "execution_count": null,
   "id": "420d3590",
   "metadata": {},
   "outputs": [],
   "source": [
    "# Capitalize names if they start with 'a', else make lowercase\n",
    "names = [\"alice\", \"Bob\", \"anna\", \"Steve\", \"Ankit\"]\n",
    "processed = [name.capitalize() if name.lower().startswith('a') else name.lower() for name in names]\n",
    "print(processed)"
   ]
  },
  {
   "cell_type": "markdown",
   "id": "3afc5ba8",
   "metadata": {},
   "source": [
    "Doubt Clearning Class 3: https://colab.research.google.com/drive/119j6JbqYbQKQBJvkLqE3Eex86jzrbSHH?usp=sharing\n",
    "\n",
    "Session 9: https://colab.research.google.com/drive/1yGBDQ8NMlVu-Mc1CiL3Je2_l19VOi1gU?usp=sharing\n",
    "\n",
    "Session 8:https://colab.research.google.com/drive/1ccvssmlybxLwXbjbPAezG9hdADnmbOiQ?usp=sharing\n",
    "\n",
    "Session 7: https://colab.research.google.com/drive/1CGgPhpzuVWjNrhbO9ERoPyB9gDRZyJ_n?usp=sharing\n",
    "\n",
    "Doubt Clearning Class 2: https://colab.research.google.com/drive/1L2w9eb2eSIQMN6T_A6_65XLJW0-VB8CV?usp=sharing\n",
    "\n",
    "Session 6: https://colab.research.google.com/drive/1rPLcVIynJpjNdIQMxnR2MVwvMkJWHTXm#scrollTo=mcXL74n6zLic\n",
    "\n",
    "Session 5: https://colab.research.google.com/drive/1qoymmCAH2b6ZmF9d4REiBGrbpNkcdzKn#scrollTo=txxuqHLgecBG\n",
    "\n",
    "Session 4: https://colab.research.google.com/drive/1tJGg47OBOZxiWJr_9rwXoyhW8gYGuz03\n",
    "\n",
    "Session 3: https://colab.research.google.com/drive/1ufqrTCSs2Q1yHTQidclGJ82RzieA1N0w\n",
    "\n",
    "Session 2: https://colab.research.google.com/drive/1CDJXo-VXyHZCa-mOaq0OP26O0DUckhHp\n",
    "\n",
    "Session 1: https://colab.research.google.com/drive/1DkiPbviFal8uOXZ3u2x7esum4ZYWnKdB"
   ]
  }
 ],
 "metadata": {
  "kernelspec": {
   "display_name": "Python 3",
   "language": "python",
   "name": "python3"
  },
  "language_info": {
   "codemirror_mode": {
    "name": "ipython",
    "version": 3
   },
   "file_extension": ".py",
   "mimetype": "text/x-python",
   "name": "python",
   "nbconvert_exporter": "python",
   "pygments_lexer": "ipython3",
   "version": "3.10.11"
  }
 },
 "nbformat": 4,
 "nbformat_minor": 5
}
