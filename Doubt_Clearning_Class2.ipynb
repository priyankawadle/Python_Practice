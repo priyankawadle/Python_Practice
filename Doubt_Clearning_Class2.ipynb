{
 "cells": [
  {
   "cell_type": "code",
   "execution_count": 16,
   "id": "f87301f0",
   "metadata": {},
   "outputs": [
    {
     "name": "stdout",
     "output_type": "stream",
     "text": [
      "True\n"
     ]
    }
   ],
   "source": [
    "def magic_number(num):\n",
    "\n",
    "    while num > 9:\n",
    "        sum = 0\n",
    "        while num > 0:\n",
    "            rem = num % 10\n",
    "            sum = sum + rem\n",
    "            num = num // 10\n",
    "        num = sum\n",
    "    if num == 1:\n",
    "        return True\n",
    "    else:\n",
    "        return False\n",
    "\n",
    "num = int(input(\"Enter the number:\"))\n",
    "response = magic_number(num)\n",
    "print(response)\n"
   ]
  },
  {
   "cell_type": "code",
   "execution_count": null,
   "id": "4b9dc03c",
   "metadata": {},
   "outputs": [
    {
     "name": "stdout",
     "output_type": "stream",
     "text": [
      "5 [1, 5] [6]\n",
      "4 [1, 2, 4] [6, 7]\n",
      "1 [1] [6, 7, 1]\n",
      "False\n"
     ]
    }
   ],
   "source": [
    "def is_special_number(num):\n",
    "\n",
    "    while num >0:\n",
    "\n",
    "    # if final_addition == original:\n",
    "    #     return True\n",
    "    # else:\n",
    "    #     return False\n",
    "num = int(input(\"Enter the number:\"))\n",
    "response = is_special_number(num)\n",
    "print(response)"
   ]
  },
  {
   "cell_type": "code",
   "execution_count": null,
   "id": "d7f0f730",
   "metadata": {},
   "outputs": [
    {
     "name": "stdout",
     "output_type": "stream",
     "text": [
      "28\n",
      "True\n"
     ]
    }
   ],
   "source": [
    "def is_perfect_number(num):\n",
    "    perfect_list = []\n",
    "    sum = 0\n",
    "    for each in range(1,num):\n",
    "        if num % each == 0:\n",
    "            perfect_list.append(each)\n",
    "    for i in perfect_list:\n",
    "        sum = sum + i\n",
    "\n",
    "    if sum == num:\n",
    "        return True\n",
    "    else:\n",
    "        return False\n",
    "num = int(input(\"Enter the number:\"))\n",
    "response = is_perfect_number(num)\n",
    "print(response)"
   ]
  }
 ],
 "metadata": {
  "kernelspec": {
   "display_name": "Python 3",
   "language": "python",
   "name": "python3"
  },
  "language_info": {
   "codemirror_mode": {
    "name": "ipython",
    "version": 3
   },
   "file_extension": ".py",
   "mimetype": "text/x-python",
   "name": "python",
   "nbconvert_exporter": "python",
   "pygments_lexer": "ipython3",
   "version": "3.11.9"
  }
 },
 "nbformat": 4,
 "nbformat_minor": 5
}
