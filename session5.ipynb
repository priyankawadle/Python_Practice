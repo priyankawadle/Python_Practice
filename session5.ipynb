{
 "cells": [
  {
   "cell_type": "code",
   "execution_count": 9,
   "id": "75ff9209-1bed-4dae-9994-3bf2f964dee1",
   "metadata": {},
   "outputs": [
    {
     "name": "stdout",
     "output_type": "stream",
     "text": [
      "False\n"
     ]
    }
   ],
   "source": [
    "def IsPrime(n):\n",
    "    isPrime=False\n",
    "    for each in range(2,n):\n",
    "        if n % each == 0:\n",
    "            isPrime=False\n",
    "            break\n",
    "        else :\n",
    "            isPrime=True\n",
    "    return isPrime\n",
    "    \n",
    "result = IsPrime(9)\n",
    "print(result)\n",
    "    \n",
    "    \n",
    "    "
   ]
  },
  {
   "cell_type": "code",
   "execution_count": 4,
   "id": "677d3acc-03d6-4b79-ac35-d6de30acb8f8",
   "metadata": {},
   "outputs": [
    {
     "name": "stdin",
     "output_type": "stream",
     "text": [
      "Enter Number: 6\n"
     ]
    },
    {
     "name": "stdout",
     "output_type": "stream",
     "text": [
      "[0, 1, 1, 2, 3, 5]\n"
     ]
    }
   ],
   "source": [
    "# Ques.1 Fibonacci Series up to N terms (as list)\n",
    "# 🧠 Function Name: generate_fibonacci\n",
    "# 🛠️ Parameters: n (int) – number of terms\n",
    "# 🔁 Returns: A list of first n Fibonacci numbers\n",
    "\n",
    "def generate_fibonacci(n):\n",
    "    a,b=0,1\n",
    "    fib_series=[]\n",
    "    fib_series.append(a)\n",
    "    fib_series.append(b)\n",
    "    for each in range(2,n):\n",
    "        sum=a+b\n",
    "        fib_series.append(sum)\n",
    "        a=b\n",
    "        b=sum\n",
    "    return fib_series\n",
    "n = int(input(\"Enter Number:\"))\n",
    "response = generate_fibonacci(n)\n",
    "print(response)"
   ]
  },
  {
   "cell_type": "code",
   "execution_count": 10,
   "id": "081e539c-7557-48b0-8431-babe1bf297a4",
   "metadata": {},
   "outputs": [
    {
     "name": "stdin",
     "output_type": "stream",
     "text": [
      "Enter the number: 100\n"
     ]
    },
    {
     "name": "stdout",
     "output_type": "stream",
     "text": [
      "154\n"
     ]
    }
   ],
   "source": [
    "# Ques.2 First number > 100 divisible by 7 and 11\n",
    "# 🧠 Function Name: find_first_divisible\n",
    "# 🛠️ Parameters: start (int) – number to start checking from\n",
    "# 🔁 Returns: The first number greater than start divisible by both 7 and 11\n",
    "\n",
    "def find_first_divisible(start):\n",
    "    num = start +1\n",
    "    while True:\n",
    "        if num % 7 == 0 and num % 11 == 0:\n",
    "            return num\n",
    "        num = num +1\n",
    "        \n",
    "start = int(input(\"Enter the number:\"))\n",
    "response = find_first_divisible(start)\n",
    "print(response)"
   ]
  },
  {
   "cell_type": "code",
   "execution_count": 13,
   "id": "f93abe3b-c79c-4d5f-a76c-cb2ffc01a6e9",
   "metadata": {},
   "outputs": [
    {
     "name": "stdin",
     "output_type": "stream",
     "text": [
      "Enter the text: Python\n"
     ]
    },
    {
     "name": "stdout",
     "output_type": "stream",
     "text": [
      "1\n"
     ]
    }
   ],
   "source": [
    "# Ques.3 Count vowels in a string\n",
    "# 🧠 Function Name: count_vowels\n",
    "# 🛠️ Parameters: text (str) – input string\n",
    "# 🔁 Returns: Count of vowels as an integer\n",
    "\n",
    "def count_vowels(text):\n",
    "    count = 0\n",
    "    for each in text:\n",
    "        if each in \"aeiou\":\n",
    "            count = count +1\n",
    "    return count\n",
    "\n",
    "text = input(\"Enter the text:\").lower()\n",
    "response = count_vowels(text)\n",
    "print(response)\n"
   ]
  },
  {
   "cell_type": "code",
   "execution_count": 21,
   "id": "56753e7a-8611-497e-af1a-03c463343fa3",
   "metadata": {},
   "outputs": [
    {
     "name": "stdin",
     "output_type": "stream",
     "text": [
      "Enter the Number: 121\n"
     ]
    },
    {
     "name": "stdout",
     "output_type": "stream",
     "text": [
      "True\n"
     ]
    }
   ],
   "source": [
    "# Ques.4 Check if a Number is a Palindrome**\n",
    "# 📌 A palindrome is a number or string that reads the same forwards and backwards.\n",
    "# 🧠 Function Name: is_palindrome\n",
    "# 🛠️ Parameters: num (int or str)\n",
    "# 🔁 Returns: True if palindrome, False otherwise\n",
    "\n",
    "def is_palindrome(string):\n",
    "    reverse_str=\"\"\n",
    "    for each in string:\n",
    "        reverse_str = each + reverse_str\n",
    "    if reverse_str == string:\n",
    "        return True\n",
    "    else:\n",
    "        return False\n",
    "\n",
    "string = input(\"Enter the Number:\")\n",
    "response = is_palindrome(string)\n",
    "print(response)"
   ]
  },
  {
   "cell_type": "code",
   "execution_count": 43,
   "id": "78242e84-3b75-4e74-b288-bd66c3471590",
   "metadata": {},
   "outputs": [
    {
     "name": "stdin",
     "output_type": "stream",
     "text": [
      "Enter the number: 980\n"
     ]
    },
    {
     "name": "stdout",
     "output_type": "stream",
     "text": [
      "89\n"
     ]
    }
   ],
   "source": [
    "# Ques.5 Reverse the digits of a number using a while loop\n",
    "# 🧠 Function Name: reverse_number\n",
    "# 🛠️ Parameters: num (int) – number to reverse\n",
    "# 🔁 Returns: Reversed number (int)\n",
    "def reverse_number(num):\n",
    "    reverse_num = 0\n",
    "    for each in num:\n",
    "        num = int(num)\n",
    "        rem = num % 10\n",
    "        reverse_num = reverse_num*10 + (rem)\n",
    "        num = num // 10\n",
    "    return reverse_num\n",
    "        \n",
    "\n",
    "num = input(\"Enter the number:\")\n",
    "response = reverse_number(num)\n",
    "print(response)"
   ]
  },
  {
   "cell_type": "code",
   "execution_count": null,
   "id": "71a416c5-024f-48d3-816d-5d906979053b",
   "metadata": {},
   "outputs": [],
   "source": []
  }
 ],
 "metadata": {
  "kernelspec": {
   "display_name": "anaconda-panel-2023.05-py310",
   "language": "python",
   "name": "conda-env-anaconda-panel-2023.05-py310-py"
  },
  "language_info": {
   "codemirror_mode": {
    "name": "ipython",
    "version": 3
   },
   "file_extension": ".py",
   "mimetype": "text/x-python",
   "name": "python",
   "nbconvert_exporter": "python",
   "pygments_lexer": "ipython3",
   "version": "3.11.5"
  }
 },
 "nbformat": 4,
 "nbformat_minor": 5
}
