{
 "cells": [
  {
   "cell_type": "code",
   "execution_count": 18,
   "id": "b1c25f50",
   "metadata": {},
   "outputs": [
    {
     "data": {
      "text/plain": [
       "'PtoPormig'"
      ]
     },
     "execution_count": 18,
     "metadata": {},
     "output_type": "execute_result"
    }
   ],
   "source": [
    "string1=\"PythonProgramming\"\n",
    "string1[::2]"
   ]
  },
  {
   "cell_type": "code",
   "execution_count": null,
   "id": "d13b73dd",
   "metadata": {},
   "outputs": [],
   "source": []
  },
  {
   "cell_type": "code",
   "execution_count": 17,
   "id": "67f3b801",
   "metadata": {},
   "outputs": [
    {
     "data": {
      "text/plain": [
       "['green', 'yellow', 'purple']"
      ]
     },
     "execution_count": 17,
     "metadata": {},
     "output_type": "execute_result"
    }
   ],
   "source": [
    "colors=[\"red\",\"blue\",\"green\",\"yellow\",\"purple\",\"orange\"]\n",
    "# colors[0:3]\n",
    "\n",
    "# colors[-2:]\n",
    "\n",
    "colors[2:5]"
   ]
  },
  {
   "cell_type": "code",
   "execution_count": 2,
   "id": "d4a9d986",
   "metadata": {},
   "outputs": [
    {
     "data": {
      "text/plain": [
       "[-9, -8, -7, -6, -5, -4, -3, -2, -1]"
      ]
     },
     "execution_count": 2,
     "metadata": {},
     "output_type": "execute_result"
    }
   ],
   "source": [
    "list(range(-9,0))\n"
   ]
  },
  {
   "cell_type": "code",
   "execution_count": null,
   "id": "3d518fdf",
   "metadata": {},
   "outputs": [],
   "source": []
  },
  {
   "cell_type": "code",
   "execution_count": 19,
   "id": "e72d25d3",
   "metadata": {},
   "outputs": [
    {
     "name": "stdout",
     "output_type": "stream",
     "text": [
      "india\n",
      "america\n",
      "france\n",
      "dubai\n",
      "shrilanka\n"
     ]
    }
   ],
   "source": [
    "countries = [\"india\",\"america\",\"france\",\"dubai\",\"shrilanka\"]\n",
    "for each in countries:\n",
    "    print(each)"
   ]
  },
  {
   "cell_type": "code",
   "execution_count": 23,
   "id": "e4ef13ff",
   "metadata": {},
   "outputs": [
    {
     "name": "stdout",
     "output_type": "stream",
     "text": [
      "165\n"
     ]
    }
   ],
   "source": [
    "list1 =[]\n",
    "sum = 0\n",
    "for each in range(0,5):\n",
    "    num = int(input(\"Enter the number:\"))\n",
    "    list1.append(num)\n",
    "    sum = sum+ list1[each]\n",
    "print(sum)\n"
   ]
  },
  {
   "cell_type": "code",
   "execution_count": 24,
   "id": "38b0880a",
   "metadata": {},
   "outputs": [
    {
     "name": "stdout",
     "output_type": "stream",
     "text": [
      "[11, 22, 'updated', 44, 55]\n"
     ]
    }
   ],
   "source": [
    "list1[2]=\"updated\"\n",
    "print(list1)"
   ]
  },
  {
   "cell_type": "code",
   "execution_count": 25,
   "id": "81fa41cb",
   "metadata": {},
   "outputs": [
    {
     "data": {
      "text/plain": [
       "['france', 'dubai', 'shrilanka']"
      ]
     },
     "execution_count": 25,
     "metadata": {},
     "output_type": "execute_result"
    }
   ],
   "source": [
    "countries = [\"india\",\"america\",\"france\",\"dubai\",\"shrilanka\",\"maldwise\",\"rashiya\"]\n",
    "countries[2:5]"
   ]
  },
  {
   "cell_type": "code",
   "execution_count": 27,
   "id": "15095474",
   "metadata": {},
   "outputs": [
    {
     "name": "stdout",
     "output_type": "stream",
     "text": [
      "['india', 'america', 'france', 'shrilanka', 'maldwise', 'rashiya']\n"
     ]
    }
   ],
   "source": [
    "countries = [\"india\",\"america\",\"france\",\"dubai\",\"shrilanka\",\"maldwise\",\"rashiya\"]\n",
    "user_input = input(\"Enter the input\")\n",
    "for each in countries:\n",
    "    if each == user_input:\n",
    "        countries.remove(each)\n",
    "\n",
    "print(countries)\n"
   ]
  },
  {
   "cell_type": "code",
   "execution_count": null,
   "id": "126facdc",
   "metadata": {},
   "outputs": [
    {
     "name": "stdout",
     "output_type": "stream",
     "text": [
      "3\n"
     ]
    }
   ],
   "source": [
    "fruits = [\"apple\",\"grapes\",\"chikku\",\"apple\",\"mango\",\"apple\",\"papaya\"]\n",
    "count = 0\n",
    "for each in fruits:\n",
    "    if each == \"apple\":\n",
    "        count= count +1\n",
    "print(count)\n"
   ]
  },
  {
   "cell_type": "code",
   "execution_count": 30,
   "id": "d92ed5c8",
   "metadata": {},
   "outputs": [
    {
     "name": "stdout",
     "output_type": "stream",
     "text": [
      "100\n",
      "95\n"
     ]
    }
   ],
   "source": [
    "marks = [100,80,40,60,70,20,30,95]\n",
    "for each in marks:\n",
    "    if each > 90:\n",
    "        print(each)"
   ]
  },
  {
   "cell_type": "code",
   "execution_count": null,
   "id": "bd69f83f",
   "metadata": {},
   "outputs": [
    {
     "name": "stdout",
     "output_type": "stream",
     "text": [
      "4\n",
      "[4, 3, 2, 1]\n"
     ]
    }
   ],
   "source": [
    "## Q1. 🔁 Reverse a List (Without Slicing)\n",
    "\n",
    "# Write a function `reverse_list(lst)` that reverses a list using a loop (not `[::-1]` or `reversed()`).\n",
    "\n",
    "# 📘 Example:\n",
    "\n",
    "#     Input: [1, 2, 3, 4]\n",
    "#     Output: [4, 3, 2, 1]\n",
    "\n",
    "def reverse_list(lst):\n",
    "    reverse_lst = []\n",
    "    for each in list(range(len(lst)-1,-1,-1)):\n",
    "        reverse_lst.append(lst[each])\n",
    "    return reverse_lst\n",
    "print(reverse_list([1, 2, 3, 4]))"
   ]
  },
  {
   "cell_type": "code",
   "execution_count": null,
   "id": "f7640345",
   "metadata": {},
   "outputs": [
    {
     "name": "stdout",
     "output_type": "stream",
     "text": [
      "[1, 3, 4]\n"
     ]
    }
   ],
   "source": [
    "## Q2. ❌ Remove All Occurrences of a Given Number\n",
    "\n",
    "# Write a program to remove **all instances** of a number from a list entered by the user.\n",
    "\n",
    "# 📘 Example:\n",
    "\n",
    "#     Input list: [1, 2, 3, 2, 4, 2], value = 2\n",
    "#     Output: [1, 3, 4]\n",
    "\n",
    "def remove_instance(lst,value):\n",
    "    for each in lst:\n",
    "        if each == value:\n",
    "            lst.remove(each)\n",
    "    return lst\n",
    "\n",
    "print(remove_instance([1, 2, 3, 2, 4, 2],2))\n"
   ]
  },
  {
   "cell_type": "code",
   "execution_count": 17,
   "id": "e6a50424",
   "metadata": {},
   "outputs": [
    {
     "name": "stdout",
     "output_type": "stream",
     "text": [
      "('Even: ', 3, 'Odd: ', 2)\n"
     ]
    }
   ],
   "source": [
    "## Q3. 🔢 Count Even and Odd Numbers in a List\n",
    "\n",
    "# Write a program to count how many even and how many odd numbers are present in a list.\n",
    "\n",
    "# 📘 Example:\n",
    "\n",
    "#     Input: [10, 15, 22, 33, 42]\n",
    "#     Output: Even: 3, Odd: 2\n",
    "\n",
    "def even_odd(lst):\n",
    "    even_count = 0\n",
    "    odd_count = 0\n",
    "    for each in lst:\n",
    "        if each % 2 == 0:\n",
    "            even_count = even_count +1\n",
    "        else:\n",
    "            odd_count = odd_count + 1\n",
    "    return \"Even: \",even_count, \"Odd: \",odd_count\n",
    "print(even_odd([10, 15, 22, 33, 42]))\n"
   ]
  },
  {
   "cell_type": "code",
   "execution_count": 23,
   "id": "980fd86f",
   "metadata": {},
   "outputs": [
    {
     "name": "stdout",
     "output_type": "stream",
     "text": [
      "False\n"
     ]
    }
   ],
   "source": [
    "## Q4. 🔍 Check if a List is a Palindrome\n",
    "\n",
    "# Write a function that returns True if the list reads the same forward and backward.\n",
    "\n",
    "# 📘 Example:\n",
    "\n",
    "#     Input: [1, 2, 3, 2, 1]\n",
    "#     Output: True\n",
    "\n",
    "def palindrome(lst):\n",
    "    reverse_list = []\n",
    "    for each in list(range(len(lst)-1,-1,-1)):\n",
    "        reverse_list.append(lst[each])\n",
    "    if lst == reverse_list:\n",
    "        return True\n",
    "    else: \n",
    "        return False\n",
    "print(palindrome([1, 2, 3,1, 2, 1]))\n"
   ]
  },
  {
   "cell_type": "code",
   "execution_count": null,
   "id": "43b0e320",
   "metadata": {},
   "outputs": [],
   "source": []
  }
 ],
 "metadata": {
  "kernelspec": {
   "display_name": "Python 3",
   "language": "python",
   "name": "python3"
  },
  "language_info": {
   "codemirror_mode": {
    "name": "ipython",
    "version": 3
   },
   "file_extension": ".py",
   "mimetype": "text/x-python",
   "name": "python",
   "nbconvert_exporter": "python",
   "pygments_lexer": "ipython3",
   "version": "3.11.9"
  }
 },
 "nbformat": 4,
 "nbformat_minor": 5
}
