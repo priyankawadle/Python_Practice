{
 "cells": [
  {
   "cell_type": "code",
   "execution_count": null,
   "id": "a75fe381",
   "metadata": {},
   "outputs": [
    {
     "name": "stdout",
     "output_type": "stream",
     "text": [
      "['Inception=5\\n', 'Inception=4\\n', 'Titanic=4\\n', 'Titanic=2\\n', 'Avatar=3']\n"
     ]
    }
   ],
   "source": [
    "#Read file and return with average ratings per movie\n",
    "filename=\"reviews.txt\"\n",
    "ratings={}\n",
    "with open(filename,mode='r') as file:\n",
    "    all_lines = file.readlines()\n",
    "    all_lines= [each.replace(\"\\n\",\" \").strip() for each all_lines]\n",
    "    for line  in all_lines:\n",
    "        movie,rating = line.strip().split(\": \")\n",
    "        if movie not in ratings:\n",
    "            ratings[movie] = [int(rating)]\n",
    "        else:\n",
    "            ratings[movie].append([int(rating)])\n",
    "\n",
    "avg_rating={}\n",
    "for each in ratings:\n",
    "    \n",
    "\n"
   ]
  },
  {
   "cell_type": "code",
   "execution_count": 11,
   "id": "71cd5e1e",
   "metadata": {},
   "outputs": [
    {
     "name": "stdout",
     "output_type": "stream",
     "text": [
      "Age is:  -6\n"
     ]
    }
   ],
   "source": [
    "def calculate_age():\n",
    "    try:\n",
    "     birth_year = int(input(\"Enter The Birth Year\"))\n",
    "     current_year = 2025\n",
    "     age = (current_year-1)-birth_year\n",
    "    except ValueError:\n",
    "       print(\"Please enter a valid  year in numbers\")\n",
    "    else:\n",
    "       print(\"Age is: \",age)\n",
    "        \n",
    "calculate_age()"
   ]
  },
  {
   "cell_type": "code",
   "execution_count": 15,
   "id": "2f845e65",
   "metadata": {},
   "outputs": [
    {
     "name": "stdout",
     "output_type": "stream",
     "text": [
      "Number of people can not be zero\n"
     ]
    }
   ],
   "source": [
    "def split_bill():\n",
    "    try: \n",
    "     total_bill = float(input(\"Enter total bill\"))\n",
    "     number_people = int(input(\"nter total number of people\"))\n",
    "     individual_bill = total_bill/ number_people\n",
    "    except ZeroDivisionError:\n",
    "       print(\"Number of people can not be zero\")\n",
    "    except ValueError:\n",
    "        print(\"Enter numbers only!\")\n",
    "    else:\n",
    "       print(\"Individual Bill is: \", individual_bill)\n",
    "\n",
    "split_bill()"
   ]
  },
  {
   "cell_type": "code",
   "execution_count": 18,
   "id": "dc72f9be",
   "metadata": {},
   "outputs": [
    {
     "name": "stdout",
     "output_type": "stream",
     "text": [
      "Output is:  45670\n"
     ]
    }
   ],
   "source": [
    "def decode_secret():\n",
    "    try: \n",
    "     numeric_code = int(input(\"Enter a string: \"))\n",
    "     numeric_code = numeric_code * 10\n",
    "    except Exception as e:\n",
    "      print(\"Error is\",e.__class__.__name__)\n",
    "    else :\n",
    "      print(\"Output is: \",numeric_code)\n",
    "\n",
    "decode_secret()"
   ]
  },
  {
   "cell_type": "code",
   "execution_count": null,
   "id": "75ccb4fc",
   "metadata": {},
   "outputs": [],
   "source": [
    "def clean_contacts(filename):\n",
    "\n",
    "\n",
    "\n",
    "\n",
    "    []\n",
    "\n",
    "def validate_contact(contact):\n",
    "    try: \n",
    "     if len(str(contact)) == 10:\n",
    "        return True\n",
    "    except Exception as e :\n",
    "       print(e.__class__.__name__,e)\n",
    "\n",
    "\n"
   ]
  }
 ],
 "metadata": {
  "kernelspec": {
   "display_name": "Python 3",
   "language": "python",
   "name": "python3"
  },
  "language_info": {
   "codemirror_mode": {
    "name": "ipython",
    "version": 3
   },
   "file_extension": ".py",
   "mimetype": "text/x-python",
   "name": "python",
   "nbconvert_exporter": "python",
   "pygments_lexer": "ipython3",
   "version": "3.10.11"
  }
 },
 "nbformat": 4,
 "nbformat_minor": 5
}
