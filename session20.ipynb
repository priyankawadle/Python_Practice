{
 "cells": [
  {
   "cell_type": "code",
   "execution_count": null,
   "id": "a75fe381",
   "metadata": {},
   "outputs": [
    {
     "name": "stdout",
     "output_type": "stream",
     "text": [
      "['Inception=5\\n', 'Inception=4\\n', 'Titanic=4\\n', 'Titanic=2\\n', 'Avatar=3']\n"
     ]
    }
   ],
   "source": [
    "#Read file and return with average ratings per movie\n",
    "filename=\"reviews.txt\"\n",
    "ratings={}\n",
    "with open(filename,mode='r') as file:\n",
    "    all_lines = file.readlines()\n",
    "    all_lines= [each.replace(\"\\n\",\" \").strip() for each all_lines]\n",
    "    for line  in all_lines:\n",
    "        movie,rating = line.strip().split(\": \")\n",
    "        if movie not in ratings:\n",
    "            ratings[movie] = [int(rating)]\n",
    "        else:\n",
    "            ratings[movie].append([int(rating)])\n",
    "\n",
    "avg_rating={}\n",
    "for each in ratings:\n",
    "    \n",
    "\n"
   ]
  },
  {
   "cell_type": "code",
   "execution_count": 11,
   "id": "71cd5e1e",
   "metadata": {},
   "outputs": [
    {
     "name": "stdout",
     "output_type": "stream",
     "text": [
      "Age is:  -6\n"
     ]
    }
   ],
   "source": [
    "def calculate_age():\n",
    "    try:\n",
    "     birth_year = int(input(\"Enter The Birth Year\"))\n",
    "     current_year = 2025\n",
    "     age = (current_year-1)-birth_year\n",
    "    except ValueError:\n",
    "       print(\"Please enter a valid  year in numbers\")\n",
    "    else:\n",
    "       print(\"Age is: \",age)\n",
    "        \n",
    "calculate_age()"
   ]
  },
  {
   "cell_type": "code",
   "execution_count": 15,
   "id": "2f845e65",
   "metadata": {},
   "outputs": [
    {
     "name": "stdout",
     "output_type": "stream",
     "text": [
      "Number of people can not be zero\n"
     ]
    }
   ],
   "source": [
    "def split_bill():\n",
    "    try: \n",
    "     total_bill = float(input(\"Enter total bill\"))\n",
    "     number_people = int(input(\"nter total number of people\"))\n",
    "     individual_bill = total_bill/ number_people\n",
    "    except ZeroDivisionError:\n",
    "       print(\"Number of people can not be zero\")\n",
    "    except ValueError:\n",
    "        print(\"Enter numbers only!\")\n",
    "    else:\n",
    "       print(\"Individual Bill is: \", individual_bill)\n",
    "\n",
    "split_bill()"
   ]
  },
  {
   "cell_type": "code",
   "execution_count": 18,
   "id": "dc72f9be",
   "metadata": {},
   "outputs": [
    {
     "name": "stdout",
     "output_type": "stream",
     "text": [
      "Output is:  45670\n"
     ]
    }
   ],
   "source": [
    "def decode_secret():\n",
    "    try: \n",
    "     numeric_code = int(input(\"Enter a string: \"))\n",
    "     numeric_code = numeric_code * 10\n",
    "    except Exception as e:\n",
    "      print(\"Error is\",e.__class__.__name__)\n",
    "    else :\n",
    "      print(\"Output is: \",numeric_code)\n",
    "\n",
    "decode_secret()"
   ]
  },
  {
   "cell_type": "code",
   "execution_count": 4,
   "id": "987d45a5",
   "metadata": {},
   "outputs": [
    {
     "name": "stdout",
     "output_type": "stream",
     "text": [
      "[['priyanka', '90'], ['soni', 'hj8'], ['sada', 'yu']]\n"
     ]
    }
   ],
   "source": [
    "import datetime\n",
    "log_file_name=\"log.txt\"\n",
    "log_file=open(log_file_name,mode=\"a\")\n",
    "filename=\"marks.txt\"\n",
    "\n",
    "try:\n",
    "\n",
    "  with open(filename,mode=\"r\") as file:\n",
    "    all_lines=file.readlines()\n",
    "\n",
    "  details=[each.replace(\"\\n\",\"\").split(\",\") for each in all_lines]\n",
    "  output_dict={}\n",
    "  print(details)\n",
    "  for name,marks in details:\n",
    "    marks=int(marks)\n",
    "    output_dict[name]=marks\n",
    "\n",
    "except Exception as e:\n",
    "  current_time=str(datetime.datetime.now())\n",
    "  message=str(e.__class__.__name__)+\"--\"+str(e)+\"--\"+current_time+\"\\n\"\n",
    "  log_file.write(message)\n",
    "\n",
    "else:\n",
    "   print(output_dict)\n",
    "\n",
    "log_file.close()"
   ]
  },
  {
   "cell_type": "code",
   "execution_count": 4,
   "id": "75ccb4fc",
   "metadata": {},
   "outputs": [
    {
     "name": "stdout",
     "output_type": "stream",
     "text": [
      "Number validated\n"
     ]
    }
   ],
   "source": [
    "import datetime\n",
    "log_filename=\"log.txt\"\n",
    "log_file = open(log_filename,mode=\"a\")\n",
    "filename=\"contacts.txt\"\n",
    "\n",
    "# def clean_contacts(filename):\n",
    "\n",
    "\n",
    "\n",
    "\n",
    "#     []\n",
    "\n",
    "def validate_contact(contact):\n",
    "    try:\n",
    "        contact = int(contact)\n",
    "    except Exception as e :\n",
    "       print(e.__class__.__name__,e)\n",
    "       current_time = str(datetime.datetime.now())\n",
    "       message = e.__class__.__name__ + \"__\"+str(e)+\"__\"+current_time+\"\\n\"\n",
    "       log_file.write(message)\n",
    "\n",
    "       if len(str(contact)) == 10:\n",
    "         return True\n",
    "       else:\n",
    "         current_time = str(datetime.datetime.now())\n",
    "         message = \"Phone number is not 10 digits: \"+e.__class__.__name__ + \"__\"+str(e)+\"__\"+current_time+\"\\n\"\n",
    "         log_file.write(message)\n",
    "         return False\n",
    "    else:\n",
    "       print(\"Number validated\")\n",
    "       return True\n",
    "\n",
    "\n",
    "validate_contact(\"90797890\")\n",
    "log_file.close()"
   ]
  }
 ],
 "metadata": {
  "kernelspec": {
   "display_name": "Python 3",
   "language": "python",
   "name": "python3"
  },
  "language_info": {
   "codemirror_mode": {
    "name": "ipython",
    "version": 3
   },
   "file_extension": ".py",
   "mimetype": "text/x-python",
   "name": "python",
   "nbconvert_exporter": "python",
   "pygments_lexer": "ipython3",
   "version": "3.10.11"
  }
 },
 "nbformat": 4,
 "nbformat_minor": 5
}
