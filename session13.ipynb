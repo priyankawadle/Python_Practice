{
 "cells": [
  {
   "cell_type": "code",
   "execution_count": null,
   "id": "2bc3f28a",
   "metadata": {},
   "outputs": [
    {
     "name": "stdout",
     "output_type": "stream",
     "text": [
      "('priyanka', 50)\n",
      "('priyanka', 30)\n"
     ]
    }
   ],
   "source": [
    "class Student:\n",
    "    def __init__(self,name,marks):\n",
    "        self.__name = name\n",
    "        self.__marks = marks\n",
    "    \n",
    "    def get_details(self):\n",
    "        return self.__name,self.__marks\n",
    "\n",
    "    def update_marks(self,updated_marks):\n",
    "        if updated_marks >= 0 and updated_marks <= 100:\n",
    "            self.__marks = updated_marks\n",
    "        else:\n",
    "            print(\"Enter marks between 0 and 100\")\n",
    "\n",
    "student = Student(\"priyanka\",50)\n",
    "print(student.get_details())\n",
    "student.update_marks(30)\n",
    "print(student.get_details())"
   ]
  },
  {
   "cell_type": "code",
   "execution_count": 10,
   "id": "97c950ae",
   "metadata": {},
   "outputs": [
    {
     "name": "stdout",
     "output_type": "stream",
     "text": [
      "turn on method\n",
      "turn on method\n"
     ]
    }
   ],
   "source": [
    "class Appliance:\n",
    "    def __init__(self,power_rating):\n",
    "        self.power_rating = power_rating\n",
    "\n",
    "    def turn_on(self):\n",
    "        print(\"turn on method\")\n",
    "\n",
    "class Washing_Machine(Appliance):\n",
    "    def __init__(self,power_rating):\n",
    "        super().__init__(power_rating)\n",
    "    \n",
    "    def start_wash_cycle(self):\n",
    "        print(\"function of start_wash_cycle\")\n",
    "\n",
    "\n",
    "appliance = Appliance(10)\n",
    "appliance.turn_on()\n",
    "\n",
    "washing_machin = Washing_Machine(90)\n",
    "washing_machin.turn_on()"
   ]
  },
  {
   "cell_type": "code",
   "execution_count": 43,
   "id": "e5db6ad6",
   "metadata": {},
   "outputs": [],
   "source": [
    "# #Ques 1.\n",
    "# Create a base class `Parent` with:\n",
    "# - Public variable `name`\n",
    "# - Private variable `__secret`\n",
    "# - Method `show_info()` that prints both\n",
    "# Create a child class `Child(Parent)` that:\n",
    "# - Tries to access both `name` and `__secret` in its own method `display()`\n",
    "# What do you observe? Why is one accessible and the other not?\n",
    "\n",
    "class Parent:\n",
    "    def __init__(self,name,secret):\n",
    "        self.name = name\n",
    "        self.__secret = secret\n",
    "\n",
    "    def show_info(self):\n",
    "        print(\"Name is: \",self.name)\n",
    "        print(\"Secret is: \",self.__secret)\n",
    "\n",
    "    \n",
    "class Child(Parent):\n",
    "    def __init__(self,name,__secret):\n",
    "        super().__init__(name,__secret)\n",
    "\n",
    "    def display(self):\n",
    "        print(\"Name is: \",self.name)\n",
    "        print(\"Secret is: \",self.__secret)"
   ]
  },
  {
   "cell_type": "code",
   "execution_count": 44,
   "id": "3a8b4fd3",
   "metadata": {},
   "outputs": [
    {
     "name": "stdout",
     "output_type": "stream",
     "text": [
      "Name is:  priyanka\n",
      "Secret is:  4000000\n"
     ]
    }
   ],
   "source": [
    "parent = Parent(\"priyanka\",4000000)\n",
    "parent.show_info()"
   ]
  },
  {
   "cell_type": "code",
   "execution_count": 45,
   "id": "2f6d0b80",
   "metadata": {},
   "outputs": [
    {
     "name": "stdout",
     "output_type": "stream",
     "text": [
      "Name is:  sonu\n",
      "Secret is:  5000000\n"
     ]
    }
   ],
   "source": [
    "child = Child(\"sonu\",5000000)\n",
    "child.show_info()"
   ]
  },
  {
   "cell_type": "code",
   "execution_count": 46,
   "id": "96a158fa",
   "metadata": {},
   "outputs": [
    {
     "name": "stdout",
     "output_type": "stream",
     "text": [
      "Name is:  sonu\n"
     ]
    },
    {
     "ename": "AttributeError",
     "evalue": "'Child' object has no attribute '_Child__secret'",
     "output_type": "error",
     "traceback": [
      "\u001b[1;31m---------------------------------------------------------------------------\u001b[0m",
      "\u001b[1;31mAttributeError\u001b[0m                            Traceback (most recent call last)",
      "Cell \u001b[1;32mIn[46], line 1\u001b[0m\n\u001b[1;32m----> 1\u001b[0m \u001b[43mchild\u001b[49m\u001b[38;5;241;43m.\u001b[39;49m\u001b[43mdisplay\u001b[49m\u001b[43m(\u001b[49m\u001b[43m)\u001b[49m\n",
      "Cell \u001b[1;32mIn[43], line 26\u001b[0m, in \u001b[0;36mChild.display\u001b[1;34m(self)\u001b[0m\n\u001b[0;32m     24\u001b[0m \u001b[38;5;28;01mdef\u001b[39;00m\u001b[38;5;250m \u001b[39m\u001b[38;5;21mdisplay\u001b[39m(\u001b[38;5;28mself\u001b[39m):\n\u001b[0;32m     25\u001b[0m     \u001b[38;5;28mprint\u001b[39m(\u001b[38;5;124m\"\u001b[39m\u001b[38;5;124mName is: \u001b[39m\u001b[38;5;124m\"\u001b[39m,\u001b[38;5;28mself\u001b[39m\u001b[38;5;241m.\u001b[39mname)\n\u001b[1;32m---> 26\u001b[0m     \u001b[38;5;28mprint\u001b[39m(\u001b[38;5;124m\"\u001b[39m\u001b[38;5;124mSecret is: \u001b[39m\u001b[38;5;124m\"\u001b[39m,\u001b[38;5;28;43mself\u001b[39;49m\u001b[38;5;241;43m.\u001b[39;49m\u001b[43m__secret\u001b[49m)\n",
      "\u001b[1;31mAttributeError\u001b[0m: 'Child' object has no attribute '_Child__secret'"
     ]
    }
   ],
   "source": [
    "child.display()"
   ]
  },
  {
   "cell_type": "code",
   "execution_count": 63,
   "id": "8b7361d9",
   "metadata": {},
   "outputs": [
    {
     "name": "stdout",
     "output_type": "stream",
     "text": [
      "Subject Name is:  English\n"
     ]
    }
   ],
   "source": [
    "# Ques 2\n",
    "# Create a class `Teacher` with:\n",
    "# - Protected attribute `_subject`\n",
    "# - Method `display_subject()`\n",
    "# Create a class `MathTeacher(Teacher)` that:\n",
    "# - Accesses `_subject` and appends \" (Math Expert)\" to it\n",
    "# Create an instance of `MathTeacher` and demonstrate that `_subject` can still be accessed, but should be **treated as internal**.\n",
    "\n",
    "class Teacher:\n",
    "    def __init__(self,_subject):\n",
    "        self._subject=_subject\n",
    "\n",
    "    def display_subject(self):\n",
    "        print(\"Subject Name is: \",self._subject)\n",
    "\n",
    "class MathTeacher(Teacher):\n",
    "    def __init__(self, _subject):\n",
    "        super().__init__(_subject+\" Math Expert\")\n",
    "\n",
    "teacher = Teacher(\"English\")\n",
    "teacher.display_subject()\n",
    "\n",
    "\n",
    "        "
   ]
  },
  {
   "cell_type": "code",
   "execution_count": 64,
   "id": "811c861f",
   "metadata": {},
   "outputs": [
    {
     "name": "stdout",
     "output_type": "stream",
     "text": [
      "Subject Name is:  Math Math Expert\n"
     ]
    }
   ],
   "source": [
    "mathteacher = MathTeacher(\"Math\")\n",
    "mathteacher.display_subject()\n"
   ]
  },
  {
   "cell_type": "code",
   "execution_count": 57,
   "id": "e8c088fe",
   "metadata": {},
   "outputs": [
    {
     "name": "stdout",
     "output_type": "stream",
     "text": [
      "Dog do Bark \n",
      "Cat do Meow \n"
     ]
    }
   ],
   "source": [
    "# # Ques 3\n",
    "# Create three unrelated classes:\n",
    "# - `Dog` with method `speak()` printing \"Bark\"\n",
    "# - `Cat` with method `speak()` printing \"Meow\"\n",
    "# - `Robot` with method `speak()` printing \"Beep\"\n",
    "# Write a function `make_it_speak(entity)` that accepts any object and calls `speak()`.\n",
    "# Demonstrate that even though these classes don’t share a parent, polymorphism via duck typing works in Python.\n",
    "\n",
    "class Dog:\n",
    "    def speak(self):\n",
    "        print(\"Dog do Bark \")\n",
    "\n",
    "class Cat:\n",
    "    def speak(self):\n",
    "     print(\"Cat do Meow \")\n",
    "\n",
    "class Robot:\n",
    "    def speak(self):\n",
    "        print(\"Robot do Beep \")\n",
    "\n",
    "def make_it_speak(object):\n",
    "    object.speak()\n",
    "\n",
    "dog = Dog()\n",
    "make_it_speak(dog)\n",
    "\n",
    "cat = Cat()\n",
    "make_it_speak(cat)"
   ]
  },
  {
   "cell_type": "code",
   "execution_count": 68,
   "id": "ef981a9d",
   "metadata": {},
   "outputs": [
    {
     "name": "stdout",
     "output_type": "stream",
     "text": [
      "PIN is correct\n",
      "PIN is incorrect\n",
      "Please enter correct PIN\n",
      "Balance is:  200000\n"
     ]
    }
   ],
   "source": [
    "# Ques 4\n",
    "# Create a class `ATMCard` with:\n",
    "# - Private variables `__pin` and `__balance`\n",
    "# - Method `authenticate(pin)` which returns True if PIN is correct\n",
    "# - Method `withdraw(amount)` that:\n",
    "#   - Checks authentication\n",
    "#   - Withdraws amount if sufficient balance exists\n",
    "# - Getter for balance (via method, not @property)\n",
    "# Test cases:\n",
    "# 1. Try withdrawing with wrong PIN\n",
    "# 2. Withdraw more than available\n",
    "# 3. Successfully withdraw\n",
    "\n",
    "class ATMCard:\n",
    "    def __init__(self,pin,balance):\n",
    "        self.__pin = pin\n",
    "        self.__balance = balance\n",
    "\n",
    "    def authenticate(self,pin):\n",
    "        if pin == self.__pin:\n",
    "            print(\"PIN is correct\")\n",
    "            return True\n",
    "        else:\n",
    "            print(\"PIN is incorrect\")\n",
    "            return False\n",
    "    \n",
    "    def withdraw(self,amount,pin):\n",
    "        if self.authenticate(pin):\n",
    "            if self.__balance >= amount:\n",
    "                self.__balance -= amount\n",
    "                print(\"Successfully withdraw\")\n",
    "            else :\n",
    "                print(\"Insufficient Balance\")\n",
    "        else:\n",
    "            print(\"Please enter correct PIN\")\n",
    "    \n",
    "    def getter(self):\n",
    "        print(\"Balance is: \",self.__balance)\n",
    "\n",
    "\n",
    "atmcard = ATMCard(123,200000)\n",
    "atmcard.authenticate(123)\n",
    "atmcard.withdraw(300000,234)\n",
    "atmcard.getter()"
   ]
  },
  {
   "cell_type": "code",
   "execution_count": null,
   "id": "3426d03d",
   "metadata": {},
   "outputs": [],
   "source": []
  }
 ],
 "metadata": {
  "kernelspec": {
   "display_name": "Python 3",
   "language": "python",
   "name": "python3"
  },
  "language_info": {
   "codemirror_mode": {
    "name": "ipython",
    "version": 3
   },
   "file_extension": ".py",
   "mimetype": "text/x-python",
   "name": "python",
   "nbconvert_exporter": "python",
   "pygments_lexer": "ipython3",
   "version": "3.10.11"
  }
 },
 "nbformat": 4,
 "nbformat_minor": 5
}
