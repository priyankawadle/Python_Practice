{
 "cells": [
  {
   "cell_type": "code",
   "execution_count": 6,
   "id": "f0865bde-2bc9-4296-9953-3491407efde3",
   "metadata": {},
   "outputs": [
    {
     "name": "stdin",
     "output_type": "stream",
     "text": [
      "Enter the number: 9\n"
     ]
    },
    {
     "name": "stdout",
     "output_type": "stream",
     "text": [
      "Odd Number\n"
     ]
    }
   ],
   "source": [
    "# Example 1: Check if a number is even or odd\n",
    "num = int(input(\"Enter the Number:\"))\n",
    "\n",
    "if num % 2 == 0:\n",
    "    print(\"Even Number\")\n",
    "else:\n",
    "    print(\"Odd Number\")"
   ]
  },
  {
   "cell_type": "code",
   "execution_count": 16,
   "id": "def53094-f636-45c0-b3e0-ed7756549a2b",
   "metadata": {},
   "outputs": [
    {
     "name": "stdin",
     "output_type": "stream",
     "text": [
      "Enter the Number: 24\n"
     ]
    },
    {
     "name": "stdout",
     "output_type": "stream",
     "text": [
      "Fail\n"
     ]
    }
   ],
   "source": [
    "# This program takes marks as input and prints the appropriate marks.\n",
    "marks = int(input(\"Enter the Number:\"))\n",
    "if marks <= 0 or marks >=100:\n",
    "            print(\"Enter correct marks\")   \n",
    "elif marks >= 90:\n",
    "            print(\"A Grade\")\n",
    "elif marks >= 60:\n",
    "            print(\"B Grade\")\n",
    "elif marks >= 40:\n",
    "            print(\"C Grade\")\n",
    "elif marks >= 30:\n",
    "            print(\"D Grade\")\n",
    "else:\n",
    "    print(\"Fail\")"
   ]
  },
  {
   "cell_type": "code",
   "execution_count": 44,
   "id": "689e81e5-8ede-4698-9bac-d635db5ffc05",
   "metadata": {},
   "outputs": [
    {
     "name": "stdin",
     "output_type": "stream",
     "text": [
      "Enter string: ji\n"
     ]
    },
    {
     "name": "stdout",
     "output_type": "stream",
     "text": [
      "String in upeercase:  JI\n",
      "String's length is:  2\n"
     ]
    }
   ],
   "source": [
    "# Length of a Word\n",
    "# Ask the user to enter a word. Print the word in uppercase using .upper() and also print its length using len().\n",
    "string = str(input(\"Enter string:\"))\n",
    "print(\"String in upeercase: \",string.upper())\n",
    "print(\"String's length is: \",len(string))"
   ]
  },
  {
   "cell_type": "code",
   "execution_count": null,
   "id": "ee0a7760-0e95-4b1c-89aa-3459d7a24e08",
   "metadata": {},
   "outputs": [],
   "source": [
    "# Sum of Three Numbers\n",
    "# Take input for three numbers from the user and print their sum using input() and int().\n",
    "a = int(input(\"Enter the first number:\")) \n",
    "b = int(input(\"Enter the second number:\")) \n",
    "c = int(input(\"Enter the second number:\"))\n",
    "sum = a + b + c print(\"Sum of numbers is\",sum)"
   ]
  },
  {
   "cell_type": "code",
   "execution_count": 26,
   "id": "871bd6ca-d83d-417a-baae-46015b01e4b3",
   "metadata": {},
   "outputs": [
    {
     "name": "stdin",
     "output_type": "stream",
     "text": [
      "Enter the temperature in celsius: 40.6\n"
     ]
    },
    {
     "name": "stdout",
     "output_type": "stream",
     "text": [
      "Temperature in Fahrenheit is:  105.08\n"
     ]
    }
   ],
   "source": [
    "# Temperature Conversion\n",
    "# Convert temperature from Celsius to Fahrenheit using the formula:\n",
    "# F = (C × 9/5) + 32\n",
    "# Use float() to handle decimal input.\n",
    "temp_cel = float(input(\"Enter the temperature in celsius:\"))\n",
    "temp_fahren = (temp_cel * (9/5)) + 32\n",
    "print(\"Temperature in Fahrenheit is: \", temp_fahren)"
   ]
  },
  {
   "cell_type": "code",
   "execution_count": 31,
   "id": "b0abc377-7d95-467b-b75f-f29035e3bbbc",
   "metadata": {},
   "outputs": [
    {
     "name": "stdin",
     "output_type": "stream",
     "text": [
      "Enter first number : 10\n",
      "Enter second number : 6\n"
     ]
    },
    {
     "name": "stdout",
     "output_type": "stream",
     "text": [
      "First is greater\n"
     ]
    }
   ],
   "source": [
    "# Number Comparison\n",
    "# Take two numbers as input and print:\n",
    "# \"Equal\" if both are equal\n",
    "# \"First is greater\" if first number is larger\n",
    "# \"Second is greater\" otherwise\n",
    "num1 = int(input(\"Enter first number :\"))\n",
    "num2 = int(input(\"Enter second number :\"))\n",
    "\n",
    "if num1 == num2:\n",
    "    print(\"Equal\")\n",
    "elif num1 > num2:\n",
    "    print(\"First is greater\")\n",
    "else :\n",
    "    print(\"Second is greater\")\n"
   ]
  },
  {
   "cell_type": "code",
   "execution_count": 37,
   "id": "59b61ac4-162f-44fb-ac3b-fbf766078e7d",
   "metadata": {},
   "outputs": [
    {
     "name": "stdin",
     "output_type": "stream",
     "text": [
      "Enter a single letter: A\n"
     ]
    },
    {
     "name": "stdout",
     "output_type": "stream",
     "text": [
      "It is a vowel\n"
     ]
    }
   ],
   "source": [
    "# Vowel Checker\n",
    "# Ask the user to input a single letter. Check if it's a vowel (a, e, i, o, u) and print a message accordingly.\n",
    "\n",
    "char = str(input(\"Enter a single letter:\")).lower()\n",
    "\n",
    "if char in ['a','e','i','o','ú']:\n",
    "    print(\"It is a vowel\")\n",
    "else:\n",
    "    print(\"It is not vowel\")"
   ]
  },
  {
   "cell_type": "code",
   "execution_count": 40,
   "id": "fc27e1e7-7d63-4f33-9f58-46d19a51aeb9",
   "metadata": {},
   "outputs": [
    {
     "name": "stdin",
     "output_type": "stream",
     "text": [
      "Enter name: sada\n",
      "Enter age: 12\n"
     ]
    },
    {
     "name": "stdout",
     "output_type": "stream",
     "text": [
      "Sorry  sada  you are not eligible to vote yet.\n"
     ]
    }
   ],
   "source": [
    "# Simple Eligibility Checker\n",
    "# Ask for name and age. Print:\n",
    "\n",
    "# \"Hello <name>, you are eligible to vote.\" if age ≥ 18\n",
    "# Otherwise: \"Sorry <name>, you are not eligible to vote yet.\"\n",
    "\n",
    "name = str(input(\"Enter name:\"))\n",
    "age = int(input(\"Enter age:\"))\n",
    "\n",
    "if age >= 18:\n",
    "    print(\"Hello \",name,\" you are eligible to vote.\")\n",
    "else:\n",
    "     print(\"Sorry \",name,\" you are not eligible to vote yet.\")"
   ]
  },
  {
   "cell_type": "code",
   "execution_count": 43,
   "id": "c6152b9c-b81d-4ff4-9c54-3b4307550306",
   "metadata": {},
   "outputs": [
    {
     "name": "stdin",
     "output_type": "stream",
     "text": [
      "Enter first operand: 10\n",
      "Enter second operand 20\n",
      "Enter the operator: *\n"
     ]
    },
    {
     "name": "stdout",
     "output_type": "stream",
     "text": [
      "200\n"
     ]
    }
   ],
   "source": [
    "# Simple Calculator\n",
    "# Take two numbers and an operation symbol (+, -, *, /) as input. Use if-elif-else to perform the operation and show the result.\n",
    "\n",
    "operand1 = int(input(\"Enter first operand:\"))\n",
    "operand2 = int(input(\"Enter second operand\"))\n",
    "operator = input(\"Enter the operator:\")\n",
    "\n",
    "if operator == '+':\n",
    "    print(operand1 + operand2)\n",
    "elif operator == '-':\n",
    "    print(operand1 - operand2)\n",
    "elif operator == '*':\n",
    "    print(operand1 * operand2)\n",
    "elif operator == '/':\n",
    "    print(operand1 / operand2)"
   ]
  },
  {
   "cell_type": "code",
   "execution_count": null,
   "id": "061e916c-db85-42e7-bc75-ed84d70d7eae",
   "metadata": {},
   "outputs": [],
   "source": []
  }
 ],
 "metadata": {
  "kernelspec": {
   "display_name": "anaconda-panel-2023.05-py310",
   "language": "python",
   "name": "conda-env-anaconda-panel-2023.05-py310-py"
  },
  "language_info": {
   "codemirror_mode": {
    "name": "ipython",
    "version": 3
   },
   "file_extension": ".py",
   "mimetype": "text/x-python",
   "name": "python",
   "nbconvert_exporter": "python",
   "pygments_lexer": "ipython3",
   "version": "3.11.5"
  }
 },
 "nbformat": 4,
 "nbformat_minor": 5
}
