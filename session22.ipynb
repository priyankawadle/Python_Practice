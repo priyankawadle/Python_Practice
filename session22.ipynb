{
 "cells": [
  {
   "cell_type": "code",
   "execution_count": 5,
   "id": "0767831f",
   "metadata": {},
   "outputs": [
    {
     "name": "stdout",
     "output_type": "stream",
     "text": [
      "Mark should be valid\n"
     ]
    }
   ],
   "source": [
    "class InvalidMarkError(Exception):\n",
    "    pass\n",
    "\n",
    "def check_mark(marks):\n",
    "        if marks >= 0 and marks <= 100:\n",
    "            return marks\n",
    "        else:\n",
    "            return InvalidMarkError(\"Mark should be valid\")\n",
    "        \n",
    "try:\n",
    "    result = check_mark(-100)\n",
    "except InvalidMarkError as e:\n",
    "    print(e)\n",
    "else:\n",
    "    print(result)"
   ]
  },
  {
   "cell_type": "code",
   "execution_count": 14,
   "id": "56e8bceb",
   "metadata": {},
   "outputs": [
    {
     "name": "stdout",
     "output_type": "stream",
     "text": [
      "-1000 should be positive\n"
     ]
    }
   ],
   "source": [
    "class InvalidInterestInputError(Exception):\n",
    "    def __init__(self, field):\n",
    "        message = str(field) + \" should be positive\"\n",
    "        super().__init__(message)\n",
    "\n",
    "def calculate_simpleinterest(p,r,t):\n",
    "    if validate_inputs(p,r,t):\n",
    "      return p*r*t\n",
    "\n",
    "def validate_inputs(principle,rate,time):\n",
    "    if principle <= 0 :\n",
    "        raise InvalidInterestInputError(principle)\n",
    "    if rate <= 0 :\n",
    "        raise InvalidInterestInputError(rate)\n",
    "    if time <= 0:\n",
    "      raise InvalidInterestInputError(time)\n",
    "    else:\n",
    "        True\n",
    "\n",
    "try:\n",
    "    result = calculate_simpleinterest(-1000,4,-30)\n",
    "except InvalidInterestInputError as e:\n",
    "     print(e)\n",
    "else:\n",
    "    print(result)\n",
    "\n",
    "\n",
    "\n"
   ]
  },
  {
   "cell_type": "code",
   "execution_count": 26,
   "id": "5f6a75a6",
   "metadata": {},
   "outputs": [
    {
     "name": "stdout",
     "output_type": "stream",
     "text": [
      "{'Charlie': ('Pasta', '400'), 'David': ('Fries', '120'), 'Eve': ('Steak', '550')}\n",
      "Total amount:  400\n",
      "Number of valid persons:  3\n",
      "Name of valid persons:  ['Charlie', 'David', 'Eve']\n",
      "Share per person:  133.33\n"
     ]
    }
   ],
   "source": [
    "from custom_exception import PriceNegativeOrZeroError,PriceNotInteger,FileMissingError\n",
    "import datetime\n",
    "class DinnerBillReader:\n",
    "    def __init__(self,filename,log_file_name):\n",
    "        self.filename = filename\n",
    "        self.log_file_name = log_file_name\n",
    "\n",
    "    def read_data(self,filename):\n",
    "        try:\n",
    "           with open(filename,\"r\") as dinnerfile:\n",
    "             all_lines = dinnerfile.readlines()\n",
    "             details = [ each.replace(\"\\n\",\"\").split(\",\") for each in all_lines]\n",
    "        except FileNotFoundError:\n",
    "             message = FileMissingError(self.filename)\n",
    "             self.logging(message)\n",
    "        else:\n",
    "             return details\n",
    "    \n",
    "    def logging(self,message,mode=\"a\"): \n",
    "      current_time = str(datetime.datetime.now())\n",
    "      message = message + \"__\" + current_time + \"\\n\"\n",
    "      with open(self.log_file_name,mode) as logfile:\n",
    "        logfile.write(message+\"\\n\")\n",
    "        \n",
    "    def validate_entry(self,name,item,price):\n",
    "            try:\n",
    "             price = int(price)\n",
    "            except ValueError:\n",
    "              message = PriceNotInteger(name,price)\n",
    "              self.logging(str(message))\n",
    "              return False\n",
    "            else:\n",
    "                return True\n",
    "            \n",
    "class DinnerBillProcessor(DinnerBillReader):\n",
    "    def __init__(self, filename, log_file_name):\n",
    "        super().__init__(filename, log_file_name)\n",
    "        self.details_dict = {}\n",
    "    \n",
    "    def process(self):\n",
    "        content = self.read_data(self.filename) \n",
    "        for name,item,price in content:\n",
    "         response = self.validate_entry(name,item,price)  \n",
    "         if not response :\n",
    "            continue\n",
    "         if int(price) > 0:\n",
    "            self.details_dict[name]=(item,price)\n",
    "        else:\n",
    "            message = PriceNegativeOrZeroError(name,price)\n",
    "            self.logging(str(message))\n",
    "        self.print_details(self.details_dict)\n",
    "\n",
    "    def compute_bill(self,details_dict):\n",
    "        total = 0\n",
    "        for name,details in details_dict.items():\n",
    "         total += int(details[1])\n",
    "         return total\n",
    "        \n",
    "    def print_details(self,details_dict):\n",
    "        print(details_dict)\n",
    "        total_bill = self.compute_bill(details_dict)\n",
    "        num_of_valid_persons = len(details_dict)\n",
    "        share_per_person = total_bill / num_of_valid_persons\n",
    "        print(\"Total amount: \", total_bill)\n",
    "        print(\"Number of valid persons: \", num_of_valid_persons)\n",
    "        print(\"Name of valid persons: \", list(details_dict.keys()))\n",
    "        print(\"Share per person: \", round(share_per_person,2))\n",
    "            \n",
    "        \n",
    "dinnerBillProcessor = DinnerBillProcessor(\"dinner_bill.txt\",\"dinners_error.txt\")\n",
    "dinnerBillProcessor.process()"
   ]
  }
 ],
 "metadata": {
  "kernelspec": {
   "display_name": "Python 3",
   "language": "python",
   "name": "python3"
  },
  "language_info": {
   "codemirror_mode": {
    "name": "ipython",
    "version": 3
   },
   "file_extension": ".py",
   "mimetype": "text/x-python",
   "name": "python",
   "nbconvert_exporter": "python",
   "pygments_lexer": "ipython3",
   "version": "3.10.11"
  }
 },
 "nbformat": 4,
 "nbformat_minor": 5
}
