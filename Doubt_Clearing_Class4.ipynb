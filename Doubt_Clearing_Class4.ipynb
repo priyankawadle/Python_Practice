{
 "cells": [
  {
   "cell_type": "code",
   "execution_count": 6,
   "id": "e9f8287e",
   "metadata": {},
   "outputs": [
    {
     "name": "stdout",
     "output_type": "stream",
     "text": [
      "Priyanka your ride is rejected\n"
     ]
    }
   ],
   "source": [
    "class Driver:\n",
    "    def __init__(self,name,location,available=True):\n",
    "        self.name = name \n",
    "        self.location = location\n",
    "        self.available = available\n",
    "    \n",
    "    def accept_request(self,rider_info):\n",
    "        if self.available == True and self.location == rider_info.pickup_location:\n",
    "            rider_info.status = \"In the Journey\"\n",
    "            self.available = False\n",
    "            print(rider_info.name,\"your ride is booked\")\n",
    "        else :\n",
    "            self.reject_request(rider_info)\n",
    "    \n",
    "    def reject_request(self,rider_info):\n",
    "            rider_info.status = \"rejected\"\n",
    "            print(rider_info.name,\"your ride is rejected\")\n",
    "\n",
    "\n",
    "    def toggle_availablity(self):\n",
    "        self.available = not self.available\n",
    "\n",
    "    \n",
    "    def status(self):\n",
    "        print(\"Driver name\",self.name)\n",
    "        print(\"Driver location\",self.location)\n",
    "        print(\"Driver status\", \"Available\" if self.available else \"Unavailable\")\n",
    "\n",
    "\n",
    "class Rider:\n",
    "    def __init__(self,name,pickup_location,status=\"waiting\"):\n",
    "        self.name = name\n",
    "        self.pickup_location = pickup_location\n",
    "        self.status = status\n",
    "    \n",
    "    def request_ride(self,driver_info):\n",
    "        driver_info.accept_request(self)\n",
    "\n",
    "    def status_info(self):\n",
    "        print(\"Rider name\",self.name)\n",
    "        print(\"Rider location\",self.pickup_location)\n",
    "        print(\"Rider status\",self.status)\n",
    "\n",
    "d1 = Driver(\"Rajesh\",\"Kharadi\",True)\n",
    "d2 = Driver(\"Mahesh\",\"Baner\",False)\n",
    "\n",
    "\n",
    "r1 = Rider(\"Priyanka\",\"Kharadi1\",\"waiting\")\n",
    "r2 = Rider(\"Sonu\",\"Baner\",\"waiting\")\n",
    "\n",
    "# d1.accept_request(r1)\n",
    "# d1.reject_request(r1)\n",
    "# d1.toggle_availablity()\n",
    "r1.request_ride(d1)\n",
    "# r1.request_ride(d1)"
   ]
  }
 ],
 "metadata": {
  "kernelspec": {
   "display_name": "Python 3",
   "language": "python",
   "name": "python3"
  },
  "language_info": {
   "codemirror_mode": {
    "name": "ipython",
    "version": 3
   },
   "file_extension": ".py",
   "mimetype": "text/x-python",
   "name": "python",
   "nbconvert_exporter": "python",
   "pygments_lexer": "ipython3",
   "version": "3.10.11"
  }
 },
 "nbformat": 4,
 "nbformat_minor": 5
}
