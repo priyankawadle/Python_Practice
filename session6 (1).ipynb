{
 "cells": [
  {
   "cell_type": "code",
   "execution_count": null,
   "id": "51ee9cd0-85b3-4526-9285-adb8c957b69f",
   "metadata": {},
   "outputs": [],
   "source": [
    "def pizza_order():\n",
    "    print(\"Welcome To Basic Python Code:\")\n",
    "    print(\"Menu:\")\n",
    "    print(\"Pizza- 250\")\n",
    "    print(\"Burger- 120\")\n",
    "    print(\"Pasta- 180\")\n",
    "    print(\"Coke- 50\")\n",
    "    total_price = 0\n",
    "    while True:\n",
    "        menu = input(\"What whould like to order?(type quit to exit)\").lower()\n",
    "        if menu == \"quit\":\n",
    "            break\n",
    "        quantity = int(input(\"Please enter quantity:\"))\n",
    "        if menu == \"pizza\":\n",
    "            total_price= total_price +  quantity * 250\n",
    "        elif menu == \"burger\":\n",
    "            total_price= total_price + quantity * 120\n",
    "        elif menu == \"pasta\":\n",
    "            total_price= total_price + quantity * 180\n",
    "        elif menu == \"coke\":\n",
    "            total_price= total_price + quantity * 50\n",
    "        else:\n",
    "            print(\"Please select correct menu\")\n",
    "    return total_price\n",
    "\n",
    "response = pizza_order()\n",
    "print(response)\n",
    "    \n"
   ]
  },
  {
   "cell_type": "code",
   "execution_count": 3,
   "id": "1d80cbc0-0a16-4fe9-ad53-8c3a51233931",
   "metadata": {},
   "outputs": [
    {
     "name": "stdout",
     "output_type": "stream",
     "text": [
      "Flight Options:\n",
      "1. Delhi to Mumbai: 5000\n",
      "2. Delhi to Bangalore: 6000\n",
      "3. Delhi to Kolkata: 5500\n",
      "20000\n"
     ]
    }
   ],
   "source": [
    "# Flight Booking:\n",
    "def flight_booking():\n",
    "    print(\"Flight Options:\")\n",
    "    print(\"1. Delhi to Mumbai: 5000\")\n",
    "    print(\"2. Delhi to Bangalore: 6000\")\n",
    "    print(\"3. Delhi to Kolkata: 5500\")\n",
    " \n",
    "    total_price = 0\n",
    "    while True:\n",
    "        destination = input(\"Where you want to fly? (Type quit to exit)\").lower()\n",
    "        if destination == \"quit\":\n",
    "            break\n",
    "        no_tickets = int(input(\"How many tickets?\"))\n",
    "        if destination == \"mumbai\":\n",
    "            total_price = total_price + no_tickets*5000\n",
    "        elif destination == \"bangalore\":\n",
    "            total_price = total_price + no_tickets*6000\n",
    "        elif destination == \"kolkata\":\n",
    "            total_price = total_price + no_tickets*5500\n",
    "        else:\n",
    "          print(\"Please select correct choice.\")\n",
    "    return total_price\n",
    "            \n",
    "response = flight_booking()\n",
    "print(response)\n"
   ]
  },
  {
   "cell_type": "code",
   "execution_count": 7,
   "id": "41c0dc66-6cc1-453c-9563-86ff3bd19b20",
   "metadata": {},
   "outputs": [
    {
     "name": "stdout",
     "output_type": "stream",
     "text": [
      "Ticket Types:\n",
      "Regular: 150\n",
      "Premium: 250\n",
      "VIP: 400\n",
      "popcorn total: 200\n",
      "Booking Summary: 2450\n",
      "Final Bill: 650\n"
     ]
    }
   ],
   "source": [
    "def movie_ticket_booking():\n",
    "    print(\"Ticket Types:\")\n",
    "    print(\"Regular: 150\")\n",
    "    print(\"Premium: 250\")\n",
    "    print(\"VIP: 400\")\n",
    "\n",
    "    total_price = 0\n",
    "    while True:\n",
    "        ticket_type = input(\"Which ticket type?(Enter quit to exit)\").lower()\n",
    "        if ticket_type == \"quit\":\n",
    "            break\n",
    "        no_tickets = int(input(\"How many tickets?\"))\n",
    "        slot = int(input(\"Choose Timing 10AM/ 1PM/4PM:\"))\n",
    "        ispopcorn = input(\"want to add popcorn?(yes/no)\")\n",
    "        if ticket_type == \"regular\":\n",
    "            total_price = total_price + no_tickets* 150\n",
    "        elif ticket_type == \"premium\":\n",
    "            total_price = total_price + no_tickets* 250\n",
    "        elif ticket_type == \"vip\":\n",
    "            total_price = total_price + no_tickets* 400\n",
    "        else:\n",
    "            print(\"Please choose correct choice\")\n",
    "    \n",
    "        if ispopcorn == \"yes\":\n",
    "           final_total_price = total_price + 200\n",
    "    print(\"popcorn total:\",200)\n",
    "    print(\"Booking Summary:\",total_price)\n",
    "    print(\"Final Bill:\",final_total_price)\n",
    "    return final_total_price     \n",
    "response =   movie_ticket_booking()"
   ]
  },
  {
   "cell_type": "code",
   "execution_count": null,
   "id": "2788f028-5291-4412-ac05-55b51aae902b",
   "metadata": {},
   "outputs": [],
   "source": []
  },
  {
   "cell_type": "code",
   "execution_count": null,
   "id": "e6c8df0a-b66b-4ed1-ad9a-f83d0ed43a6a",
   "metadata": {},
   "outputs": [],
   "source": []
  }
 ],
 "metadata": {
  "kernelspec": {
   "display_name": "Python 3",
   "language": "python",
   "name": "python3"
  },
  "language_info": {
   "codemirror_mode": {
    "name": "ipython",
    "version": 3
   },
   "file_extension": ".py",
   "mimetype": "text/x-python",
   "name": "python",
   "nbconvert_exporter": "python",
   "pygments_lexer": "ipython3",
   "version": "3.11.9"
  }
 },
 "nbformat": 4,
 "nbformat_minor": 5
}
