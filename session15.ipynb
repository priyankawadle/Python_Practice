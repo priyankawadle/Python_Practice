{
 "cells": [
  {
   "cell_type": "code",
   "execution_count": 2,
   "id": "043598e4",
   "metadata": {},
   "outputs": [
    {
     "name": "stdout",
     "output_type": "stream",
     "text": [
      "Name is:  pri\n",
      "PAN is:  adafsfd\n",
      "Income is:  1000000\n",
      "Taxable income:  950000\n",
      "Total tax:  57500.0\n"
     ]
    }
   ],
   "source": [
    "import income_tax as it\n",
    "\n",
    "tax_obj= it.TaxCalculator(\"pri\",\"adafsfd\",1000000)\n",
    "tax_obj.apply_standard_deduction()\n",
    "tax_obj.print_tax_summary()"
   ]
  },
  {
   "cell_type": "code",
   "execution_count": 3,
   "id": "edd82ded",
   "metadata": {},
   "outputs": [
    {
     "name": "stdout",
     "output_type": "stream",
     "text": [
      "Name is:  pri\n",
      "PAN is:  adafsfd\n",
      "Income is:  1000000\n"
     ]
    }
   ],
   "source": [
    "tax_obj.print_profile()"
   ]
  },
  {
   "cell_type": "code",
   "execution_count": 4,
   "id": "8c4586fb",
   "metadata": {},
   "outputs": [
    {
     "name": "stdout",
     "output_type": "stream",
     "text": [
      "== Regular Taxpayer ==\n",
      "Name is:  Rahul\n",
      "PAN is:  ABCDE1234F\n",
      "Income is:  850000\n",
      "Taxable income:  800000\n",
      "Total tax:  42500.0\n"
     ]
    }
   ],
   "source": [
    "print(\"== Regular Taxpayer ==\")\n",
    "person1 = it.TaxCalculator(\"Rahul\", \"ABCDE1234F\",850000)\n",
    "person1.apply_standard_deduction()\n",
    "person1.print_tax_summary()"
   ]
  },
  {
   "cell_type": "code",
   "execution_count": 5,
   "id": "bd7cff5c",
   "metadata": {},
   "outputs": [
    {
     "name": "stdout",
     "output_type": "stream",
     "text": [
      "\n",
      "== Senior Citizen ==\n",
      "Name is:  Shyam\n",
      "PAN is:  PQRS5678L\n",
      "Income is:  850000\n",
      "Taxable income:  800000\n",
      "Total tax:  40000.0\n"
     ]
    }
   ],
   "source": [
    "print(\"\\n== Senior Citizen ==\")\n",
    "senior1 = it.SeniorCitizenTaxCalculator(\"Shyam\", \"PQRS5678L\",850000)\n",
    "senior1.apply_standard_deduction()\n",
    "senior1.print_tax_summary()\n"
   ]
  }
 ],
 "metadata": {
  "kernelspec": {
   "display_name": "Python 3",
   "language": "python",
   "name": "python3"
  },
  "language_info": {
   "codemirror_mode": {
    "name": "ipython",
    "version": 3
   },
   "file_extension": ".py",
   "mimetype": "text/x-python",
   "name": "python",
   "nbconvert_exporter": "python",
   "pygments_lexer": "ipython3",
   "version": "3.10.11"
  }
 },
 "nbformat": 4,
 "nbformat_minor": 5
}
