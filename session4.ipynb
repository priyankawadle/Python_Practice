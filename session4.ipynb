{
 "cells": [
  {
   "cell_type": "code",
   "execution_count": 3,
   "id": "e4efca90-8343-4d3f-9c9a-aab0776f3f8e",
   "metadata": {},
   "outputs": [
    {
     "name": "stdin",
     "output_type": "stream",
     "text": [
      "Enter item name: sada\n",
      "Enter item name: nama\n",
      "Enter item name: quit\n"
     ]
    }
   ],
   "source": [
    "items_list=[]\n",
    "\n",
    "item=input(\"Enter item name:\")\n",
    "\n",
    "while item !=\"quit\":\n",
    "\n",
    "  items_list.append(item)\n",
    "  item=input(\"Enter item name:\")\n"
   ]
  },
  {
   "cell_type": "code",
   "execution_count": 8,
   "id": "2b62c583-1ce7-4c3b-a74d-7ad2d5cc0c80",
   "metadata": {},
   "outputs": [
    {
     "name": "stdin",
     "output_type": "stream",
     "text": [
      "Enter the input number: 5\n"
     ]
    },
    {
     "name": "stdout",
     "output_type": "stream",
     "text": [
      "Fibonacci Series is:  [0, 1, 1, 2, 3]\n"
     ]
    }
   ],
   "source": [
    "# Fibonacci series upto N terms\n",
    "a,b = 0,1\n",
    "n = int(input(\"Enter the input number:\"))\n",
    "fibonacci_series = []\n",
    "fibonacci_series.append(a)\n",
    "fibonacci_series.append(b)\n",
    "count = 2\n",
    "while count < n:\n",
    "    sum = a + b\n",
    "    fibonacci_series.append(sum)\n",
    "    a = b\n",
    "    b = sum\n",
    "    count = count +1\n",
    "print(\"Fibonacci Series is: \",fibonacci_series)"
   ]
  },
  {
   "cell_type": "code",
   "execution_count": 9,
   "id": "efecfd42-09d9-4733-bf6d-0f86aa1c605a",
   "metadata": {},
   "outputs": [
    {
     "name": "stdout",
     "output_type": "stream",
     "text": [
      "[1, 2, 3, 4, 5, 6, 7, 8, 9, 10, 11, 12, 13, 14, 15, 16, 17, 18, 19, 20]\n"
     ]
    }
   ],
   "source": [
    "#WAP to append to a list numbers from 1 to 20 in sequence\n",
    "\n",
    "list = []\n",
    "for each in range(1,20+1):\n",
    "    list.append(each)\n",
    "print(list)\n",
    "    "
   ]
  },
  {
   "cell_type": "code",
   "execution_count": 13,
   "id": "23f60913-8327-44b8-a5c6-3dff24e1fb2c",
   "metadata": {},
   "outputs": [
    {
     "name": "stdin",
     "output_type": "stream",
     "text": [
      "Enter the number: 10\n"
     ]
    },
    {
     "name": "stdout",
     "output_type": "stream",
     "text": [
      "[1, 2, 5, 10]\n"
     ]
    }
   ],
   "source": [
    "#WAP to input a number a number N, and print all divisors of N from 1 until 10\n",
    "\n",
    "num = int(input(\"Enter the number:\"))\n",
    "divisorlist = []\n",
    "for each in range(1,10+1):\n",
    "    if num % each == 0:\n",
    "        (divisorlist.append(each))\n",
    "print(divisorlist)"
   ]
  },
  {
   "cell_type": "code",
   "execution_count": null,
   "id": "5a1e8d3c-5ab8-42c6-befb-4ae02d29ce6a",
   "metadata": {},
   "outputs": [],
   "source": [
    "# Print numbers from 1 to 10 using a for loop.\n",
    "for each in range(1,10+1):\n",
    "    print(each)"
   ]
  },
  {
   "cell_type": "code",
   "execution_count": null,
   "id": "d9408294-ce39-41f5-8e17-8f6c1731a019",
   "metadata": {},
   "outputs": [],
   "source": []
  },
  {
   "cell_type": "code",
   "execution_count": null,
   "id": "61a07abd-8809-4d6c-9458-9d5813b4c627",
   "metadata": {},
   "outputs": [],
   "source": [
    "# Print the first 10 even numbers using a while loop.\n",
    "counter = 1\n",
    "number = 2\n",
    "while counter <= 10:\n",
    "    print(number)\n",
    "    number += 2  \n",
    "    counter += 1  \n",
    "\n",
    "print(\"Loop has ended.\")"
   ]
  },
  {
   "cell_type": "code",
   "execution_count": null,
   "id": "bfd6b8b4-f0ac-488e-9f91-a34c717ccec0",
   "metadata": {},
   "outputs": [],
   "source": []
  },
  {
   "cell_type": "code",
   "execution_count": null,
   "id": "2d499431-15a2-4300-af4e-5069b1b7b4f8",
   "metadata": {},
   "outputs": [],
   "source": []
  },
  {
   "cell_type": "code",
   "execution_count": null,
   "id": "81daa6e3-452c-4979-960c-cc9609ee7d6a",
   "metadata": {},
   "outputs": [],
   "source": []
  }
 ],
 "metadata": {
  "kernelspec": {
   "display_name": "anaconda-panel-2023.05-py310",
   "language": "python",
   "name": "conda-env-anaconda-panel-2023.05-py310-py"
  },
  "language_info": {
   "codemirror_mode": {
    "name": "ipython",
    "version": 3
   },
   "file_extension": ".py",
   "mimetype": "text/x-python",
   "name": "python",
   "nbconvert_exporter": "python",
   "pygments_lexer": "ipython3",
   "version": "3.11.5"
  }
 },
 "nbformat": 4,
 "nbformat_minor": 5
}
